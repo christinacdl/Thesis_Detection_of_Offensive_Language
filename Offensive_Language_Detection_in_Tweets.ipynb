{
  "cells": [
    {
      "cell_type": "markdown",
      "metadata": {
        "id": "view-in-github",
        "colab_type": "text"
      },
      "source": [
        "<a href=\"https://colab.research.google.com/github/christinacdl/Thesis_Detection_of_Offensive_Language/blob/main/Offensive_Language_Detection_in_Tweets.ipynb\" target=\"_parent\"><img src=\"https://colab.research.google.com/assets/colab-badge.svg\" alt=\"Open In Colab\"/></a>"
      ]
    },
    {
      "cell_type": "markdown",
      "metadata": {
        "id": "FACwM65GgUmP"
      },
      "source": [
        "# **OFFENSIVE LANGUAGE DETECTION IN TWEETS USING MACHINE LEARNING METHODS**"
      ]
    },
    {
      "cell_type": "markdown",
      "metadata": {
        "id": "EUBJaJU9gbW4"
      },
      "source": [
        "**National and Kapodistrian University of Athens**\n",
        "\n",
        "**Department of Informatics and Telecommunications**\n",
        "\n",
        "**Program of Postgraduate Studies: Language Technology**\n",
        "\n",
        "**Master's Thesis**\n",
        "\n",
        "**Christodoulou Christina**\n",
        "\n",
        "\n"
      ]
    },
    {
      "cell_type": "markdown",
      "source": [
        "## **ABSTRACT**\n",
        "---\n",
        "\n",
        "Undoubtedly, offensive language has become ubiquitous in social media over the last years due to the increasing popularity of social media platforms. The growing number of users that tend to post offensive content targeting individuals or groups has led to significant repercussions not only for the well-being of the targets, but also for society itself. This has raised concern in governments, social media companies as well as academic and social communities, who have made concerted efforts to curb the dissemination of offensive language online and create a safer digital space. Nevertheless, despite their endeavors, the need to rapidly process huge amounts of content in order to detect and report offensive language has made the development of machine learning systems more than imperative. Consequently, in the present thesis, three different machine learning models, which perform binary text classification, are introduced to detect offensive language in English texts from Twitter. The proposed models, which constitute two simple classifiers and a Bidirectional Stacked LSTM, utilize contextual embeddings pooled from BERT-LARGE-Uncased by fine-tuning its various layers on four training datasets combined in one. The data preparation process involved data cleaning and preprocessing as well as data down-sampling to handle class imbalance. The effectiveness of the proposed methods is evaluated on two available test sets, OLID 2019 and OLID 2020, based on six metrics, the learning curves of loss and accuracy as well. Comparative analysis between those methods demonstrates that the concatenation of the last four hidden layers of BERT fed in a classifier outperforms the other models by achieving 77.8% and 86.8% Macro-F1 scores in the two test sets respectively. Comparison with previous related methods indicates that, although the results are satisfactory, there is room for further experimentation and improvement in the future. \n",
        "\n",
        "\n",
        "**KEYWORDS:**\n",
        "\n",
        "Offensive Language Detection, Machine Learning, Deep Learning, Natural Language Processing, NLP, Text Classification, Twitter, Social Media \n"
      ],
      "metadata": {
        "id": "1uT-OgcixcjJ"
      }
    },
    {
      "cell_type": "code",
      "execution_count": null,
      "metadata": {
        "colab": {
          "base_uri": "https://localhost:8080/",
          "height": 87
        },
        "id": "nTxSzdd8mWE6",
        "outputId": "e6e02e4a-5565-49b2-abfb-788ccc71d132"
      },
      "outputs": [
        {
          "output_type": "execute_result",
          "data": {
            "text/plain": [
              "'\\n!pip install -U -q PyDrive\\nfrom pydrive.auth import GoogleAuth\\nfrom pydrive.drive import GoogleDrive\\nfrom google.colab import auth\\nfrom oauth2client.client import GoogleCredentials\\nfrom google.colab import drive\\nimport sys\\n\\n# Authenticate and create the PyDrive client.\\n# This only needs to be done once per notebook.\\nauth.authenticate_user()\\ngauth = GoogleAuth()\\ngauth.credentials = GoogleCredentials.get_application_default()\\ndrive = GoogleDrive(gauth)\\n'"
            ],
            "application/vnd.google.colaboratory.intrinsic+json": {
              "type": "string"
            }
          },
          "metadata": {},
          "execution_count": 1
        }
      ],
      "source": [
        "# Install the PyDrive wrapper & import libraries.\n",
        "# This only needs to be done once per notebook.\n",
        "'''\n",
        "!pip install -U -q PyDrive\n",
        "from pydrive.auth import GoogleAuth\n",
        "from pydrive.drive import GoogleDrive\n",
        "from google.colab import auth\n",
        "from oauth2client.client import GoogleCredentials\n",
        "from google.colab import drive\n",
        "import sys\n",
        "\n",
        "# Authenticate and create the PyDrive client.\n",
        "# This only needs to be done once per notebook.\n",
        "auth.authenticate_user()\n",
        "gauth = GoogleAuth()\n",
        "gauth.credentials = GoogleCredentials.get_application_default()\n",
        "drive = GoogleDrive(gauth)\n",
        "'''\n",
        "\n",
        "#drive.mount('/content/drive')\n",
        "#sys.path.insert(0,'/content/drive/MyDrive/ColabNotebooks/THESIS')"
      ]
    },
    {
      "cell_type": "code",
      "execution_count": 1,
      "metadata": {
        "colab": {
          "base_uri": "https://localhost:8080/"
        },
        "id": "9rR0B7T1lsus",
        "outputId": "c5d77e55-ae9d-48a7-f3fe-e39851324f45"
      },
      "outputs": [
        {
          "output_type": "stream",
          "name": "stdout",
          "text": [
            "Looking in indexes: https://pypi.org/simple, https://us-python.pkg.dev/colab-wheels/public/simple/\n",
            "Requirement already satisfied: torchtext in /usr/local/lib/python3.7/dist-packages (0.13.1)\n",
            "Collecting transformers\n",
            "  Downloading transformers-4.23.1-py3-none-any.whl (5.3 MB)\n",
            "\u001b[K     |████████████████████████████████| 5.3 MB 7.5 MB/s \n",
            "\u001b[?25hCollecting emoji\n",
            "  Downloading emoji-2.1.0.tar.gz (216 kB)\n",
            "\u001b[K     |████████████████████████████████| 216 kB 59.9 MB/s \n",
            "\u001b[?25hCollecting unidecode\n",
            "  Downloading Unidecode-1.3.6-py3-none-any.whl (235 kB)\n",
            "\u001b[K     |████████████████████████████████| 235 kB 79.2 MB/s \n",
            "\u001b[?25hCollecting ekphrasis\n",
            "  Downloading ekphrasis-0.5.4-py3-none-any.whl (83 kB)\n",
            "\u001b[K     |████████████████████████████████| 83 kB 3.0 MB/s \n",
            "\u001b[?25hRequirement already satisfied: requests in /usr/local/lib/python3.7/dist-packages (from torchtext) (2.23.0)\n",
            "Requirement already satisfied: numpy in /usr/local/lib/python3.7/dist-packages (from torchtext) (1.21.6)\n",
            "Requirement already satisfied: torch==1.12.1 in /usr/local/lib/python3.7/dist-packages (from torchtext) (1.12.1+cu113)\n",
            "Requirement already satisfied: tqdm in /usr/local/lib/python3.7/dist-packages (from torchtext) (4.64.1)\n",
            "Requirement already satisfied: typing-extensions in /usr/local/lib/python3.7/dist-packages (from torch==1.12.1->torchtext) (4.1.1)\n",
            "Requirement already satisfied: regex!=2019.12.17 in /usr/local/lib/python3.7/dist-packages (from transformers) (2022.6.2)\n",
            "Requirement already satisfied: pyyaml>=5.1 in /usr/local/lib/python3.7/dist-packages (from transformers) (6.0)\n",
            "Collecting tokenizers!=0.11.3,<0.14,>=0.11.1\n",
            "  Downloading tokenizers-0.13.1-cp37-cp37m-manylinux_2_17_x86_64.manylinux2014_x86_64.whl (7.6 MB)\n",
            "\u001b[K     |████████████████████████████████| 7.6 MB 73.3 MB/s \n",
            "\u001b[?25hRequirement already satisfied: importlib-metadata in /usr/local/lib/python3.7/dist-packages (from transformers) (4.13.0)\n",
            "Requirement already satisfied: packaging>=20.0 in /usr/local/lib/python3.7/dist-packages (from transformers) (21.3)\n",
            "Collecting huggingface-hub<1.0,>=0.10.0\n",
            "  Downloading huggingface_hub-0.10.1-py3-none-any.whl (163 kB)\n",
            "\u001b[K     |████████████████████████████████| 163 kB 77.0 MB/s \n",
            "\u001b[?25hRequirement already satisfied: filelock in /usr/local/lib/python3.7/dist-packages (from transformers) (3.8.0)\n",
            "Requirement already satisfied: pyparsing!=3.0.5,>=2.0.2 in /usr/local/lib/python3.7/dist-packages (from packaging>=20.0->transformers) (3.0.9)\n",
            "Requirement already satisfied: termcolor in /usr/local/lib/python3.7/dist-packages (from ekphrasis) (2.0.1)\n",
            "Collecting colorama\n",
            "  Downloading colorama-0.4.5-py2.py3-none-any.whl (16 kB)\n",
            "Requirement already satisfied: matplotlib in /usr/local/lib/python3.7/dist-packages (from ekphrasis) (3.2.2)\n",
            "Requirement already satisfied: nltk in /usr/local/lib/python3.7/dist-packages (from ekphrasis) (3.7)\n",
            "Requirement already satisfied: ujson in /usr/local/lib/python3.7/dist-packages (from ekphrasis) (5.5.0)\n",
            "Collecting ftfy\n",
            "  Downloading ftfy-6.1.1-py3-none-any.whl (53 kB)\n",
            "\u001b[K     |████████████████████████████████| 53 kB 1.5 MB/s \n",
            "\u001b[?25hRequirement already satisfied: wcwidth>=0.2.5 in /usr/local/lib/python3.7/dist-packages (from ftfy->ekphrasis) (0.2.5)\n",
            "Requirement already satisfied: zipp>=0.5 in /usr/local/lib/python3.7/dist-packages (from importlib-metadata->transformers) (3.9.0)\n",
            "Requirement already satisfied: kiwisolver>=1.0.1 in /usr/local/lib/python3.7/dist-packages (from matplotlib->ekphrasis) (1.4.4)\n",
            "Requirement already satisfied: cycler>=0.10 in /usr/local/lib/python3.7/dist-packages (from matplotlib->ekphrasis) (0.11.0)\n",
            "Requirement already satisfied: python-dateutil>=2.1 in /usr/local/lib/python3.7/dist-packages (from matplotlib->ekphrasis) (2.8.2)\n",
            "Requirement already satisfied: six>=1.5 in /usr/local/lib/python3.7/dist-packages (from python-dateutil>=2.1->matplotlib->ekphrasis) (1.15.0)\n",
            "Requirement already satisfied: joblib in /usr/local/lib/python3.7/dist-packages (from nltk->ekphrasis) (1.2.0)\n",
            "Requirement already satisfied: click in /usr/local/lib/python3.7/dist-packages (from nltk->ekphrasis) (7.1.2)\n",
            "Requirement already satisfied: urllib3!=1.25.0,!=1.25.1,<1.26,>=1.21.1 in /usr/local/lib/python3.7/dist-packages (from requests->torchtext) (1.24.3)\n",
            "Requirement already satisfied: certifi>=2017.4.17 in /usr/local/lib/python3.7/dist-packages (from requests->torchtext) (2022.9.24)\n",
            "Requirement already satisfied: chardet<4,>=3.0.2 in /usr/local/lib/python3.7/dist-packages (from requests->torchtext) (3.0.4)\n",
            "Requirement already satisfied: idna<3,>=2.5 in /usr/local/lib/python3.7/dist-packages (from requests->torchtext) (2.10)\n",
            "Building wheels for collected packages: emoji\n",
            "  Building wheel for emoji (setup.py) ... \u001b[?25l\u001b[?25hdone\n",
            "  Created wheel for emoji: filename=emoji-2.1.0-py3-none-any.whl size=212392 sha256=eb03bfafcea6a07c012f78dd4530fb211dbe85de6f523cb6a7b50176d8a5a42e\n",
            "  Stored in directory: /root/.cache/pip/wheels/77/75/99/51c2a119f4cfd3af7b49cc57e4f737bed7e40b348a85d82804\n",
            "Successfully built emoji\n",
            "Installing collected packages: tokenizers, huggingface-hub, ftfy, colorama, unidecode, transformers, emoji, ekphrasis\n",
            "Successfully installed colorama-0.4.5 ekphrasis-0.5.4 emoji-2.1.0 ftfy-6.1.1 huggingface-hub-0.10.1 tokenizers-0.13.1 transformers-4.23.1 unidecode-1.3.6\n"
          ]
        }
      ],
      "source": [
        "!pip install torchtext transformers emoji unidecode ekphrasis -U"
      ]
    },
    {
      "cell_type": "code",
      "execution_count": 2,
      "metadata": {
        "id": "XtTQQW5bl43a"
      },
      "outputs": [],
      "source": [
        "# Import necessary libraries\n",
        "import argparse\n",
        "import torch\n",
        "from torchtext import data, datasets\n",
        "import random\n",
        "import re \n",
        "import glob \n",
        "import spacy\n",
        "import string \n",
        "import time\n",
        "import emoji\n",
        "import pandas as pd  \n",
        "import seaborn as sns\n",
        "import math\n",
        "import numpy as np\n",
        "import nltk\n",
        "from tqdm import tqdm, trange\n",
        "import datetime\n",
        "import torch.nn as nn\n",
        "import torch.optim as optim\n",
        "import collections\n",
        "from sklearn.utils import resample\n",
        "from sklearn import metrics\n",
        "from sklearn.metrics import precision_recall_fscore_support as score\n",
        "from sklearn.metrics import accuracy_score, f1_score, precision_score, recall_score,  matthews_corrcoef\n",
        "from sklearn.metrics import classification_report\n",
        "from functools import reduce\n",
        "import os\n",
        "import copy\n",
        "from bs4 import BeautifulSoup\n",
        "import itertools\n",
        "from unidecode import unidecode\n",
        "from collections import OrderedDict\n",
        "from unidecode import unidecode\n",
        "from sklearn.model_selection import train_test_split\n",
        "from nltk.tokenize import TweetTokenizer\n",
        "from sklearn.metrics import precision_recall_fscore_support as score\n",
        "from sklearn.metrics import classification_report, confusion_matrix, accuracy_score, roc_curve, auc\n",
        "from torch.utils.data import Dataset, DataLoader \n",
        "from transformers import AdamW, get_linear_schedule_with_warmup, BertTokenizer, BertModel,BertConfig, AlbertConfig, AlbertModel, AlbertTokenizer, RobertaModel, RobertaTokenizer, RobertaConfig\n",
        "import matplotlib.pyplot as plt \n",
        "from ekphrasis.classes.preprocessor import TextPreProcessor\n",
        "from ekphrasis.classes.tokenizer import SocialTokenizer"
      ]
    },
    {
      "cell_type": "code",
      "execution_count": 3,
      "metadata": {
        "colab": {
          "base_uri": "https://localhost:8080/",
          "height": 139
        },
        "id": "ejhj5YNn3RYC",
        "outputId": "2b0d5680-f93f-4f05-f6d4-fdec58fc9250"
      },
      "outputs": [
        {
          "output_type": "execute_result",
          "data": {
            "text/plain": [
              "'|===========================================================================|\\n|                  PyTorch CUDA memory summary, device ID 0                 |\\n|---------------------------------------------------------------------------|\\n|            CUDA OOMs: 0            |        cudaMalloc retries: 0         |\\n|===========================================================================|\\n|        Metric         | Cur Usage  | Peak Usage | Tot Alloc  | Tot Freed  |\\n|---------------------------------------------------------------------------|\\n| Allocated memory      |       0 B  |       0 B  |       0 B  |       0 B  |\\n|       from large pool |       0 B  |       0 B  |       0 B  |       0 B  |\\n|       from small pool |       0 B  |       0 B  |       0 B  |       0 B  |\\n|---------------------------------------------------------------------------|\\n| Active memory         |       0 B  |       0 B  |       0 B  |       0 B  |\\n|       from large pool |       0 B  |       0 B  |       0 B  |       0 B  |\\n|       from small pool |       0 B  |       0 B  |       0 B  |       0 B  |\\n|---------------------------------------------------------------------------|\\n| GPU reserved memory   |       0 B  |       0 B  |       0 B  |       0 B  |\\n|       from large pool |       0 B  |       0 B  |       0 B  |       0 B  |\\n|       from small pool |       0 B  |       0 B  |       0 B  |       0 B  |\\n|---------------------------------------------------------------------------|\\n| Non-releasable memory |       0 B  |       0 B  |       0 B  |       0 B  |\\n|       from large pool |       0 B  |       0 B  |       0 B  |       0 B  |\\n|       from small pool |       0 B  |       0 B  |       0 B  |       0 B  |\\n|---------------------------------------------------------------------------|\\n| Allocations           |       0    |       0    |       0    |       0    |\\n|       from large pool |       0    |       0    |       0    |       0    |\\n|       from small pool |       0    |       0    |       0    |       0    |\\n|---------------------------------------------------------------------------|\\n| Active allocs         |       0    |       0    |       0    |       0    |\\n|       from large pool |       0    |       0    |       0    |       0    |\\n|       from small pool |       0    |       0    |       0    |       0    |\\n|---------------------------------------------------------------------------|\\n| GPU reserved segments |       0    |       0    |       0    |       0    |\\n|       from large pool |       0    |       0    |       0    |       0    |\\n|       from small pool |       0    |       0    |       0    |       0    |\\n|---------------------------------------------------------------------------|\\n| Non-releasable allocs |       0    |       0    |       0    |       0    |\\n|       from large pool |       0    |       0    |       0    |       0    |\\n|       from small pool |       0    |       0    |       0    |       0    |\\n|---------------------------------------------------------------------------|\\n| Oversize allocations  |       0    |       0    |       0    |       0    |\\n|---------------------------------------------------------------------------|\\n| Oversize GPU segments |       0    |       0    |       0    |       0    |\\n|===========================================================================|\\n'"
            ],
            "application/vnd.google.colaboratory.intrinsic+json": {
              "type": "string"
            }
          },
          "metadata": {},
          "execution_count": 3
        }
      ],
      "source": [
        "torch.cuda.empty_cache()\n",
        "os.environ['CUDA_LAUNCH_BLOCKING'] = \"1\"\n",
        "torch.cuda.memory_summary(device=None, abbreviated=False)"
      ]
    },
    {
      "cell_type": "code",
      "execution_count": 4,
      "metadata": {
        "colab": {
          "base_uri": "https://localhost:8080/"
        },
        "id": "qLXaKY8Q4Bhp",
        "outputId": "c21181c5-8138-4f07-ec0b-bbfbd2af81aa"
      },
      "outputs": [
        {
          "output_type": "stream",
          "name": "stdout",
          "text": [
            "There are 1 GPU(s) available.\n",
            "Device name: Tesla T4\n"
          ]
        }
      ],
      "source": [
        "# Set up GPU for Training\n",
        "if torch.cuda.is_available():       \n",
        "  device = torch.device('cuda')\n",
        "  print(f'There are {torch.cuda.device_count()} GPU(s) available.')\n",
        "  print('Device name:', torch.cuda.get_device_name(0))\n",
        "else:\n",
        "  print('No GPU available, using the CPU instead.')\n",
        "  device = torch.device('cpu')"
      ]
    },
    {
      "cell_type": "markdown",
      "metadata": {
        "id": "AXNpwvYSnVGi"
      },
      "source": [
        "**THE LABELS**"
      ]
    },
    {
      "cell_type": "code",
      "execution_count": 5,
      "metadata": {
        "colab": {
          "base_uri": "https://localhost:8080/"
        },
        "id": "kZQ3dJrFG0Yk",
        "outputId": "5eb36bb2-0315-46da-ea31-fe4a98482d12"
      },
      "outputs": [
        {
          "output_type": "stream",
          "name": "stdout",
          "text": [
            "{'NOT': 0, 'OFF': 1}\n"
          ]
        }
      ],
      "source": [
        "# Determine the number of labels in the data and map each of these labels to an index. There are 2 labels: Not Offensive (NOT) and Offensive (OFF)\n",
        "labels = {'NOT': 0 ,'OFF': 1}\n",
        "print(labels)"
      ]
    },
    {
      "cell_type": "markdown",
      "metadata": {
        "id": "-XuyrG5A5YtJ"
      },
      "source": [
        "**FUNCTIONS USED**"
      ]
    },
    {
      "cell_type": "code",
      "execution_count": 6,
      "metadata": {
        "id": "GbY13eW3o9YS"
      },
      "outputs": [],
      "source": [
        "# A function that sets seed for reproducibility\n",
        "def set_seed(seed_value): \n",
        "  random.seed(seed_value)\n",
        "  np.random.seed(seed_value)\n",
        "  torch.manual_seed(seed_value)\n",
        "  torch.cuda.manual_seed_all(seed_value)\n",
        "\n",
        "\n",
        "# A function that calculates time in seconds and returns a string in the form hh:mm:ss\n",
        "def calculate_time(elapsed_time):  \n",
        "    # Round to the nearest second\n",
        "    elapsed_rounded = int(round((elapsed_time)))  \n",
        "    # Format as hh:mm:ss\n",
        "    return str(datetime.timedelta(seconds=elapsed_rounded))\n",
        "\n",
        "\n",
        "# A function that calculates the trainable parameters of the model\n",
        "def count_parameters(model):\n",
        "    return sum(p.numel() for p in model.parameters() if p.requires_grad)\n",
        "\n",
        "\n",
        "# A function that checks if a directory exists else creates the directory \n",
        "def check_create_path(path): \n",
        "  if not os.path.exists(path):\n",
        "    os.makedirs(path)\n",
        "    print('Directory created at {}'.format(path))\n",
        "  else:\n",
        "    print('Directory {} already exists!'.format(path))\n",
        "\n",
        "\n",
        "# A function that reads a csv or tsv file, removes missing values and duplicates \n",
        "def read_a_file(filename):\n",
        "  \n",
        "  # Check first whether a certain file or directory exists\n",
        "  if os.path.exists(filename):\n",
        "    print('Current file opened: ',[os.path.join(filename, file) for file in glob.glob(filename)])\n",
        "    \n",
        "    # Find the file extension to open it properly\n",
        "    find_separator = {'.csv': ',', '.tsv': '\\t'}\n",
        "    basename, format = os.path.splitext(filename)\n",
        "    assert format in find_separator\n",
        "    separator = find_separator[format]\n",
        "\n",
        "    # Read different extensions of files using pandas with 2 different separators     \n",
        "    read_file = pd.read_csv(filename, sep = separator, encoding = 'utf-8')\n",
        "      \n",
        "    # Get the keys and their corresponding number of values\n",
        "    keys = read_file.keys() \n",
        "    for key in keys:\n",
        "      df_len = len(read_file[key].unique()) # the length of the unique values of each column\n",
        "      print('{0:25}{1:10}'.format(key,df_len))\n",
        "\n",
        "    # Remove missing values and keep the dataFrame with valid entries in the same variable\n",
        "    read_file.dropna(inplace = True) \n",
        "      \n",
        "    # Remove the index\n",
        "    read_file.reset_index(inplace = True, drop = True)\n",
        "\n",
        "    read_file.info()\n",
        "        \n",
        "    return read_file\n",
        "\n",
        "  else:\n",
        "    print('File or directory not accessible. Please check the entered path of the file.')"
      ]
    },
    {
      "cell_type": "code",
      "execution_count": 7,
      "metadata": {
        "colab": {
          "base_uri": "https://localhost:8080/"
        },
        "id": "j6z06eCB0n1P",
        "outputId": "f157bec4-bce6-488f-8008-1dd7fdf8f5f3"
      },
      "outputs": [
        {
          "output_type": "stream",
          "name": "stdout",
          "text": [
            "Word statistics files not found!\n",
            "Downloading... "
          ]
        },
        {
          "output_type": "stream",
          "name": "stderr",
          "text": [
            "/usr/local/lib/python3.7/dist-packages/ekphrasis/classes/tokenizer.py:225: FutureWarning: Possible nested set at position 2190\n",
            "  self.tok = re.compile(r\"({})\".format(\"|\".join(pipeline)))\n"
          ]
        },
        {
          "output_type": "stream",
          "name": "stdout",
          "text": [
            "done!\n",
            "Unpacking... done!\n",
            "Reading twitter - 1grams ...\n",
            "generating cache file for faster loading...\n",
            "reading ngrams /root/.ekphrasis/stats/twitter/counts_1grams.txt\n",
            "Reading twitter - 2grams ...\n",
            "generating cache file for faster loading...\n",
            "reading ngrams /root/.ekphrasis/stats/twitter/counts_2grams.txt\n",
            "Reading twitter - 1grams ...\n"
          ]
        },
        {
          "output_type": "stream",
          "name": "stderr",
          "text": [
            "/usr/local/lib/python3.7/dist-packages/ekphrasis/classes/exmanager.py:14: FutureWarning: Possible nested set at position 42\n",
            "  regexes = {k.lower(): re.compile(self.expressions[k]) for k, v in\n"
          ]
        }
      ],
      "source": [
        "# MY FUNCTIONS FOR DATA PREPROCESSING\n",
        "\n",
        "def emojis_into_text(sentence):\n",
        "  demojized_sent = emoji.demojize(sentence)\n",
        "  emoji_txt = re.sub(r':[\\S]+:', lambda x: x.group().replace('_', ' ').replace('-', ' ').replace(':', ''), demojized_sent)\n",
        "  return emoji_txt \n",
        "\n",
        "\n",
        "text_processor = TextPreProcessor(\n",
        "    # terms that will be normalized\n",
        "    #normalize = ['user'],\n",
        "    # terms that will be annotated\n",
        "    annotate = {'hashtag'},\n",
        "    #'allcaps', 'repeated', 'elongated'}, \n",
        "     \n",
        "    # corpus from which the word statistics are going to be used for word segmentation \n",
        "    segmenter = 'twitter', \n",
        "    \n",
        "    # corpus from which the word statistics are going to be used for spell correction\n",
        "    corrector = 'twitter', \n",
        "\n",
        "    fix_html = True,  # fix HTML tokens\n",
        "    fix_text = True,\n",
        "    unpack_hashtags = True,  # perform word segmentation on hashtags\n",
        "    unpack_contractions = True,  # Unpack contractions (can't -> can not)\n",
        "    spell_correct_elong = True,  # spell correction for elongated words\n",
        "    \n",
        "    tokenizer = SocialTokenizer(lowercase = True).tokenize)\n",
        "\n",
        "\n",
        "def preprocessing(text):\n",
        " \n",
        "  try:   # Remove the UTF-8 BOM (Byte Order Mark)\n",
        "    text = text.decode('utf-8-sig').replace(u'\\ufffd', '?') # The UTF-8 BOM is a sequence of bytes (EF BB BF) that allows the reader to identify a file as being encoded in UTF-8\n",
        "  except:\n",
        "    text = text\n",
        "  \n",
        "  # HTML encoding\n",
        "  soup = BeautifulSoup(text,'lxml') #HTML encoding has not been converted to text, and ended up in text field as ‘&amp’,’&quot’,etc.\n",
        "  text = soup.get_text()    \n",
        "  \n",
        "  # Replace the RT with whitespace \n",
        "  text = re.sub('RT @\\w+: ','', text)\n",
        "  \n",
        "  # Remove the @user tags  \n",
        "  text = re.sub(r'@[A-Za-z0-9_]+','', text)\n",
        "  \n",
        "  # Remove the url links\n",
        "  text = re.sub(r'http(s?)://[\\S]+','', text)\n",
        "  \n",
        "  # Remove the 'url' and 'html' word\n",
        "  url_words = ['url', 'URL', 'html', 'HTML', 'http', 'HTTP']   \n",
        "  for u in url_words:  \n",
        "    text = re.sub(u,'', text)\n",
        "  \n",
        "  # Convert the emojis into their textual representation\n",
        "  text = emojis_into_text(text)\n",
        "    \n",
        "  # Replace '&amp;' with 'and'\n",
        "  text = re.sub(r'&amp;','and', text)\n",
        "  text = re.sub(r'&','and', text)\n",
        " \n",
        "  # Replace the unicode apostrophe \n",
        "  text = re.sub(r\"’\",\"'\", text)\n",
        "  \n",
        "  # Replace consecutive non-ASCII characters with whitespace\n",
        "  text = re.sub(r'[^\\x00-\\x7F]+',' ', text)     \n",
        "\n",
        "  # Remove the extra whitespace \n",
        "  text = re.sub(r'\\s+', ' ', text)\n",
        "\n",
        "  # Apply the text processor from ekphrasis library\n",
        "  text = \" \".join(text_processor.pre_process_doc(text))\n",
        " \n",
        "  return text\n",
        "\n",
        "\n",
        "# Reads in file and returns a list of curse words\n",
        "def read_csv_curse_words():\n",
        "  curse_words = []\n",
        "  f = open('/content/drive/MyDrive/ColabNotebooks/THESIS/noswearingclean.csv', 'r')\n",
        "  translator = str.maketrans('', '', string.punctuation)\n",
        "  for line in f:\n",
        "    line = line.strip()\n",
        "    line = line.split(\",\")\n",
        "    word = line[0].translate(translator)\n",
        "    curse_words.append(word)\n",
        "  f.close()\n",
        "  return curse_words\n",
        "\n",
        "\n",
        "# Binary search for list of words\n",
        "def find(L, target):\n",
        "  start = 0\n",
        "  end = len(L) - 1\n",
        "  while start <= end:\n",
        "    middle = (start + end) // 2\n",
        "    midpoint = L[middle]\n",
        "    if midpoint > target:\n",
        "      end = middle - 1\n",
        "    elif midpoint < target:\n",
        "      start = middle + 1\n",
        "    else:\n",
        "      return True\n",
        "  return False\n",
        "\n",
        "\n",
        "# Returns a list of regexes\n",
        "def read_regex():\n",
        "  re_str = []\n",
        "  # Read in the lines from the regex input file.\n",
        "  with open('/content/drive/MyDrive/ColabNotebooks/THESIS/regexes.txt', 'r') as f:\n",
        "    for line in f:\n",
        "      re_str.append(line.split('\\n')[0])\n",
        "  f.close()\n",
        "\n",
        "  # From each regex string, create a tuple of the compiled regex and the dictionary-\n",
        "  # accurate label (i.e., what variants caught by that regex should be treated as)\n",
        "  regexes = []\n",
        "  for variant in re_str:\n",
        "    expr, label = variant.split(',')\n",
        "    regexes.append((re.compile(expr), label.strip()))\n",
        "  return regexes\n",
        "\n",
        "\n",
        "# Checks if word matches a regex and returns an empty string for no match and the collapsed word for a match\n",
        "def check_regex(word, regexes):\n",
        "  for expr in regexes:\n",
        "    if bool(re.fullmatch(expr[0], word)):\n",
        "      return expr[1]\n",
        "  return \"\"\n",
        "\n",
        "\n",
        "# Reads in file and creates dataframe\n",
        "def find_offensive_words(dataframe):\n",
        "\n",
        "  # Find the file extension to open it properly\n",
        "  find_separator = {'.csv': ',', '.tsv': '\\t'}\n",
        "  basename, format = os.path.splitext(dataframe)\n",
        "  assert format in find_separator\n",
        "  separator = find_separator[format]\n",
        "\n",
        "  training_dataset = pd.read_csv(dataframe, sep = separator, encoding = 'utf-8') \n",
        "  tweets = training_dataset['tweet'].astype(str)\n",
        "  curse_words = read_csv_curse_words()\n",
        "  regex_list = read_regex()\n",
        "  total_rows = training_dataset.shape[0]  # Total number of rows\n",
        "  swear_dict = {}  # Dictionary of swear words\n",
        "  count_vulgar_tweets = 0\n",
        "\n",
        "  for i in range(total_rows):\n",
        "    text = unidecode(tweets[i])\n",
        "    text = re.sub(r'\\s+', ' ', text).strip()\n",
        "    vulgar = False     \n",
        "    social_tokenizer = SocialTokenizer(lowercase = False).tokenize  \n",
        "    words = social_tokenizer(text) \n",
        "    insert_words = copy.deepcopy(words)\n",
        "    insert_idx = []\n",
        "\n",
        "    for j in range(len(words)):\n",
        "      if words[j] == '<hashtag>' or words[j] == '</hashtag>':\n",
        "        pass\n",
        "      else:  \n",
        "        stripped_word = words[j]\n",
        "        # If word is a dictionary match\n",
        "        if find(curse_words, stripped_word):\n",
        "          vulgar = True\n",
        "            \n",
        "          # Add swear words to dictionary\n",
        "          if stripped_word in swear_dict:\n",
        "            swear_dict[stripped_word] += 1\n",
        "          else:\n",
        "            swear_dict[stripped_word] = 1\n",
        "      \n",
        "          insert_words[j] = stripped_word      \n",
        "          insert_idx.append(j)\n",
        "\n",
        "        else:\n",
        "          # If not a dictionary match, check if regex match\n",
        "          regex_word = (check_regex(stripped_word, regex_list))\n",
        "          \n",
        "          if regex_word != '':\n",
        "            vulgar = True\n",
        "            insert_idx.append(j)        \n",
        "            if regex_word in swear_dict:\n",
        "              swear_dict[regex_word] += 1            \n",
        "              insert_words[j] = regex_word               \n",
        "            else:\n",
        "              swear_dict[regex_word] = 1\n",
        "                  \n",
        "          # If not a regex match, word is not vulgar  \n",
        "          else:\n",
        "            insert_words[j] = stripped_word\n",
        "\n",
        "    num_vulgar = len(insert_idx)\n",
        "\n",
        "    if vulgar:\n",
        "      count_vulgar_tweets += 1\n",
        "      if num_vulgar == 1:\n",
        "        insert_words.insert(insert_idx[0] + 1, '<OFF>')\n",
        "      else:\n",
        "        add_idx = 1\n",
        "        for k in range(num_vulgar):\n",
        "          insert_idx[k] += add_idx\n",
        "          add_idx += 1\n",
        "        for k in insert_idx:\n",
        "          insert_words.insert(k, '<OFF>')\n",
        "      \n",
        "    training_dataset.at[i, 'tweet'] = ' '.join(insert_words)  \n",
        "    \n",
        "  word_stats_sorted = OrderedDict(sorted(swear_dict.items(), key = lambda x: x[1], reverse = True))\n",
        "  word_stats_sorted = list(word_stats_sorted.items())\n",
        "\n",
        "  print('Total number of offensive tweets: {}'.format(count_vulgar_tweets))\n",
        "  print('Total number of tweets: {}'.format(total_rows))\n",
        "  print('Percent offensive: {} %'.format(round((count_vulgar_tweets/total_rows) * 100, 3)))\n",
        "  print('-----------------------------------------------------------------')\n",
        "  print('Top 10 words')\n",
        "  for i in range(10):\n",
        "    print(word_stats_sorted[i][0], ':', word_stats_sorted[i][1])\n",
        " \n",
        "  return training_dataset\n",
        "\n",
        "\n",
        "def select_to_get_offensive_words(file_directory, search_offensive_vocab = True):\n",
        "\n",
        "  if search_offensive_vocab:\n",
        "    print('Reading the file and searching for offensive vocabulary...')\n",
        "    dataset = find_offensive_words(file_directory)\n",
        "  else:\n",
        "    print('Reading the file...')\n",
        "    dataset = read_a_file(file_directory)\n",
        "  return dataset"
      ]
    },
    {
      "cell_type": "code",
      "execution_count": 8,
      "metadata": {
        "id": "-tk-HGOq4KBe"
      },
      "outputs": [],
      "source": [
        "# A function that splits the data into training and validation\n",
        "def data_splitting(dataframe, text_column, label_column, split_ratio):\n",
        "\n",
        "  x_train_texts, y_val_texts, x_train_labels, y_val_labels = train_test_split(dataframe[text_column], dataframe[label_column], \n",
        "                                                                              random_state = 42, \n",
        "                                                                              test_size = split_ratio, \n",
        "                                                                              stratify = dataframe[label_column])\n",
        "  print('Shape of x_train: ', x_train_texts.shape)\n",
        "  print('Shape of y_train: ', x_train_labels.shape)\n",
        "  print('Shape of x_validation:  ', y_val_texts.shape)\n",
        "  print('Shape of y_validation:  ', y_val_labels.shape)\n",
        "\n",
        "  return x_train_texts, y_val_texts, x_train_labels, y_val_labels\n",
        "\n",
        "\n",
        "# A class that creates the necessary input for a pretrained model \n",
        "class Data_Preparation(Dataset):\n",
        "  \n",
        "  def __init__(self, tweet, label, tokenizer, max_len):  \n",
        "    self.tweet = tweet\n",
        "    self.label = label\n",
        "    self.tokenizer = tokenizer\n",
        "    self.max_len = max_len\n",
        "        \n",
        "  def __len__(self):  \n",
        "    return len(self.tweet)\n",
        "\n",
        "  def __getitem__(self, index): \n",
        "\n",
        "    tweet = str(self.tweet[index])\n",
        "    tweet = \" \".join(tweet.split())\n",
        "\n",
        "    encoding = self.tokenizer.encode_plus(text = tweet,\n",
        "                                          text_pair = None,\n",
        "                                          add_special_tokens = True,      # Add [CLS] and [SEP]\n",
        "                                          max_length = self.max_len,      # Max length to pad\n",
        "                                          padding = 'max_length',         # Pad sentence according to max length  'max_length'\n",
        "                                          truncation = True,              # Truncate the sentences\n",
        "                                          return_token_type_ids = False,  # Do not return the ids of type tokens\n",
        "                                          return_attention_mask = True,   # Return attention mask\n",
        "                                          return_tensors = 'pt')          # Return PyTorch tensor\n",
        " \n",
        "    if self.label is None:\n",
        "      return {'input_ids': encoding['input_ids'].flatten(),  \n",
        "              'attention_mask': encoding['attention_mask'].flatten()}\n",
        "              \n",
        "              \n",
        "    else:\n",
        "      return {'input_ids': encoding['input_ids'].flatten(),\n",
        "              'attention_mask': encoding['attention_mask'].flatten(),\n",
        "              'label': torch.tensor(self.label[index], dtype = torch.float)}\n",
        "    \n",
        "\n",
        "def create_data_loader(df, tokenizer, max_len, batch_size, shuffle):\n",
        "  \n",
        "  data = Data_Preparation(tweet = df.tweet.to_numpy(),\n",
        "                          label = df.label.to_numpy(),\n",
        "                          tokenizer = tokenizer,\n",
        "                          max_len = max_len)\n",
        "\n",
        "  return DataLoader(data, batch_size = batch_size, pin_memory = True, shuffle = shuffle)"
      ]
    },
    {
      "cell_type": "markdown",
      "metadata": {
        "id": "esQKksQ3mGK7"
      },
      "source": [
        "- The `train_test_split` function from sklearn is used. \n",
        "- The text from the text column of the dataframe is given so as to uniquely identify each text sample.\n",
        "- The random split is based on the text and its label.\n",
        "- The data is split into a larger proportion for training and a smaller for validation in order to provide more data for training but adequate data for evaluation.\n",
        "- The `random_state` ensures that the splits that are generated are reproducible. Scikit-learn uses random permutations to generate the splits. The random state that is provided is used as a seed to the random number generator. This ensures that the random numbers are generated in the same order. When the `Random_state` is not defined in the code for every run, the train data will change and the metrics might change for every run. When the `Random_state` = _\"constant integer\"_ is defined, then the train data will be constant for every run so that it will facilitate debugging.\n",
        "- The `stratify` is used to ensure that both the training and the validation datasets contain the same percentage of classes. \n",
        "\n"
      ]
    },
    {
      "cell_type": "code",
      "execution_count": 9,
      "metadata": {
        "id": "0MnSxywz6nYE"
      },
      "outputs": [],
      "source": [
        "# A function that performs data splitting and creation of dataloaders\n",
        "def TweetSplitDataPreparation(dataframe, split_ratio, tokenizer, max_length, batch_size, split_data = True, make_dataloaders = True):\n",
        "\n",
        "  if split_data:\n",
        "    train_texts, validation_texts, train_labels, validation_labels = data_splitting(dataframe, 'tweet', 'label', split_ratio = split_ratio)\n",
        "\n",
        "    # Create a train and validation dataframe with texts and their labels \n",
        "    train_df = pd.concat([train_texts,train_labels], axis = 1)\n",
        "    validation_df = pd.concat([validation_texts,validation_labels], axis = 1 )\n",
        "    print('Dataset split into train and validation sets using {} split ratio.'.format(split_ratio))\n",
        "\n",
        "    # Save the dataframes into tsv form for future use\n",
        "    #train_df.to_csv(args['train_data_directory'] + 'my_training_set.tsv', encoding = 'utf-8', index = False, header = True, sep ='\\t')\n",
        "    #val_df.to_csv(args['train_data_directory'] + 'my_validation_set.tsv', encoding = 'utf-8', index = False, header = True, sep ='\\t')\n",
        "    #print('\\nTrain and validation data saved in tsv form for future use.')\n",
        "\n",
        "    if make_dataloaders:\n",
        "      train_dataloader = create_data_loader(df = train_df, tokenizer = tokenizer, max_len = max_length, batch_size = batch_size, shuffle = True)\n",
        "      val_dataloader = create_data_loader(df = validation_df, tokenizer = tokenizer, max_len = max_length, batch_size = batch_size, shuffle = False) \n",
        "      print('The train and validation dataloaders are ready for training and evaluation.')\n",
        "      return train_dataloader, val_dataloader\n",
        "    else:\n",
        "      return train_df, validation_df\n",
        "   \n",
        "  else:    \n",
        "    train_dataloader = create_data_loader(df = dataframe, tokenizer = tokenizer, max_len = max_length, batch_size = batch_size, shuffle = True)\n",
        "    val_dataloader = None\n",
        "    print('The dataframe is not split into train and validation sets.The dataframe converted to train dataloader for training.')\n",
        "    return train_dataloader, val_dataloader"
      ]
    },
    {
      "cell_type": "code",
      "execution_count": 10,
      "metadata": {
        "id": "HgZqOgJ3lFAU"
      },
      "outputs": [],
      "source": [
        "# A function that saves a pretrained model\n",
        "def save_model(model, experiment_name, model_output_dir): \n",
        "  if not os.path.exists(model_output_dir):\n",
        "    os.makedirs(model_output_dir)\n",
        "  output_model_file = os.path.join(model_output_dir, experiment_name)\n",
        "  model_to_save = model.module if hasattr(model, 'module') else model # Take care of distributed/parallel training\n",
        "  torch.save(model_to_save.state_dict(), output_model_file)\n",
        "  torch.save(model_to_save, output_model_file)\n",
        "  #print('Model saved to {} as {}'.format(model_output_dir, experiment_name))\n",
        "\n",
        "# A function that loads a pretrained model\n",
        "def load_saved_model(defined_model, experiment_name, model_output_dir):\n",
        "  saved_model_path = os.path.join(model_output_dir, experiment_name)\n",
        "  if experiment_name.endswith('.pth'):\n",
        "    loaded_model = defined_model.load_state_dict(torch.load(saved_model_path))\n",
        "    print('Model loaded successfully')\n",
        "  if experiment_name.endswith('.pt'):\n",
        "    loaded_model  = torch.load(saved_model_path)\n",
        "    print('Model loaded successfully') \n",
        "  else:\n",
        "    print('No such model found.') \n",
        "  return loaded_model "
      ]
    },
    {
      "cell_type": "code",
      "execution_count": 11,
      "metadata": {
        "id": "GggE6rXm2TP9"
      },
      "outputs": [],
      "source": [
        "#=== METRICS CALCULATION ===\n",
        "\n",
        "# Calculates the accuracy per batch, used in the train_model and evaluate_model functions \n",
        "def accuracy(preds, y_true):\n",
        "  probs = torch.sigmoid(preds.unsqueeze(-1))\n",
        "  soft_probs = (probs > 0.5).long()\n",
        "  acc = (soft_probs.squeeze() == y_true).float().mean()\n",
        "  return acc\n",
        "\n",
        "\n",
        "def plot_roc_curve(true, preds): \n",
        "  fpr, tpr, threshold = metrics.roc_curve(true, preds)\n",
        "  roc_auc = metrics.auc(fpr, tpr)\n",
        "  lw = 2\n",
        "  # Plot all ROC curves\n",
        "  plt.figure()\n",
        "  plt.plot(fpr, tpr, color='darkorange', lw=lw, label='ROC curve (area = %0.2f)' % roc_auc)\n",
        "  plt.plot([0, 1], [0, 1], color='navy', lw=lw, linestyle='--')\n",
        "  plt.xlim([0.0, 1.0])\n",
        "  plt.ylim([0.0, 1.05])\n",
        "  plt.xlabel('False Positive Rate')\n",
        "  plt.ylabel('True Positive Rate')\n",
        "  plt.title('Receiver Operating Characteristic')\n",
        "  plt.legend(loc='lower right')\n",
        "  plt.show()\n",
        "\n",
        "\n",
        "# A function that plots the confusion matrix with colors and titles \n",
        "def show_confusion_matrix(true, predicted, class_names):\n",
        "  cm = confusion_matrix(true, predicted, normalize='all')\n",
        "  df_cm = pd.DataFrame(cm, index = class_names, columns = class_names)\n",
        "  ax = sns.heatmap(df_cm/np.sum(df_cm), annot=True, fmt='.2%', cmap='Blues', cbar=False)\n",
        "  ax.set_title('Confusion Matrix with labels\\n\\n');\n",
        "  ax.set_xlabel('\\nPredicted Values')\n",
        "  ax.set_ylabel('Actual Values ');\n",
        "  # Ticket labels - List must be in alphabetical order\n",
        "  ax.yaxis.set_ticklabels(ax.yaxis.get_ticklabels(), rotation=0, ha='right')\n",
        "  ax.xaxis.set_ticklabels(ax.xaxis.get_ticklabels(), rotation=30, ha='right')\n",
        "  # Display the visualization of the Confusion Matrix.\n",
        "  plt.show()\n",
        "\n",
        "\n",
        "def show_confusion_matrix1(true, predicted, class_names):\n",
        "  cm = confusion_matrix(true, predicted, normalize='all')\n",
        "  df_cm = pd.DataFrame(cm, index = class_names, columns = class_names)\n",
        "  ax = sns.heatmap(df_cm/np.sum(df_cm), annot=True, fmt='d', cmap='Blues', cbar=False)\n",
        "  ax.set_title('Confusion Matrix with labels\\n\\n');\n",
        "  ax.set_xlabel('\\nPredicted Values')\n",
        "  ax.set_ylabel('Actual Values ');\n",
        "  # Ticket labels - List must be in alphabetical order\n",
        "  ax.yaxis.set_ticklabels(ax.yaxis.get_ticklabels(), rotation=0, ha='right')\n",
        "  ax.xaxis.set_ticklabels(ax.xaxis.get_ticklabels(), rotation=30, ha='right')\n",
        "  # Display the visualization of the Confusion Matrix.\n",
        "  plt.show()\n",
        "\n",
        "\n",
        "# A function that calculates all the metrics using the validation/test set\n",
        "def calculate_metrics(y_true, preds):  \n",
        "  print('\\nCalculating metrics...')\n",
        "  assert len(preds) == len(y_true)\n",
        "\n",
        "  # Calculate the accuracy of the model \n",
        "  acc = accuracy_score(y_true, preds)\n",
        "\n",
        "  # Calculate the Matthews Correlation Coefficient  \n",
        "  # -1 indicates total disagreement between predicted classes and actual classes\n",
        "  # 0 is synonymous with completely random guessing\n",
        "  # 1 indicates total agreement between predicted classes and actual classes\n",
        "  mcc = matthews_corrcoef(y_true, preds)\n",
        "\n",
        "  # Calculate model's metrics\n",
        "  model_f1_score = f1_score(y_true, preds, average = 'macro')\n",
        "  model_precision = precision_score(y_true, preds, average = 'macro')\n",
        "  model_recall = recall_score(y_true, preds, average = 'macro')\n",
        "  \n",
        "  # Calculate general precision, recall, F1 score of each class\n",
        "  precision, recall, fscore, support = score(y_true, preds)\n",
        "  print('Accuracy: {}'.format(acc))\n",
        "  print('F1 score: {}'.format(model_f1_score))\n",
        "  print('Precision: {}'.format(model_precision))\n",
        "  print('Recall : {}'.format(model_recall))\n",
        "  print('Matthews Correlation Coefficient: {}'.format(mcc))\n",
        "  print('\\nPrecision of each class: {}'.format(precision))\n",
        "  print('Recall of each class: {}'.format(recall))\n",
        "  print('F1 score of each class: {}'.format(fscore))\n",
        "  print('Support: {}'.format(support))\n",
        "\n",
        "  # Print the classification report\n",
        "  class_names = ['NOT', 'OFF']\n",
        "  print(classification_report(y_true, preds, target_names = class_names))\n",
        "  \n",
        "  # Create the confusion matrix \n",
        "  show_confusion_matrix(y_true, preds, class_names)\n",
        "\n",
        "  show_confusion_matrix1(y_true, preds, class_names)\n",
        "\n",
        "  # Plot the Receiver Operating Characteristic (ROC curve)\n",
        "  plot_roc_curve(y_true, preds)"
      ]
    },
    {
      "cell_type": "code",
      "execution_count": 12,
      "metadata": {
        "id": "8TWMGNfvJl7b"
      },
      "outputs": [],
      "source": [
        "# A function that evaluates a trained model\n",
        "def test(model, test_dataloader):\n",
        "    \n",
        "  print('Predicting labels for {} test sentences...'.format(len(test_dataloader)))\n",
        "  \n",
        "  # Initialize empty lists to store the true values and the predicted values\n",
        "  true_labels = []\n",
        "  predictions = []\n",
        "\n",
        "  model.eval()\n",
        "\n",
        "  with torch.no_grad():\n",
        "  \n",
        "    for batch in tqdm(test_dataloader, desc = 'Evaluation iteration'):   \n",
        "      input_ids = batch['input_ids'].to(device)\n",
        "      attention_masks = batch['attention_mask'].to(device)\n",
        "      labels = batch['label'].to(device)\n",
        "      \n",
        "      # Get the predictions\n",
        "      outputs = model(input_ids, attention_masks)\n",
        "\n",
        "      predictions += torch.round(torch.sigmoid(outputs)).flatten().cpu().numpy().tolist()\n",
        "      true_labels += labels.flatten().cpu().numpy().tolist()\n",
        "\n",
        "  # Calculate the metrics to evaluate model performance\n",
        "  calculate_metrics(true_labels, predictions)\n",
        "\n",
        "  return true_labels, predictions"
      ]
    },
    {
      "cell_type": "markdown",
      "metadata": {
        "id": "vAUQwPAs4J-4"
      },
      "source": [
        "**NECESSARY & IMPORTANT PARAMETERS**"
      ]
    },
    {
      "cell_type": "code",
      "execution_count": 13,
      "metadata": {
        "colab": {
          "base_uri": "https://localhost:8080/"
        },
        "id": "atKcsny2LxO5",
        "outputId": "5ce6812f-d26f-4cd6-c642-25a463c3dcfd"
      },
      "outputs": [
        {
          "output_type": "stream",
          "name": "stdout",
          "text": [
            "================ Offensive Language Detection in Tweets using Machine Learning Methods ================\n",
            "\n",
            "Output directory: /content/drive/MyDrive/ColabNotebooks/THESIS/Models_dir/BERT-Classifier_1/\n",
            "Model Name: bert-large-uncased\n",
            "Output Directory: /content/drive/MyDrive/ColabNotebooks/THESIS/Models_dir/BERT-Classifier_1/bert-large-uncased/\n",
            "\n",
            "Checking that the necessary paths exist...\n",
            "Directory /content/drive/MyDrive/ColabNotebooks/THESIS/train_files/ already exists!\n",
            "Directory /content/drive/MyDrive/ColabNotebooks/THESIS/test_files/ already exists!\n",
            "Directory /content/drive/MyDrive/ColabNotebooks/THESIS/Models_dir/BERT-Classifier_1/ already exists!\n",
            "Directory /content/drive/MyDrive/ColabNotebooks/THESIS/Models_dir/BERT-Classifier_1/bert-large-uncased/ already exists!\n"
          ]
        }
      ],
      "source": [
        "dict_bert_model_names = {1: 'bert-base-uncased',\n",
        "                         2: 'bert-large-uncased'} \n",
        "                    \n",
        "dict_albert_model_names = {1: 'albert-base-v1',\n",
        "                           2: 'albert-base-v2',\n",
        "                           3: 'albert-xlarge-v1',\n",
        "                           4: 'albert-xlarge-v2',\n",
        "                           5: 'albert-xxlarge-v1',\n",
        "                           6: 'albert-xxlarge-v2'}\n",
        "\n",
        "dict_roberta_model_names = {1: 'roberta-base',\n",
        "                            2: 'roberta-large'} \n",
        "\n",
        "cell_types = {1: 'LSTM',\n",
        "              2: 'GRU'}                 \n",
        "                           \n",
        "args = {'task_name': 'Offensive Language Detection in Tweets using Machine Learning Methods',\n",
        "        'train_data_directory': '/content/drive/MyDrive/ColabNotebooks/THESIS/train_files/',\n",
        "        'test_data_directory': '/content/drive/MyDrive/ColabNotebooks/THESIS/test_files/',\n",
        "        'output_model_directory': '/content/drive/MyDrive/ColabNotebooks/THESIS/Models_dir/BERT-Classifier_1/', \n",
        "        'model_type':  'bert',   # Write the model's name (Bert/Albert/Roberta)\n",
        "        'model_name': str(dict_bert_model_names[2]),   # Change the index to train with the model of your choice   \n",
        "        'cache_dir': 'cache/',\n",
        "        'num_classes': 1,   # Binary classification      \n",
        "        'cell_type': str(cell_types[1]),   # Change the index to train with the model with the RNN cell type of your choice \n",
        "        'num_layers': 2,  \n",
        "        'dropout': 0.1,\n",
        "        'max_seq_length': 280,   \n",
        "        'data_split_ratio': 0.2,  \n",
        "        'batch_size': 12,  \n",
        "        'num_train_epochs': 10,\n",
        "        'warmup_steps': 0,  \n",
        "        'max_grad_norm' : 1.0, \n",
        "        'weight_decay':  0.01,   # Weight decay is a form of regularization to lower the chance of overfitting \n",
        "        'learning_rate': 2e-5,   # Suggested learning rates for BERT fine-tuning: 2e-5, 3e-5, 5e-5\n",
        "        'adam_epsilon': 1e-2,    # The bias correction term (Default: 1e-8)\n",
        "        'seed': 42}\n",
        "\n",
        "print('================',str(args['task_name']),'================\\n')\n",
        "\n",
        "# Get the directory names and the specific model used \n",
        "print('Output directory: ' + str(args['output_model_directory']))\n",
        "print('Model Name: ' + str(args['model_name']))\n",
        "args['output_specific_model_dir'] = args['output_model_directory'] + args['model_name'] + '/'\n",
        "print('Output Directory: ' + str(args['output_specific_model_dir']))\n",
        "\n",
        "# Check whether the directories exist else create them\n",
        "print('\\nChecking that the necessary paths exist...')\n",
        "check_create_path(args['train_data_directory'])\n",
        "check_create_path(args['test_data_directory'])\n",
        "check_create_path(args['output_model_directory'])\n",
        "check_create_path(args['output_specific_model_dir'])\n",
        "\n",
        "MODEL_CLASSES = {'bert': (BertConfig, BertModel, BertTokenizer),\n",
        "                 'albert': (AlbertConfig, AlbertModel, AlbertTokenizer),\n",
        "                 'roberta': (RobertaConfig, RobertaModel, RobertaTokenizer)}\n",
        "\n",
        "config_class, model_class, tokenizer_class = MODEL_CLASSES[args['model_type']]"
      ]
    },
    {
      "cell_type": "markdown",
      "metadata": {
        "id": "qQmGIWT2i_Gy"
      },
      "source": [
        "**INITIALIZE THE PRETRAINED MODEL AND ITS TOKENIZER**"
      ]
    },
    {
      "cell_type": "code",
      "execution_count": 14,
      "metadata": {
        "colab": {
          "base_uri": "https://localhost:8080/",
          "height": 234,
          "referenced_widgets": [
            "791151e9eef549129f8f26e57036fdcb",
            "f575afb4211b4f7e899ec5d9506e5008",
            "aaed11716297448e81dfd6eceaed197f",
            "ab1886c3defb48f98c9fa61e2a33e022",
            "49cbc5c1f6fa496d9b1596320ab694c6",
            "5e7b97ff573342928278ed5f89207be8",
            "8bc015ee368f40ca9250f1ebf5bfca54",
            "1b22e518f61447158d1c0b231e9fd090",
            "89f99f783ddb4fcf8326a859a9756bf1",
            "7a2311ff61cd414a8a46cbfffe11f860",
            "4d9dc50af12c48119f3ccc3281a521f0",
            "7998f247f6ad4eb694f7c2c9177c8792",
            "575e36c0eb924b70872954122dcd67f7",
            "78a5907f5e25463c8723fc7a8f608edc",
            "a7be5d973dbd45739b4842fc79f24da7",
            "6b34d1209b0e44b08a216f64133ebd79",
            "9343c78da89e4a63ac82735cc23da6d4",
            "f8211301d8bf4e669ac9b9f06f4bd818",
            "d3cb698bc9e3460aa42ab7e208099ef2",
            "5eedda378c0d4602a2b298dddb60c79c",
            "fbdb579dbde74a628cffee01cbfe3463",
            "df7956300fa148498bce5c6991992796",
            "18abe435359540e28d208d9395fff1c6",
            "a62a0a9185cd4840bec94f73f1d0827a",
            "2e3a18da113f4ea8bae99634dfb0a1c0",
            "2ecdb045a6944278a65cb75cc826f9bd",
            "c18f310c9f91472c86885e6fd0998a2e",
            "86c42249e0c742d39eaad59cbb668b5a",
            "e8d97754dd8e4476974e1f63d636b9f7",
            "80362a92b7694f138d2afa8000cec1d7",
            "59e392c2f5ff4350b774fb468c23bbeb",
            "49c1e6c1f5624328a5db7cdff9bc53ea",
            "f2e85b1c709643da8ec40b9d68c27798",
            "7fef27d588e743ceb53f4270237fec70",
            "2172554384744eb48b1b64adc9326bbd",
            "038777d6c6bf4d9aa6b4c57022ee5dd0",
            "67559e2951b34393aa2ab889737db0f1",
            "8c03de02e4cc4bf6b7e95d5be23017a8",
            "43a4be1e981d4b4d9eb13d1c492a7a2c",
            "dfedb763806f4077ac271802ba6481aa",
            "adcdba789d724ace8314fa64fd281182",
            "7e7c94a4296e43abbeff2bd5d650323f",
            "4d2927db33de48e58b791c55b6b08b5d",
            "dbb7c9d68b764dc788fc366f4faa4231"
          ]
        },
        "id": "2VxuPzcAXyro",
        "outputId": "8a624532-76bc-4361-dfc5-40d0aa073f49"
      },
      "outputs": [
        {
          "output_type": "display_data",
          "data": {
            "text/plain": [
              "Downloading:   0%|          | 0.00/571 [00:00<?, ?B/s]"
            ],
            "application/vnd.jupyter.widget-view+json": {
              "version_major": 2,
              "version_minor": 0,
              "model_id": "791151e9eef549129f8f26e57036fdcb"
            }
          },
          "metadata": {}
        },
        {
          "output_type": "display_data",
          "data": {
            "text/plain": [
              "Downloading:   0%|          | 0.00/232k [00:00<?, ?B/s]"
            ],
            "application/vnd.jupyter.widget-view+json": {
              "version_major": 2,
              "version_minor": 0,
              "model_id": "7998f247f6ad4eb694f7c2c9177c8792"
            }
          },
          "metadata": {}
        },
        {
          "output_type": "display_data",
          "data": {
            "text/plain": [
              "Downloading:   0%|          | 0.00/28.0 [00:00<?, ?B/s]"
            ],
            "application/vnd.jupyter.widget-view+json": {
              "version_major": 2,
              "version_minor": 0,
              "model_id": "18abe435359540e28d208d9395fff1c6"
            }
          },
          "metadata": {}
        },
        {
          "output_type": "display_data",
          "data": {
            "text/plain": [
              "Downloading:   0%|          | 0.00/1.34G [00:00<?, ?B/s]"
            ],
            "application/vnd.jupyter.widget-view+json": {
              "version_major": 2,
              "version_minor": 0,
              "model_id": "7fef27d588e743ceb53f4270237fec70"
            }
          },
          "metadata": {}
        },
        {
          "output_type": "stream",
          "name": "stderr",
          "text": [
            "Some weights of the model checkpoint at bert-large-uncased were not used when initializing BertModel: ['cls.seq_relationship.bias', 'cls.predictions.transform.dense.bias', 'cls.predictions.transform.LayerNorm.bias', 'cls.seq_relationship.weight', 'cls.predictions.transform.LayerNorm.weight', 'cls.predictions.decoder.weight', 'cls.predictions.bias', 'cls.predictions.transform.dense.weight']\n",
            "- This IS expected if you are initializing BertModel from the checkpoint of a model trained on another task or with another architecture (e.g. initializing a BertForSequenceClassification model from a BertForPreTraining model).\n",
            "- This IS NOT expected if you are initializing BertModel from the checkpoint of a model that you expect to be exactly identical (initializing a BertForSequenceClassification model from a BertForSequenceClassification model).\n"
          ]
        },
        {
          "output_type": "execute_result",
          "data": {
            "text/plain": [
              "Embedding(30525, 1024)"
            ]
          },
          "metadata": {},
          "execution_count": 14
        }
      ],
      "source": [
        "# Set seed for reproducibility\n",
        "set_seed(args['seed'])\n",
        "\n",
        "config = config_class.from_pretrained(args['model_name'], \n",
        "                                      num_labels = args['num_classes'],                                     \n",
        "                                      finetuning_task = args['task_name']) \n",
        "\n",
        "tokenizer = tokenizer_class.from_pretrained(args['model_name'],\n",
        "                                            do_lower_case = False)\n",
        "\n",
        "tokenizer.add_tokens(['<OFF>', '<hashtag>', '</hashtag>'], special_tokens = True)\n",
        "\n",
        "the_pretrained_model = model_class.from_pretrained(args['model_name'], \n",
        "                                                   num_labels = args['num_classes'], # The number of output labels\n",
        "                                                   output_attentions = False,        # Whether the model returns attentions weights\n",
        "                                                   output_hidden_states = True)      # Whether the model returns all hidden-states\n",
        "\n",
        "# If model is BIDIRECTIONAL_RNN_LSTM_GRU or ClassifierConcatLast4HiddenStates set output_hidden_states = True\n",
        "# If model is ClassifierLastHiddenState set output_hidden_states = False\n",
        "\n",
        "the_pretrained_model.resize_token_embeddings(len(tokenizer))                                                    "
      ]
    },
    {
      "cell_type": "markdown",
      "metadata": {
        "id": "p37k60h8vWBq"
      },
      "source": [
        "**LOAD AND PREPARE THE TRAIN DATASETS**"
      ]
    },
    {
      "cell_type": "code",
      "execution_count": null,
      "metadata": {
        "colab": {
          "base_uri": "https://localhost:8080/",
          "height": 694
        },
        "id": "OH-GKrLhncEJ",
        "outputId": "ac9cec9d-cf87-4530-b148-ab12bc76ca7c"
      },
      "outputs": [
        {
          "output_type": "stream",
          "name": "stdout",
          "text": [
            "Number of duplicates in the file: 33\n",
            "NOT    8815\n",
            "OFF    4392\n",
            "Name: label, dtype: int64\n"
          ]
        },
        {
          "output_type": "execute_result",
          "data": {
            "text/plain": [
              "                                               tweet label\n",
              "0  @USER She should ask a few native Americans wh...   OFF\n",
              "1  @USER @USER Go home you’re drunk!!! @USER #MAG...   OFF\n",
              "2  Amazon is investigating Chinese employees who ...   NOT\n",
              "3  @USER Someone should'veTaken\" this piece of sh...   OFF\n",
              "4  @USER @USER Obama wanted liberals &amp; illega...   NOT\n",
              "5                  @USER Liberals are all Kookoo !!!   OFF\n",
              "6                   @USER @USER Oh noes! Tough shit.   OFF\n",
              "7  @USER was literally just talking about this lo...   OFF\n",
              "8                         @USER Buy more icecream!!!   NOT\n",
              "9  @USER Canada doesn’t need another CUCK! We alr...   OFF"
            ],
            "text/html": [
              "\n",
              "  <div id=\"df-2bfa990a-4803-4cc4-af4d-a3d44c80141a\">\n",
              "    <div class=\"colab-df-container\">\n",
              "      <div>\n",
              "<style scoped>\n",
              "    .dataframe tbody tr th:only-of-type {\n",
              "        vertical-align: middle;\n",
              "    }\n",
              "\n",
              "    .dataframe tbody tr th {\n",
              "        vertical-align: top;\n",
              "    }\n",
              "\n",
              "    .dataframe thead th {\n",
              "        text-align: right;\n",
              "    }\n",
              "</style>\n",
              "<table border=\"1\" class=\"dataframe\">\n",
              "  <thead>\n",
              "    <tr style=\"text-align: right;\">\n",
              "      <th></th>\n",
              "      <th>tweet</th>\n",
              "      <th>label</th>\n",
              "    </tr>\n",
              "  </thead>\n",
              "  <tbody>\n",
              "    <tr>\n",
              "      <th>0</th>\n",
              "      <td>@USER She should ask a few native Americans wh...</td>\n",
              "      <td>OFF</td>\n",
              "    </tr>\n",
              "    <tr>\n",
              "      <th>1</th>\n",
              "      <td>@USER @USER Go home you’re drunk!!! @USER #MAG...</td>\n",
              "      <td>OFF</td>\n",
              "    </tr>\n",
              "    <tr>\n",
              "      <th>2</th>\n",
              "      <td>Amazon is investigating Chinese employees who ...</td>\n",
              "      <td>NOT</td>\n",
              "    </tr>\n",
              "    <tr>\n",
              "      <th>3</th>\n",
              "      <td>@USER Someone should'veTaken\" this piece of sh...</td>\n",
              "      <td>OFF</td>\n",
              "    </tr>\n",
              "    <tr>\n",
              "      <th>4</th>\n",
              "      <td>@USER @USER Obama wanted liberals &amp;amp; illega...</td>\n",
              "      <td>NOT</td>\n",
              "    </tr>\n",
              "    <tr>\n",
              "      <th>5</th>\n",
              "      <td>@USER Liberals are all Kookoo !!!</td>\n",
              "      <td>OFF</td>\n",
              "    </tr>\n",
              "    <tr>\n",
              "      <th>6</th>\n",
              "      <td>@USER @USER Oh noes! Tough shit.</td>\n",
              "      <td>OFF</td>\n",
              "    </tr>\n",
              "    <tr>\n",
              "      <th>7</th>\n",
              "      <td>@USER was literally just talking about this lo...</td>\n",
              "      <td>OFF</td>\n",
              "    </tr>\n",
              "    <tr>\n",
              "      <th>8</th>\n",
              "      <td>@USER Buy more icecream!!!</td>\n",
              "      <td>NOT</td>\n",
              "    </tr>\n",
              "    <tr>\n",
              "      <th>9</th>\n",
              "      <td>@USER Canada doesn’t need another CUCK! We alr...</td>\n",
              "      <td>OFF</td>\n",
              "    </tr>\n",
              "  </tbody>\n",
              "</table>\n",
              "</div>\n",
              "      <button class=\"colab-df-convert\" onclick=\"convertToInteractive('df-2bfa990a-4803-4cc4-af4d-a3d44c80141a')\"\n",
              "              title=\"Convert this dataframe to an interactive table.\"\n",
              "              style=\"display:none;\">\n",
              "        \n",
              "  <svg xmlns=\"http://www.w3.org/2000/svg\" height=\"24px\"viewBox=\"0 0 24 24\"\n",
              "       width=\"24px\">\n",
              "    <path d=\"M0 0h24v24H0V0z\" fill=\"none\"/>\n",
              "    <path d=\"M18.56 5.44l.94 2.06.94-2.06 2.06-.94-2.06-.94-.94-2.06-.94 2.06-2.06.94zm-11 1L8.5 8.5l.94-2.06 2.06-.94-2.06-.94L8.5 2.5l-.94 2.06-2.06.94zm10 10l.94 2.06.94-2.06 2.06-.94-2.06-.94-.94-2.06-.94 2.06-2.06.94z\"/><path d=\"M17.41 7.96l-1.37-1.37c-.4-.4-.92-.59-1.43-.59-.52 0-1.04.2-1.43.59L10.3 9.45l-7.72 7.72c-.78.78-.78 2.05 0 2.83L4 21.41c.39.39.9.59 1.41.59.51 0 1.02-.2 1.41-.59l7.78-7.78 2.81-2.81c.8-.78.8-2.07 0-2.86zM5.41 20L4 18.59l7.72-7.72 1.47 1.35L5.41 20z\"/>\n",
              "  </svg>\n",
              "      </button>\n",
              "      \n",
              "  <style>\n",
              "    .colab-df-container {\n",
              "      display:flex;\n",
              "      flex-wrap:wrap;\n",
              "      gap: 12px;\n",
              "    }\n",
              "\n",
              "    .colab-df-convert {\n",
              "      background-color: #E8F0FE;\n",
              "      border: none;\n",
              "      border-radius: 50%;\n",
              "      cursor: pointer;\n",
              "      display: none;\n",
              "      fill: #1967D2;\n",
              "      height: 32px;\n",
              "      padding: 0 0 0 0;\n",
              "      width: 32px;\n",
              "    }\n",
              "\n",
              "    .colab-df-convert:hover {\n",
              "      background-color: #E2EBFA;\n",
              "      box-shadow: 0px 1px 2px rgba(60, 64, 67, 0.3), 0px 1px 3px 1px rgba(60, 64, 67, 0.15);\n",
              "      fill: #174EA6;\n",
              "    }\n",
              "\n",
              "    [theme=dark] .colab-df-convert {\n",
              "      background-color: #3B4455;\n",
              "      fill: #D2E3FC;\n",
              "    }\n",
              "\n",
              "    [theme=dark] .colab-df-convert:hover {\n",
              "      background-color: #434B5C;\n",
              "      box-shadow: 0px 1px 3px 1px rgba(0, 0, 0, 0.15);\n",
              "      filter: drop-shadow(0px 1px 2px rgba(0, 0, 0, 0.3));\n",
              "      fill: #FFFFFF;\n",
              "    }\n",
              "  </style>\n",
              "\n",
              "      <script>\n",
              "        const buttonEl =\n",
              "          document.querySelector('#df-2bfa990a-4803-4cc4-af4d-a3d44c80141a button.colab-df-convert');\n",
              "        buttonEl.style.display =\n",
              "          google.colab.kernel.accessAllowed ? 'block' : 'none';\n",
              "\n",
              "        async function convertToInteractive(key) {\n",
              "          const element = document.querySelector('#df-2bfa990a-4803-4cc4-af4d-a3d44c80141a');\n",
              "          const dataTable =\n",
              "            await google.colab.kernel.invokeFunction('convertToInteractive',\n",
              "                                                     [key], {});\n",
              "          if (!dataTable) return;\n",
              "\n",
              "          const docLinkHtml = 'Like what you see? Visit the ' +\n",
              "            '<a target=\"_blank\" href=https://colab.research.google.com/notebooks/data_table.ipynb>data table notebook</a>'\n",
              "            + ' to learn more about interactive tables.';\n",
              "          element.innerHTML = '';\n",
              "          dataTable['output_type'] = 'display_data';\n",
              "          await google.colab.output.renderOutput(dataTable, element);\n",
              "          const docLink = document.createElement('div');\n",
              "          docLink.innerHTML = docLinkHtml;\n",
              "          element.appendChild(docLink);\n",
              "        }\n",
              "      </script>\n",
              "    </div>\n",
              "  </div>\n",
              "  "
            ]
          },
          "metadata": {},
          "execution_count": 15
        },
        {
          "output_type": "display_data",
          "data": {
            "text/plain": [
              "<Figure size 432x288 with 1 Axes>"
            ],
            "image/png": "[encoded data removed]"
          },
          "metadata": {
            "needs_background": "light"
          }
        }
      ],
      "source": [
        "# NUMBER 1 (Used for training)\n",
        "olid_english = pd.read_csv(args['train_data_directory'] + 'olid-training-v1.0.tsv', sep ='\\t')\n",
        "\n",
        "# Change the name of the column containing the labels\n",
        "olid_english = olid_english.rename({'subtask_a': 'label'}, axis = 1)\n",
        "\n",
        "# Delete the unecessary columns\n",
        "olid_english = olid_english.drop(columns=['id', 'subtask_b', 'subtask_c'], axis = 1)\n",
        "\n",
        "print('Number of duplicates in the file:', olid_english.duplicated(subset = 'tweet').sum())\n",
        "olid_english.drop_duplicates(subset = 'tweet', keep = 'first', inplace = True) \n",
        " \n",
        "print(olid_english.label.value_counts())\n",
        "countplot_olid = sns.countplot(x = olid_english.label)\n",
        "olid_english.head(10)\n",
        "\n",
        "# Dataset found here: https://sites.google.com/site/offensevalsharedtask/olid"
      ]
    },
    {
      "cell_type": "code",
      "execution_count": null,
      "metadata": {
        "colab": {
          "base_uri": "https://localhost:8080/",
          "height": 1000
        },
        "id": "bXwv2n8Pt4v0",
        "outputId": "40e5a921-018c-4793-da68-1a52fdebddc9"
      },
      "outputs": [
        {
          "output_type": "stream",
          "name": "stdout",
          "text": [
            "Current file opened:  ['/content/drive/MyDrive/ColabNotebooks/THESIS/train_files/labeled_data.csv']\n",
            "Unnamed: 0                    24783\n",
            "count                             5\n",
            "hate_speech                       8\n",
            "offensive_language               10\n",
            "neither                          10\n",
            "class                             3\n",
            "tweet                         24783\n",
            "<class 'pandas.core.frame.DataFrame'>\n",
            "RangeIndex: 24783 entries, 0 to 24782\n",
            "Data columns (total 7 columns):\n",
            " #   Column              Non-Null Count  Dtype \n",
            "---  ------              --------------  ----- \n",
            " 0   Unnamed: 0          24783 non-null  int64 \n",
            " 1   count               24783 non-null  int64 \n",
            " 2   hate_speech         24783 non-null  int64 \n",
            " 3   offensive_language  24783 non-null  int64 \n",
            " 4   neither             24783 non-null  int64 \n",
            " 5   class               24783 non-null  int64 \n",
            " 6   tweet               24783 non-null  object\n",
            "dtypes: int64(6), object(1)\n",
            "memory usage: 1.3+ MB\n",
            "Number of duplicates in the file: 0\n",
            "OFF    20620\n",
            "NOT     4163\n",
            "Name: label, dtype: int64\n"
          ]
        },
        {
          "output_type": "execute_result",
          "data": {
            "text/plain": [
              "                                               tweet label\n",
              "0  !!! RT @mayasolovely: As a woman you shouldn't...   NOT\n",
              "1  !!!!! RT @mleew17: boy dats cold...tyga dwn ba...   OFF\n",
              "2  !!!!!!! RT @UrKindOfBrand Dawg!!!! RT @80sbaby...   OFF\n",
              "3  !!!!!!!!! RT @C_G_Anderson: @viva_based she lo...   OFF\n",
              "4  !!!!!!!!!!!!! RT @ShenikaRoberts: The shit you...   OFF\n",
              "5  !!!!!!!!!!!!!!!!!!\"@T_Madison_x: The shit just...   OFF\n",
              "6  !!!!!!\"@__BrighterDays: I can not just sit up ...   OFF\n",
              "7  !!!!&#8220;@selfiequeenbri: cause I'm tired of...   OFF\n",
              "8  \" &amp; you might not get ya bitch back &amp; ...   OFF\n",
              "9  \" @rhythmixx_ :hobbies include: fighting Maria...   OFF"
            ],
            "text/html": [
              "\n",
              "  <div id=\"df-9a4b5aa2-8a52-4751-9791-beb6030a70ab\">\n",
              "    <div class=\"colab-df-container\">\n",
              "      <div>\n",
              "<style scoped>\n",
              "    .dataframe tbody tr th:only-of-type {\n",
              "        vertical-align: middle;\n",
              "    }\n",
              "\n",
              "    .dataframe tbody tr th {\n",
              "        vertical-align: top;\n",
              "    }\n",
              "\n",
              "    .dataframe thead th {\n",
              "        text-align: right;\n",
              "    }\n",
              "</style>\n",
              "<table border=\"1\" class=\"dataframe\">\n",
              "  <thead>\n",
              "    <tr style=\"text-align: right;\">\n",
              "      <th></th>\n",
              "      <th>tweet</th>\n",
              "      <th>label</th>\n",
              "    </tr>\n",
              "  </thead>\n",
              "  <tbody>\n",
              "    <tr>\n",
              "      <th>0</th>\n",
              "      <td>!!! RT @mayasolovely: As a woman you shouldn't...</td>\n",
              "      <td>NOT</td>\n",
              "    </tr>\n",
              "    <tr>\n",
              "      <th>1</th>\n",
              "      <td>!!!!! RT @mleew17: boy dats cold...tyga dwn ba...</td>\n",
              "      <td>OFF</td>\n",
              "    </tr>\n",
              "    <tr>\n",
              "      <th>2</th>\n",
              "      <td>!!!!!!! RT @UrKindOfBrand Dawg!!!! RT @80sbaby...</td>\n",
              "      <td>OFF</td>\n",
              "    </tr>\n",
              "    <tr>\n",
              "      <th>3</th>\n",
              "      <td>!!!!!!!!! RT @C_G_Anderson: @viva_based she lo...</td>\n",
              "      <td>OFF</td>\n",
              "    </tr>\n",
              "    <tr>\n",
              "      <th>4</th>\n",
              "      <td>!!!!!!!!!!!!! RT @ShenikaRoberts: The shit you...</td>\n",
              "      <td>OFF</td>\n",
              "    </tr>\n",
              "    <tr>\n",
              "      <th>5</th>\n",
              "      <td>!!!!!!!!!!!!!!!!!!\"@T_Madison_x: The shit just...</td>\n",
              "      <td>OFF</td>\n",
              "    </tr>\n",
              "    <tr>\n",
              "      <th>6</th>\n",
              "      <td>!!!!!!\"@__BrighterDays: I can not just sit up ...</td>\n",
              "      <td>OFF</td>\n",
              "    </tr>\n",
              "    <tr>\n",
              "      <th>7</th>\n",
              "      <td>!!!!&amp;#8220;@selfiequeenbri: cause I'm tired of...</td>\n",
              "      <td>OFF</td>\n",
              "    </tr>\n",
              "    <tr>\n",
              "      <th>8</th>\n",
              "      <td>\" &amp;amp; you might not get ya bitch back &amp;amp; ...</td>\n",
              "      <td>OFF</td>\n",
              "    </tr>\n",
              "    <tr>\n",
              "      <th>9</th>\n",
              "      <td>\" @rhythmixx_ :hobbies include: fighting Maria...</td>\n",
              "      <td>OFF</td>\n",
              "    </tr>\n",
              "  </tbody>\n",
              "</table>\n",
              "</div>\n",
              "      <button class=\"colab-df-convert\" onclick=\"convertToInteractive('df-9a4b5aa2-8a52-4751-9791-beb6030a70ab')\"\n",
              "              title=\"Convert this dataframe to an interactive table.\"\n",
              "              style=\"display:none;\">\n",
              "        \n",
              "  <svg xmlns=\"http://www.w3.org/2000/svg\" height=\"24px\"viewBox=\"0 0 24 24\"\n",
              "       width=\"24px\">\n",
              "    <path d=\"M0 0h24v24H0V0z\" fill=\"none\"/>\n",
              "    <path d=\"M18.56 5.44l.94 2.06.94-2.06 2.06-.94-2.06-.94-.94-2.06-.94 2.06-2.06.94zm-11 1L8.5 8.5l.94-2.06 2.06-.94-2.06-.94L8.5 2.5l-.94 2.06-2.06.94zm10 10l.94 2.06.94-2.06 2.06-.94-2.06-.94-.94-2.06-.94 2.06-2.06.94z\"/><path d=\"M17.41 7.96l-1.37-1.37c-.4-.4-.92-.59-1.43-.59-.52 0-1.04.2-1.43.59L10.3 9.45l-7.72 7.72c-.78.78-.78 2.05 0 2.83L4 21.41c.39.39.9.59 1.41.59.51 0 1.02-.2 1.41-.59l7.78-7.78 2.81-2.81c.8-.78.8-2.07 0-2.86zM5.41 20L4 18.59l7.72-7.72 1.47 1.35L5.41 20z\"/>\n",
              "  </svg>\n",
              "      </button>\n",
              "      \n",
              "  <style>\n",
              "    .colab-df-container {\n",
              "      display:flex;\n",
              "      flex-wrap:wrap;\n",
              "      gap: 12px;\n",
              "    }\n",
              "\n",
              "    .colab-df-convert {\n",
              "      background-color: #E8F0FE;\n",
              "      border: none;\n",
              "      border-radius: 50%;\n",
              "      cursor: pointer;\n",
              "      display: none;\n",
              "      fill: #1967D2;\n",
              "      height: 32px;\n",
              "      padding: 0 0 0 0;\n",
              "      width: 32px;\n",
              "    }\n",
              "\n",
              "    .colab-df-convert:hover {\n",
              "      background-color: #E2EBFA;\n",
              "      box-shadow: 0px 1px 2px rgba(60, 64, 67, 0.3), 0px 1px 3px 1px rgba(60, 64, 67, 0.15);\n",
              "      fill: #174EA6;\n",
              "    }\n",
              "\n",
              "    [theme=dark] .colab-df-convert {\n",
              "      background-color: #3B4455;\n",
              "      fill: #D2E3FC;\n",
              "    }\n",
              "\n",
              "    [theme=dark] .colab-df-convert:hover {\n",
              "      background-color: #434B5C;\n",
              "      box-shadow: 0px 1px 3px 1px rgba(0, 0, 0, 0.15);\n",
              "      filter: drop-shadow(0px 1px 2px rgba(0, 0, 0, 0.3));\n",
              "      fill: #FFFFFF;\n",
              "    }\n",
              "  </style>\n",
              "\n",
              "      <script>\n",
              "        const buttonEl =\n",
              "          document.querySelector('#df-9a4b5aa2-8a52-4751-9791-beb6030a70ab button.colab-df-convert');\n",
              "        buttonEl.style.display =\n",
              "          google.colab.kernel.accessAllowed ? 'block' : 'none';\n",
              "\n",
              "        async function convertToInteractive(key) {\n",
              "          const element = document.querySelector('#df-9a4b5aa2-8a52-4751-9791-beb6030a70ab');\n",
              "          const dataTable =\n",
              "            await google.colab.kernel.invokeFunction('convertToInteractive',\n",
              "                                                     [key], {});\n",
              "          if (!dataTable) return;\n",
              "\n",
              "          const docLinkHtml = 'Like what you see? Visit the ' +\n",
              "            '<a target=\"_blank\" href=https://colab.research.google.com/notebooks/data_table.ipynb>data table notebook</a>'\n",
              "            + ' to learn more about interactive tables.';\n",
              "          element.innerHTML = '';\n",
              "          dataTable['output_type'] = 'display_data';\n",
              "          await google.colab.output.renderOutput(dataTable, element);\n",
              "          const docLink = document.createElement('div');\n",
              "          docLink.innerHTML = docLinkHtml;\n",
              "          element.appendChild(docLink);\n",
              "        }\n",
              "      </script>\n",
              "    </div>\n",
              "  </div>\n",
              "  "
            ]
          },
          "metadata": {},
          "execution_count": 16
        },
        {
          "output_type": "display_data",
          "data": {
            "text/plain": [
              "<Figure size 432x288 with 1 Axes>"
            ],
            "image/png": "[encoded data removed]"
          },
          "metadata": {
            "needs_background": "light"
          }
        }
      ],
      "source": [
        "# NUMBER 2 (Used for training) \n",
        "kaggle_dataset = read_a_file(args['train_data_directory'] + 'labeled_data.csv')\n",
        "\n",
        "# Change the name of the column containing the labels and the name of the id column\n",
        "kaggle_dataset = kaggle_dataset.rename({'class': 'label', 'Unnamed: 0': 'id'}, axis = 1)\n",
        "\n",
        "# Delete the unecessary columns\n",
        "kaggle_dataset  = kaggle_dataset.drop(columns = ['id', 'count', 'hate_speech','offensive_language', 'neither'], axis = 1)\n",
        "\n",
        "kaggle_dataset['label'].replace({0: 1}, inplace = True)\n",
        "\n",
        "# Replace the numeral labels with the respective categorical labels\n",
        "kaggle_dataset['label'] = kaggle_dataset['label'].replace({1: 'OFF'})\n",
        "kaggle_dataset['label'] = kaggle_dataset['label'].replace({2: 'NOT'})\n",
        "\n",
        "# Change the order of the columns \n",
        "kaggle_dataset = kaggle_dataset.reindex(columns=['tweet', 'label'])\n",
        "\n",
        "print('Number of duplicates in the file:', kaggle_dataset.duplicated(subset = 'tweet').sum())\n",
        "kaggle_dataset.drop_duplicates(subset = 'tweet', keep = 'first', inplace = True) \n",
        "\n",
        "print(kaggle_dataset.label.value_counts())\n",
        "countplot_train = sns.countplot(x = kaggle_dataset.label)\n",
        "kaggle_dataset.head(10)\n",
        "# Initial dataset labels: 0 - hate speech, 1 - offensive language, 2 - neither\n",
        "# Dataset found here: https://www.kaggle.com/datasets/mrmorj/hate-speech-and-offensive-language-dataset/discussion/235251 "
      ]
    },
    {
      "cell_type": "code",
      "execution_count": null,
      "metadata": {
        "colab": {
          "base_uri": "https://localhost:8080/",
          "height": 937
        },
        "id": "e7_vI122k0p4",
        "outputId": "9eb11b68-1b81-4e41-92cd-d9137142ace1"
      },
      "outputs": [
        {
          "output_type": "stream",
          "name": "stdout",
          "text": [
            "Current file opened:  ['/content/drive/MyDrive/ColabNotebooks/THESIS/train_files/FinalBalancedDataset.csv']\n",
            "Unnamed: 0                    56745\n",
            "Toxicity                          2\n",
            "tweet                         54313\n",
            "<class 'pandas.core.frame.DataFrame'>\n",
            "RangeIndex: 56745 entries, 0 to 56744\n",
            "Data columns (total 3 columns):\n",
            " #   Column      Non-Null Count  Dtype \n",
            "---  ------      --------------  ----- \n",
            " 0   Unnamed: 0  56745 non-null  int64 \n",
            " 1   Toxicity    56745 non-null  int64 \n",
            " 2   tweet       56745 non-null  object\n",
            "dtypes: int64(2), object(1)\n",
            "memory usage: 1.3+ MB\n",
            "Number of duplicates in the file: 2432\n",
            "NOT    30389\n",
            "OFF    23924\n",
            "Name: label, dtype: int64\n"
          ]
        },
        {
          "output_type": "execute_result",
          "data": {
            "text/plain": [
              "                                               tweet label\n",
              "0   @user when a father is dysfunctional and is s...   NOT\n",
              "1  @user @user thanks for #lyft credit i can't us...   NOT\n",
              "2                                bihday your majesty   NOT\n",
              "3  #model   i love u take with u all the time in ...   NOT\n",
              "4             factsguide: society now    #motivation   NOT\n",
              "5  [2/2] huge fan fare and big talking before the...   NOT\n",
              "6   @user camping tomorrow @user @user @user @use...   NOT\n",
              "7  the next school year is the year for exams.ð...   NOT\n",
              "8  we won!!! love the land!!! #allin #cavs #champ...   NOT\n",
              "9   @user @user welcome here !  i'm   it's so #gr...   NOT"
            ],
            "text/html": [
              "\n",
              "  <div id=\"df-b7ba8aba-7df0-4551-807c-fa542ab60309\">\n",
              "    <div class=\"colab-df-container\">\n",
              "      <div>\n",
              "<style scoped>\n",
              "    .dataframe tbody tr th:only-of-type {\n",
              "        vertical-align: middle;\n",
              "    }\n",
              "\n",
              "    .dataframe tbody tr th {\n",
              "        vertical-align: top;\n",
              "    }\n",
              "\n",
              "    .dataframe thead th {\n",
              "        text-align: right;\n",
              "    }\n",
              "</style>\n",
              "<table border=\"1\" class=\"dataframe\">\n",
              "  <thead>\n",
              "    <tr style=\"text-align: right;\">\n",
              "      <th></th>\n",
              "      <th>tweet</th>\n",
              "      <th>label</th>\n",
              "    </tr>\n",
              "  </thead>\n",
              "  <tbody>\n",
              "    <tr>\n",
              "      <th>0</th>\n",
              "      <td>@user when a father is dysfunctional and is s...</td>\n",
              "      <td>NOT</td>\n",
              "    </tr>\n",
              "    <tr>\n",
              "      <th>1</th>\n",
              "      <td>@user @user thanks for #lyft credit i can't us...</td>\n",
              "      <td>NOT</td>\n",
              "    </tr>\n",
              "    <tr>\n",
              "      <th>2</th>\n",
              "      <td>bihday your majesty</td>\n",
              "      <td>NOT</td>\n",
              "    </tr>\n",
              "    <tr>\n",
              "      <th>3</th>\n",
              "      <td>#model   i love u take with u all the time in ...</td>\n",
              "      <td>NOT</td>\n",
              "    </tr>\n",
              "    <tr>\n",
              "      <th>4</th>\n",
              "      <td>factsguide: society now    #motivation</td>\n",
              "      <td>NOT</td>\n",
              "    </tr>\n",
              "    <tr>\n",
              "      <th>5</th>\n",
              "      <td>[2/2] huge fan fare and big talking before the...</td>\n",
              "      <td>NOT</td>\n",
              "    </tr>\n",
              "    <tr>\n",
              "      <th>6</th>\n",
              "      <td>@user camping tomorrow @user @user @user @use...</td>\n",
              "      <td>NOT</td>\n",
              "    </tr>\n",
              "    <tr>\n",
              "      <th>7</th>\n",
              "      <td>the next school year is the year for exams.ð...</td>\n",
              "      <td>NOT</td>\n",
              "    </tr>\n",
              "    <tr>\n",
              "      <th>8</th>\n",
              "      <td>we won!!! love the land!!! #allin #cavs #champ...</td>\n",
              "      <td>NOT</td>\n",
              "    </tr>\n",
              "    <tr>\n",
              "      <th>9</th>\n",
              "      <td>@user @user welcome here !  i'm   it's so #gr...</td>\n",
              "      <td>NOT</td>\n",
              "    </tr>\n",
              "  </tbody>\n",
              "</table>\n",
              "</div>\n",
              "      <button class=\"colab-df-convert\" onclick=\"convertToInteractive('df-b7ba8aba-7df0-4551-807c-fa542ab60309')\"\n",
              "              title=\"Convert this dataframe to an interactive table.\"\n",
              "              style=\"display:none;\">\n",
              "        \n",
              "  <svg xmlns=\"http://www.w3.org/2000/svg\" height=\"24px\"viewBox=\"0 0 24 24\"\n",
              "       width=\"24px\">\n",
              "    <path d=\"M0 0h24v24H0V0z\" fill=\"none\"/>\n",
              "    <path d=\"M18.56 5.44l.94 2.06.94-2.06 2.06-.94-2.06-.94-.94-2.06-.94 2.06-2.06.94zm-11 1L8.5 8.5l.94-2.06 2.06-.94-2.06-.94L8.5 2.5l-.94 2.06-2.06.94zm10 10l.94 2.06.94-2.06 2.06-.94-2.06-.94-.94-2.06-.94 2.06-2.06.94z\"/><path d=\"M17.41 7.96l-1.37-1.37c-.4-.4-.92-.59-1.43-.59-.52 0-1.04.2-1.43.59L10.3 9.45l-7.72 7.72c-.78.78-.78 2.05 0 2.83L4 21.41c.39.39.9.59 1.41.59.51 0 1.02-.2 1.41-.59l7.78-7.78 2.81-2.81c.8-.78.8-2.07 0-2.86zM5.41 20L4 18.59l7.72-7.72 1.47 1.35L5.41 20z\"/>\n",
              "  </svg>\n",
              "      </button>\n",
              "      \n",
              "  <style>\n",
              "    .colab-df-container {\n",
              "      display:flex;\n",
              "      flex-wrap:wrap;\n",
              "      gap: 12px;\n",
              "    }\n",
              "\n",
              "    .colab-df-convert {\n",
              "      background-color: #E8F0FE;\n",
              "      border: none;\n",
              "      border-radius: 50%;\n",
              "      cursor: pointer;\n",
              "      display: none;\n",
              "      fill: #1967D2;\n",
              "      height: 32px;\n",
              "      padding: 0 0 0 0;\n",
              "      width: 32px;\n",
              "    }\n",
              "\n",
              "    .colab-df-convert:hover {\n",
              "      background-color: #E2EBFA;\n",
              "      box-shadow: 0px 1px 2px rgba(60, 64, 67, 0.3), 0px 1px 3px 1px rgba(60, 64, 67, 0.15);\n",
              "      fill: #174EA6;\n",
              "    }\n",
              "\n",
              "    [theme=dark] .colab-df-convert {\n",
              "      background-color: #3B4455;\n",
              "      fill: #D2E3FC;\n",
              "    }\n",
              "\n",
              "    [theme=dark] .colab-df-convert:hover {\n",
              "      background-color: #434B5C;\n",
              "      box-shadow: 0px 1px 3px 1px rgba(0, 0, 0, 0.15);\n",
              "      filter: drop-shadow(0px 1px 2px rgba(0, 0, 0, 0.3));\n",
              "      fill: #FFFFFF;\n",
              "    }\n",
              "  </style>\n",
              "\n",
              "      <script>\n",
              "        const buttonEl =\n",
              "          document.querySelector('#df-b7ba8aba-7df0-4551-807c-fa542ab60309 button.colab-df-convert');\n",
              "        buttonEl.style.display =\n",
              "          google.colab.kernel.accessAllowed ? 'block' : 'none';\n",
              "\n",
              "        async function convertToInteractive(key) {\n",
              "          const element = document.querySelector('#df-b7ba8aba-7df0-4551-807c-fa542ab60309');\n",
              "          const dataTable =\n",
              "            await google.colab.kernel.invokeFunction('convertToInteractive',\n",
              "                                                     [key], {});\n",
              "          if (!dataTable) return;\n",
              "\n",
              "          const docLinkHtml = 'Like what you see? Visit the ' +\n",
              "            '<a target=\"_blank\" href=https://colab.research.google.com/notebooks/data_table.ipynb>data table notebook</a>'\n",
              "            + ' to learn more about interactive tables.';\n",
              "          element.innerHTML = '';\n",
              "          dataTable['output_type'] = 'display_data';\n",
              "          await google.colab.output.renderOutput(dataTable, element);\n",
              "          const docLink = document.createElement('div');\n",
              "          docLink.innerHTML = docLinkHtml;\n",
              "          element.appendChild(docLink);\n",
              "        }\n",
              "      </script>\n",
              "    </div>\n",
              "  </div>\n",
              "  "
            ]
          },
          "metadata": {},
          "execution_count": 17
        },
        {
          "output_type": "display_data",
          "data": {
            "text/plain": [
              "<Figure size 432x288 with 1 Axes>"
            ],
            "image/png": "[encoded data removed]"
          },
          "metadata": {
            "needs_background": "light"
          }
        }
      ],
      "source": [
        "# NUMBER 3 (Used for training) \n",
        "english_balanced_kaggle = read_a_file(args['train_data_directory'] + 'FinalBalancedDataset.csv')\n",
        "\n",
        "# Change the name of the column containing the labels and the name of the id column\n",
        "english_balanced_kaggle = english_balanced_kaggle.rename({'Toxicity': 'label', 'Unnamed: 0': 'id'}, axis = 1)\n",
        "\n",
        "english_balanced_kaggle  = english_balanced_kaggle.drop(columns = ['id'], axis = 1)\n",
        "\n",
        "english_balanced_kaggle['label'] = english_balanced_kaggle['label'].replace({1: 'OFF'})\n",
        "english_balanced_kaggle['label'] = english_balanced_kaggle['label'].replace({0: 'NOT'})\n",
        "\n",
        "# Change the order of the columns\n",
        "english_balanced_kaggle = english_balanced_kaggle.reindex(columns=['tweet', 'label'])\n",
        "\n",
        "print('Number of duplicates in the file:', english_balanced_kaggle.duplicated(subset = 'tweet').sum())\n",
        "english_balanced_kaggle.drop_duplicates(subset = 'tweet', keep = 'first', inplace = True) \n",
        "\n",
        "print(english_balanced_kaggle.label.value_counts())\n",
        "countplot_train_kaggle_tweets = sns.countplot(x = english_balanced_kaggle.label)\n",
        "english_balanced_kaggle.head(10)\n",
        "# Dataset found here: https://www.kaggle.com/datasets/ashwiniyer176/toxic-tweets-dataset "
      ]
    },
    {
      "cell_type": "code",
      "execution_count": null,
      "metadata": {
        "colab": {
          "base_uri": "https://localhost:8080/",
          "height": 157
        },
        "id": "rnVTs_Dj3Guo",
        "outputId": "b59183c4-8b46-4de9-8738-e9271b62027c"
      },
      "outputs": [
        {
          "output_type": "execute_result",
          "data": {
            "text/plain": [
              "\"\\ntrain_file = pd.read_csv('/content/train_text.txt', delimiter = '\\t', header=None)\\ntrain_file.columns = ['tweet']\\n\\ntrain_file_labels = pd.read_csv('/content/train_labels.txt', delimiter = '\\t', header=None)\\ntrain_file_labels.columns = ['label']\\n\\ntrain_dataset = pd.concat([train_file, train_file_labels], axis = 1)\\ntrain_dataset['label'] = train_dataset['label'].replace({1: 'OFF'})\\ntrain_dataset['label'] = train_dataset['label'].replace({0: 'NOT'})\\n\\n\\nval_file = pd.read_csv('/content/val_text.txt', delimiter = '\\t', header=None)\\nval_file.columns = ['tweet']\\n\\nval_file_labels = pd.read_csv('/content/val_labels.txt', delimiter = '\\t', header=None)\\nval_file_labels.columns = ['label']\\n\\nval_dataset = pd.concat([val_file, val_file_labels], axis = 1)\\nval_dataset['label'] = val_dataset['label'].replace({1: 'OFF'})\\nval_dataset['label'] = val_dataset['label'].replace({0: 'NOT'})\\n\\nnew_train_dataset = pd.concat([train_dataset, val_dataset], axis = 0)\\nnew_train_dataset.to_csv('article_train_dataset.tsv', encoding = 'utf-8', index = False, header = True, sep ='\\t')\\n\""
            ],
            "application/vnd.google.colaboratory.intrinsic+json": {
              "type": "string"
            }
          },
          "metadata": {},
          "execution_count": 18
        }
      ],
      "source": [
        "# Dataset found here: https://github.com/cardiffnlp/tweeteval\n",
        "\n",
        "# It is named as 'article_english_train' below\n",
        "'''\n",
        "train_file = pd.read_csv('/content/train_text.txt', delimiter = '\\t', header=None)\n",
        "train_file.columns = ['tweet']\n",
        "\n",
        "train_file_labels = pd.read_csv('/content/train_labels.txt', delimiter = '\\t', header=None)\n",
        "train_file_labels.columns = ['label']\n",
        "\n",
        "train_dataset = pd.concat([train_file, train_file_labels], axis = 1)\n",
        "train_dataset['label'] = train_dataset['label'].replace({1: 'OFF'})\n",
        "train_dataset['label'] = train_dataset['label'].replace({0: 'NOT'})\n",
        "\n",
        "\n",
        "val_file = pd.read_csv('/content/val_text.txt', delimiter = '\\t', header=None)\n",
        "val_file.columns = ['tweet']\n",
        "\n",
        "val_file_labels = pd.read_csv('/content/val_labels.txt', delimiter = '\\t', header=None)\n",
        "val_file_labels.columns = ['label']\n",
        "\n",
        "val_dataset = pd.concat([val_file, val_file_labels], axis = 1)\n",
        "val_dataset['label'] = val_dataset['label'].replace({1: 'OFF'})\n",
        "val_dataset['label'] = val_dataset['label'].replace({0: 'NOT'})\n",
        "\n",
        "new_train_dataset = pd.concat([train_dataset, val_dataset], axis = 0)\n",
        "new_train_dataset.to_csv('article_train_dataset.tsv', encoding = 'utf-8', index = False, header = True, sep ='\\t')\n",
        "'''"
      ]
    },
    {
      "cell_type": "code",
      "execution_count": null,
      "metadata": {
        "colab": {
          "base_uri": "https://localhost:8080/",
          "height": 903
        },
        "id": "UKqPzas8ZYFi",
        "outputId": "6792d90a-12d8-4c40-e068-dd83f0175503"
      },
      "outputs": [
        {
          "output_type": "stream",
          "name": "stdout",
          "text": [
            "Current file opened:  ['/content/drive/MyDrive/ColabNotebooks/THESIS/train_files/article_train_dataset.tsv']\n",
            "tweet                         13202\n",
            "label                             2\n",
            "<class 'pandas.core.frame.DataFrame'>\n",
            "RangeIndex: 13240 entries, 0 to 13239\n",
            "Data columns (total 2 columns):\n",
            " #   Column  Non-Null Count  Dtype \n",
            "---  ------  --------------  ----- \n",
            " 0   tweet   13240 non-null  object\n",
            " 1   label   13240 non-null  object\n",
            "dtypes: object(2)\n",
            "memory usage: 207.0+ KB\n",
            "Number of duplicates in the file: 38\n",
            "NOT    8808\n",
            "OFF    4394\n",
            "Name: label, dtype: int64\n"
          ]
        },
        {
          "output_type": "execute_result",
          "data": {
            "text/plain": [
              "                                               tweet label\n",
              "0  @user Bono... who cares. Soon people will unde...   NOT\n",
              "1  @user Eight years the republicans denied obama...   OFF\n",
              "2  @user Get him some line help. He is gonna be j...   NOT\n",
              "3               @user @user She is great. Hi Fiona!    NOT\n",
              "4  @user She has become a parody unto herself? Sh...   OFF\n",
              "5  @user @user @user @user @user @user @user @use...   NOT\n",
              "6  @user Your looking more like a plant #maga #wa...   OFF\n",
              "7  @user @user Lol. Except he’s the most successf...   NOT\n",
              "8  @user Been a Willie fan since before most of y...   NOT\n",
              "9  @user Here's a link to my channel with a pleth...   NOT"
            ],
            "text/html": [
              "\n",
              "  <div id=\"df-7d5fce45-d938-4199-b3c5-bb4b97464395\">\n",
              "    <div class=\"colab-df-container\">\n",
              "      <div>\n",
              "<style scoped>\n",
              "    .dataframe tbody tr th:only-of-type {\n",
              "        vertical-align: middle;\n",
              "    }\n",
              "\n",
              "    .dataframe tbody tr th {\n",
              "        vertical-align: top;\n",
              "    }\n",
              "\n",
              "    .dataframe thead th {\n",
              "        text-align: right;\n",
              "    }\n",
              "</style>\n",
              "<table border=\"1\" class=\"dataframe\">\n",
              "  <thead>\n",
              "    <tr style=\"text-align: right;\">\n",
              "      <th></th>\n",
              "      <th>tweet</th>\n",
              "      <th>label</th>\n",
              "    </tr>\n",
              "  </thead>\n",
              "  <tbody>\n",
              "    <tr>\n",
              "      <th>0</th>\n",
              "      <td>@user Bono... who cares. Soon people will unde...</td>\n",
              "      <td>NOT</td>\n",
              "    </tr>\n",
              "    <tr>\n",
              "      <th>1</th>\n",
              "      <td>@user Eight years the republicans denied obama...</td>\n",
              "      <td>OFF</td>\n",
              "    </tr>\n",
              "    <tr>\n",
              "      <th>2</th>\n",
              "      <td>@user Get him some line help. He is gonna be j...</td>\n",
              "      <td>NOT</td>\n",
              "    </tr>\n",
              "    <tr>\n",
              "      <th>3</th>\n",
              "      <td>@user @user She is great. Hi Fiona!</td>\n",
              "      <td>NOT</td>\n",
              "    </tr>\n",
              "    <tr>\n",
              "      <th>4</th>\n",
              "      <td>@user She has become a parody unto herself? Sh...</td>\n",
              "      <td>OFF</td>\n",
              "    </tr>\n",
              "    <tr>\n",
              "      <th>5</th>\n",
              "      <td>@user @user @user @user @user @user @user @use...</td>\n",
              "      <td>NOT</td>\n",
              "    </tr>\n",
              "    <tr>\n",
              "      <th>6</th>\n",
              "      <td>@user Your looking more like a plant #maga #wa...</td>\n",
              "      <td>OFF</td>\n",
              "    </tr>\n",
              "    <tr>\n",
              "      <th>7</th>\n",
              "      <td>@user @user Lol. Except he’s the most successf...</td>\n",
              "      <td>NOT</td>\n",
              "    </tr>\n",
              "    <tr>\n",
              "      <th>8</th>\n",
              "      <td>@user Been a Willie fan since before most of y...</td>\n",
              "      <td>NOT</td>\n",
              "    </tr>\n",
              "    <tr>\n",
              "      <th>9</th>\n",
              "      <td>@user Here's a link to my channel with a pleth...</td>\n",
              "      <td>NOT</td>\n",
              "    </tr>\n",
              "  </tbody>\n",
              "</table>\n",
              "</div>\n",
              "      <button class=\"colab-df-convert\" onclick=\"convertToInteractive('df-7d5fce45-d938-4199-b3c5-bb4b97464395')\"\n",
              "              title=\"Convert this dataframe to an interactive table.\"\n",
              "              style=\"display:none;\">\n",
              "        \n",
              "  <svg xmlns=\"http://www.w3.org/2000/svg\" height=\"24px\"viewBox=\"0 0 24 24\"\n",
              "       width=\"24px\">\n",
              "    <path d=\"M0 0h24v24H0V0z\" fill=\"none\"/>\n",
              "    <path d=\"M18.56 5.44l.94 2.06.94-2.06 2.06-.94-2.06-.94-.94-2.06-.94 2.06-2.06.94zm-11 1L8.5 8.5l.94-2.06 2.06-.94-2.06-.94L8.5 2.5l-.94 2.06-2.06.94zm10 10l.94 2.06.94-2.06 2.06-.94-2.06-.94-.94-2.06-.94 2.06-2.06.94z\"/><path d=\"M17.41 7.96l-1.37-1.37c-.4-.4-.92-.59-1.43-.59-.52 0-1.04.2-1.43.59L10.3 9.45l-7.72 7.72c-.78.78-.78 2.05 0 2.83L4 21.41c.39.39.9.59 1.41.59.51 0 1.02-.2 1.41-.59l7.78-7.78 2.81-2.81c.8-.78.8-2.07 0-2.86zM5.41 20L4 18.59l7.72-7.72 1.47 1.35L5.41 20z\"/>\n",
              "  </svg>\n",
              "      </button>\n",
              "      \n",
              "  <style>\n",
              "    .colab-df-container {\n",
              "      display:flex;\n",
              "      flex-wrap:wrap;\n",
              "      gap: 12px;\n",
              "    }\n",
              "\n",
              "    .colab-df-convert {\n",
              "      background-color: #E8F0FE;\n",
              "      border: none;\n",
              "      border-radius: 50%;\n",
              "      cursor: pointer;\n",
              "      display: none;\n",
              "      fill: #1967D2;\n",
              "      height: 32px;\n",
              "      padding: 0 0 0 0;\n",
              "      width: 32px;\n",
              "    }\n",
              "\n",
              "    .colab-df-convert:hover {\n",
              "      background-color: #E2EBFA;\n",
              "      box-shadow: 0px 1px 2px rgba(60, 64, 67, 0.3), 0px 1px 3px 1px rgba(60, 64, 67, 0.15);\n",
              "      fill: #174EA6;\n",
              "    }\n",
              "\n",
              "    [theme=dark] .colab-df-convert {\n",
              "      background-color: #3B4455;\n",
              "      fill: #D2E3FC;\n",
              "    }\n",
              "\n",
              "    [theme=dark] .colab-df-convert:hover {\n",
              "      background-color: #434B5C;\n",
              "      box-shadow: 0px 1px 3px 1px rgba(0, 0, 0, 0.15);\n",
              "      filter: drop-shadow(0px 1px 2px rgba(0, 0, 0, 0.3));\n",
              "      fill: #FFFFFF;\n",
              "    }\n",
              "  </style>\n",
              "\n",
              "      <script>\n",
              "        const buttonEl =\n",
              "          document.querySelector('#df-7d5fce45-d938-4199-b3c5-bb4b97464395 button.colab-df-convert');\n",
              "        buttonEl.style.display =\n",
              "          google.colab.kernel.accessAllowed ? 'block' : 'none';\n",
              "\n",
              "        async function convertToInteractive(key) {\n",
              "          const element = document.querySelector('#df-7d5fce45-d938-4199-b3c5-bb4b97464395');\n",
              "          const dataTable =\n",
              "            await google.colab.kernel.invokeFunction('convertToInteractive',\n",
              "                                                     [key], {});\n",
              "          if (!dataTable) return;\n",
              "\n",
              "          const docLinkHtml = 'Like what you see? Visit the ' +\n",
              "            '<a target=\"_blank\" href=https://colab.research.google.com/notebooks/data_table.ipynb>data table notebook</a>'\n",
              "            + ' to learn more about interactive tables.';\n",
              "          element.innerHTML = '';\n",
              "          dataTable['output_type'] = 'display_data';\n",
              "          await google.colab.output.renderOutput(dataTable, element);\n",
              "          const docLink = document.createElement('div');\n",
              "          docLink.innerHTML = docLinkHtml;\n",
              "          element.appendChild(docLink);\n",
              "        }\n",
              "      </script>\n",
              "    </div>\n",
              "  </div>\n",
              "  "
            ]
          },
          "metadata": {},
          "execution_count": 19
        },
        {
          "output_type": "display_data",
          "data": {
            "text/plain": [
              "<Figure size 432x288 with 1 Axes>"
            ],
            "image/png": "[encoded data removed]"
          },
          "metadata": {
            "needs_background": "light"
          }
        }
      ],
      "source": [
        "# NUMBER 4 (Used for training) \n",
        "article_english_train = read_a_file(args['train_data_directory'] + 'article_train_dataset.tsv')\n",
        "\n",
        "print('Number of duplicates in the file:', article_english_train.duplicated(subset = 'tweet').sum())\n",
        "article_english_train.drop_duplicates(subset = 'tweet', keep = 'first', inplace = True) \n",
        "\n",
        "print(article_english_train.label.value_counts())\n",
        "countplot_article_english_train = sns.countplot(x = article_english_train.label)\n",
        "article_english_train.head(10)"
      ]
    },
    {
      "cell_type": "markdown",
      "metadata": {
        "id": "tx1n9VvmkLrz"
      },
      "source": [
        "**CREATE A BALANCED DATASET**"
      ]
    },
    {
      "cell_type": "code",
      "execution_count": null,
      "metadata": {
        "colab": {
          "base_uri": "https://localhost:8080/",
          "height": 473
        },
        "id": "kQli0IGfusLd",
        "outputId": "4e292400-675b-44d9-834a-0b92ca7786a0"
      },
      "outputs": [
        {
          "output_type": "stream",
          "name": "stdout",
          "text": [
            "Number of duplicates in the file before dropping duplicates: 24783\n",
            "Number of duplicates in the file after dropping duplicates: 0\n",
            "\n",
            "Examples:\n",
            "    Total: 80722\n",
            "    Offensive (OFF-1): 32710 (40.52% of total)\n",
            "    Not Offensive (NOT-0): 48012 (59.48% of total)\n",
            "\n",
            "0    48012\n",
            "1    32710\n",
            "Name: label, dtype: int64\n"
          ]
        },
        {
          "output_type": "display_data",
          "data": {
            "text/plain": [
              "<Figure size 432x288 with 1 Axes>"
            ],
            "image/png": "[encoded data removed]"
          },
          "metadata": {
            "needs_background": "light"
          }
        }
      ],
      "source": [
        "# Concatenate the OLID English train dataset with the other 3 datasets to create a larger dataset \n",
        "english_train_dataset = pd.concat([olid_english, kaggle_dataset, english_balanced_kaggle, article_english_train], axis = 0)\n",
        "\n",
        "# Replace the categorical values with numeral values for training \n",
        "english_train_dataset['label'].replace(labels, inplace = True)\n",
        "\n",
        "print('Number of duplicates in the file before dropping duplicates:', english_train_dataset.duplicated(subset = 'tweet').sum())   \n",
        "# Remove duplicate rows\n",
        "english_train_dataset.drop_duplicates(subset = 'tweet', keep = 'last', inplace = True) \n",
        "print('Number of duplicates in the file after dropping duplicates:', english_train_dataset.duplicated(subset = 'tweet').sum())\n",
        "\n",
        "# View and verify the balanced dataset \n",
        "not_offensive_tweets, offensive_tweets = english_train_dataset.label.value_counts()\n",
        "total_tweets = not_offensive_tweets + offensive_tweets\n",
        "print('\\nExamples:\\n    Total: {}\\n    Offensive (OFF-1): {} ({:.2f}% of total)\\n    Not Offensive (NOT-0): {} ({:.2f}% of total)\\n'.format(total_tweets, offensive_tweets, 100 * offensive_tweets / total_tweets, not_offensive_tweets, 100 * not_offensive_tweets / total_tweets))\n",
        "\n",
        "print(english_train_dataset.label.value_counts())\n",
        "countplot_train_dataset = sns.countplot(x = english_train_dataset.label) "
      ]
    },
    {
      "cell_type": "markdown",
      "metadata": {
        "id": "frNnxcivSHmr"
      },
      "source": [
        "**BALANCE THE DATASET**"
      ]
    },
    {
      "cell_type": "code",
      "execution_count": null,
      "metadata": {
        "colab": {
          "base_uri": "https://localhost:8080/",
          "height": 418
        },
        "id": "Nw5Q2iWA5FL2",
        "outputId": "25f188e7-bbf8-4dda-af6e-c8461049c5ba"
      },
      "outputs": [
        {
          "output_type": "stream",
          "name": "stdout",
          "text": [
            "Distribution of data in classes:\n",
            "0    0.594782\n",
            "1    0.405218\n",
            "Name: label, dtype: float64\n",
            "Distribution of data in classes after resampling:\n",
            "0    32710\n",
            "1    32710\n",
            "Name: label, dtype: int64\n"
          ]
        },
        {
          "output_type": "display_data",
          "data": {
            "text/plain": [
              "<Figure size 432x288 with 1 Axes>"
            ],
            "image/png": "[encoded data removed]"
          },
          "metadata": {
            "needs_background": "light"
          }
        }
      ],
      "source": [
        "# Check the distribution of classes\n",
        "distribution = english_train_dataset.label.value_counts()/english_train_dataset.shape[0]\n",
        "print('Distribution of data in classes:')\n",
        "print(distribution)\n",
        "\n",
        "# Separate the different labels and create a combined dataset\n",
        "not_offensive = english_train_dataset[english_train_dataset['label'] == 0]\n",
        "offensive = english_train_dataset[english_train_dataset['label'] == 1]\n",
        "\n",
        "# Downsample the majority class (Not Offensive) \n",
        "not_offensive_downsampled = resample(not_offensive, \n",
        "                                     replace = False,               # Sample without replacement\n",
        "                                     n_samples = len(offensive),    # to match the minority class\n",
        "                                     random_state = 123)            # Get reproducible results\n",
        "                    \n",
        "# Combine in a new dataframe the new resampled classes \n",
        "english_train_dataset_resampled = pd.concat([not_offensive_downsampled, offensive], axis = 0) \n",
        "\n",
        "print('Distribution of data in classes after resampling:')\n",
        "print(english_train_dataset_resampled.label.value_counts())\n",
        "countplot_train_dataset = sns.countplot(x = english_train_dataset_resampled.label)\n",
        "# The dataset is balanced!"
      ]
    },
    {
      "cell_type": "code",
      "execution_count": null,
      "metadata": {
        "id": "7KMMRnOZZpcE",
        "colab": {
          "base_uri": "https://localhost:8080/",
          "height": 1000
        },
        "outputId": "84e26f5e-581f-4a9b-d1fc-5e7995a33d21"
      },
      "outputs": [
        {
          "output_type": "execute_result",
          "data": {
            "text/plain": [
              "                                                   tweet  label\n",
              "9052   @user Haven't set any expectations on him... h...      0\n",
              "14862  on the lookout for a new exciting hat. lemme k...      0\n",
              "6115   @user I tear up from laughing so hard every si...      0\n",
              "36128  @Morning_Joe If NBC has elected you to be a sp...      0\n",
              "2437   when you tell yo bd you leaving his son here w...      0\n",
              "12317  @user @user @user @user @user He could have ki...      0\n",
              "10682  @USER @USER @USER @USER Source? Legit only. No...      0\n",
              "23072  first conce for an extremely excited 9 year ol...      0\n",
              "5218   @USER HAVE YOU NOTICED HOW RACIST THE MEDIA IS...      0\n",
              "13655  are you ever unhappy with your job? here are 1...      0\n",
              "30769  spend quality time with this awesome guy and m...      0\n",
              "5062                                  @user paul george       0\n",
              "9050   @USER Liberals wasting our taxpayer money on t...      0\n",
              "168           @USER @USER Doesn't he partly fund Antifa?      0\n",
              "12580  @user really planning on running again in this...      0\n",
              "1477   @user This message was approved by #antifa #pu...      0\n",
              "686    @USER Oooohohohohohoh you are in for a wild ride!      0\n",
              "36407  @ProsperINDIA ho no. Without ur vote we lost t...      0\n",
              "9725   @user He's like Meuller Hunted by A Master Spo...      0\n",
              "2124   such sad news. r.i.p: anton yelchin. #rip #ant...      0\n",
              "29696   @user very happy! we just hit 1k sales. #mile...      0\n",
              "111    @user @user @user Are you wanting gun control ...      0\n",
              "20499  about a perfect weekend !!! #sunset   #vibes #...      0\n",
              "11391  the mom's face ððð #shemad   #cute #m...      0\n",
              "19020  wants today to b #over i feel   what a #shit d...      0\n",
              "23781  time to enjoy myself, and wait until i fall as...      0\n",
              "1410   @USER @USER @USER @USER @USER @USER @USER @USE...      0\n",
              "26762   @user that is too sad about #udtapunjableaked...      0\n",
              "28112  happy #fathersday !   #tshi #design   @user @u...      0\n",
              "10044                 hardcore forums beach adult only        0\n",
              "14650  @user why did you omit his previous 2 tweets t...      0\n",
              "6838                      @USER He is always looking out      0\n",
              "29019  going to be seeing the @user live in october, ...      0\n",
              "9255   @USER dallon you just said lit i'm sorry sweet...      0\n",
              "4247   happy friday everyone! #pokemongo #pokemonsunm...      0\n",
              "22132  this is scary - where did we go to that we end...      0\n",
              "48333  RT @Manstagram_: When I make the paper ball in...      0\n",
              "2238   rihanna was at libey bridge viewing and i gave...      0\n",
              "1909    @user what bitches need to do is goto back to...      0\n",
              "4098   finally got my furniture paid off!!!!!  !!! ba...      0\n",
              "17602  @user looking forward to compering  this years...      0\n",
              "29433  travel. #travel #beautiful #ç¶ºéº #å°ç£ #ta...      0\n",
              "23406  first day of work! i have arrived ð #work #...      0\n",
              "19995  spoke too soon! my wallpaper is here! know wha...      0\n",
              "21775  @user @user  @user nobody helping since days f...      0\n",
              "19360  @user you must be getting   about buying yours...      0\n",
              "7955   decades later, sickness among airmen after a h...      0\n",
              "6412   my little love meeting a squirrel friend in or...      0\n",
              "9087   .@USER opposes the student loan refinancing bi...      0\n",
              "3952   @user Love ya girl!! Never change!! Your perfe...      0"
            ],
            "text/html": [
              "\n",
              "  <div id=\"df-72933314-18d5-4f11-8244-f0515264112e\">\n",
              "    <div class=\"colab-df-container\">\n",
              "      <div>\n",
              "<style scoped>\n",
              "    .dataframe tbody tr th:only-of-type {\n",
              "        vertical-align: middle;\n",
              "    }\n",
              "\n",
              "    .dataframe tbody tr th {\n",
              "        vertical-align: top;\n",
              "    }\n",
              "\n",
              "    .dataframe thead th {\n",
              "        text-align: right;\n",
              "    }\n",
              "</style>\n",
              "<table border=\"1\" class=\"dataframe\">\n",
              "  <thead>\n",
              "    <tr style=\"text-align: right;\">\n",
              "      <th></th>\n",
              "      <th>tweet</th>\n",
              "      <th>label</th>\n",
              "    </tr>\n",
              "  </thead>\n",
              "  <tbody>\n",
              "    <tr>\n",
              "      <th>9052</th>\n",
              "      <td>@user Haven't set any expectations on him... h...</td>\n",
              "      <td>0</td>\n",
              "    </tr>\n",
              "    <tr>\n",
              "      <th>14862</th>\n",
              "      <td>on the lookout for a new exciting hat. lemme k...</td>\n",
              "      <td>0</td>\n",
              "    </tr>\n",
              "    <tr>\n",
              "      <th>6115</th>\n",
              "      <td>@user I tear up from laughing so hard every si...</td>\n",
              "      <td>0</td>\n",
              "    </tr>\n",
              "    <tr>\n",
              "      <th>36128</th>\n",
              "      <td>@Morning_Joe If NBC has elected you to be a sp...</td>\n",
              "      <td>0</td>\n",
              "    </tr>\n",
              "    <tr>\n",
              "      <th>2437</th>\n",
              "      <td>when you tell yo bd you leaving his son here w...</td>\n",
              "      <td>0</td>\n",
              "    </tr>\n",
              "    <tr>\n",
              "      <th>12317</th>\n",
              "      <td>@user @user @user @user @user He could have ki...</td>\n",
              "      <td>0</td>\n",
              "    </tr>\n",
              "    <tr>\n",
              "      <th>10682</th>\n",
              "      <td>@USER @USER @USER @USER Source? Legit only. No...</td>\n",
              "      <td>0</td>\n",
              "    </tr>\n",
              "    <tr>\n",
              "      <th>23072</th>\n",
              "      <td>first conce for an extremely excited 9 year ol...</td>\n",
              "      <td>0</td>\n",
              "    </tr>\n",
              "    <tr>\n",
              "      <th>5218</th>\n",
              "      <td>@USER HAVE YOU NOTICED HOW RACIST THE MEDIA IS...</td>\n",
              "      <td>0</td>\n",
              "    </tr>\n",
              "    <tr>\n",
              "      <th>13655</th>\n",
              "      <td>are you ever unhappy with your job? here are 1...</td>\n",
              "      <td>0</td>\n",
              "    </tr>\n",
              "    <tr>\n",
              "      <th>30769</th>\n",
              "      <td>spend quality time with this awesome guy and m...</td>\n",
              "      <td>0</td>\n",
              "    </tr>\n",
              "    <tr>\n",
              "      <th>5062</th>\n",
              "      <td>@user paul george</td>\n",
              "      <td>0</td>\n",
              "    </tr>\n",
              "    <tr>\n",
              "      <th>9050</th>\n",
              "      <td>@USER Liberals wasting our taxpayer money on t...</td>\n",
              "      <td>0</td>\n",
              "    </tr>\n",
              "    <tr>\n",
              "      <th>168</th>\n",
              "      <td>@USER @USER Doesn't he partly fund Antifa?</td>\n",
              "      <td>0</td>\n",
              "    </tr>\n",
              "    <tr>\n",
              "      <th>12580</th>\n",
              "      <td>@user really planning on running again in this...</td>\n",
              "      <td>0</td>\n",
              "    </tr>\n",
              "    <tr>\n",
              "      <th>1477</th>\n",
              "      <td>@user This message was approved by #antifa #pu...</td>\n",
              "      <td>0</td>\n",
              "    </tr>\n",
              "    <tr>\n",
              "      <th>686</th>\n",
              "      <td>@USER Oooohohohohohoh you are in for a wild ride!</td>\n",
              "      <td>0</td>\n",
              "    </tr>\n",
              "    <tr>\n",
              "      <th>36407</th>\n",
              "      <td>@ProsperINDIA ho no. Without ur vote we lost t...</td>\n",
              "      <td>0</td>\n",
              "    </tr>\n",
              "    <tr>\n",
              "      <th>9725</th>\n",
              "      <td>@user He's like Meuller Hunted by A Master Spo...</td>\n",
              "      <td>0</td>\n",
              "    </tr>\n",
              "    <tr>\n",
              "      <th>2124</th>\n",
              "      <td>such sad news. r.i.p: anton yelchin. #rip #ant...</td>\n",
              "      <td>0</td>\n",
              "    </tr>\n",
              "    <tr>\n",
              "      <th>29696</th>\n",
              "      <td>@user very happy! we just hit 1k sales. #mile...</td>\n",
              "      <td>0</td>\n",
              "    </tr>\n",
              "    <tr>\n",
              "      <th>111</th>\n",
              "      <td>@user @user @user Are you wanting gun control ...</td>\n",
              "      <td>0</td>\n",
              "    </tr>\n",
              "    <tr>\n",
              "      <th>20499</th>\n",
              "      <td>about a perfect weekend !!! #sunset   #vibes #...</td>\n",
              "      <td>0</td>\n",
              "    </tr>\n",
              "    <tr>\n",
              "      <th>11391</th>\n",
              "      <td>the mom's face ððð #shemad   #cute #m...</td>\n",
              "      <td>0</td>\n",
              "    </tr>\n",
              "    <tr>\n",
              "      <th>19020</th>\n",
              "      <td>wants today to b #over i feel   what a #shit d...</td>\n",
              "      <td>0</td>\n",
              "    </tr>\n",
              "    <tr>\n",
              "      <th>23781</th>\n",
              "      <td>time to enjoy myself, and wait until i fall as...</td>\n",
              "      <td>0</td>\n",
              "    </tr>\n",
              "    <tr>\n",
              "      <th>1410</th>\n",
              "      <td>@USER @USER @USER @USER @USER @USER @USER @USE...</td>\n",
              "      <td>0</td>\n",
              "    </tr>\n",
              "    <tr>\n",
              "      <th>26762</th>\n",
              "      <td>@user that is too sad about #udtapunjableaked...</td>\n",
              "      <td>0</td>\n",
              "    </tr>\n",
              "    <tr>\n",
              "      <th>28112</th>\n",
              "      <td>happy #fathersday !   #tshi #design   @user @u...</td>\n",
              "      <td>0</td>\n",
              "    </tr>\n",
              "    <tr>\n",
              "      <th>10044</th>\n",
              "      <td>hardcore forums beach adult only</td>\n",
              "      <td>0</td>\n",
              "    </tr>\n",
              "    <tr>\n",
              "      <th>14650</th>\n",
              "      <td>@user why did you omit his previous 2 tweets t...</td>\n",
              "      <td>0</td>\n",
              "    </tr>\n",
              "    <tr>\n",
              "      <th>6838</th>\n",
              "      <td>@USER He is always looking out</td>\n",
              "      <td>0</td>\n",
              "    </tr>\n",
              "    <tr>\n",
              "      <th>29019</th>\n",
              "      <td>going to be seeing the @user live in october, ...</td>\n",
              "      <td>0</td>\n",
              "    </tr>\n",
              "    <tr>\n",
              "      <th>9255</th>\n",
              "      <td>@USER dallon you just said lit i'm sorry sweet...</td>\n",
              "      <td>0</td>\n",
              "    </tr>\n",
              "    <tr>\n",
              "      <th>4247</th>\n",
              "      <td>happy friday everyone! #pokemongo #pokemonsunm...</td>\n",
              "      <td>0</td>\n",
              "    </tr>\n",
              "    <tr>\n",
              "      <th>22132</th>\n",
              "      <td>this is scary - where did we go to that we end...</td>\n",
              "      <td>0</td>\n",
              "    </tr>\n",
              "    <tr>\n",
              "      <th>48333</th>\n",
              "      <td>RT @Manstagram_: When I make the paper ball in...</td>\n",
              "      <td>0</td>\n",
              "    </tr>\n",
              "    <tr>\n",
              "      <th>2238</th>\n",
              "      <td>rihanna was at libey bridge viewing and i gave...</td>\n",
              "      <td>0</td>\n",
              "    </tr>\n",
              "    <tr>\n",
              "      <th>1909</th>\n",
              "      <td>@user what bitches need to do is goto back to...</td>\n",
              "      <td>0</td>\n",
              "    </tr>\n",
              "    <tr>\n",
              "      <th>4098</th>\n",
              "      <td>finally got my furniture paid off!!!!!  !!! ba...</td>\n",
              "      <td>0</td>\n",
              "    </tr>\n",
              "    <tr>\n",
              "      <th>17602</th>\n",
              "      <td>@user looking forward to compering  this years...</td>\n",
              "      <td>0</td>\n",
              "    </tr>\n",
              "    <tr>\n",
              "      <th>29433</th>\n",
              "      <td>travel. #travel #beautiful #ç¶ºéº #å°ç£ #ta...</td>\n",
              "      <td>0</td>\n",
              "    </tr>\n",
              "    <tr>\n",
              "      <th>23406</th>\n",
              "      <td>first day of work! i have arrived ð #work #...</td>\n",
              "      <td>0</td>\n",
              "    </tr>\n",
              "    <tr>\n",
              "      <th>19995</th>\n",
              "      <td>spoke too soon! my wallpaper is here! know wha...</td>\n",
              "      <td>0</td>\n",
              "    </tr>\n",
              "    <tr>\n",
              "      <th>21775</th>\n",
              "      <td>@user @user  @user nobody helping since days f...</td>\n",
              "      <td>0</td>\n",
              "    </tr>\n",
              "    <tr>\n",
              "      <th>19360</th>\n",
              "      <td>@user you must be getting   about buying yours...</td>\n",
              "      <td>0</td>\n",
              "    </tr>\n",
              "    <tr>\n",
              "      <th>7955</th>\n",
              "      <td>decades later, sickness among airmen after a h...</td>\n",
              "      <td>0</td>\n",
              "    </tr>\n",
              "    <tr>\n",
              "      <th>6412</th>\n",
              "      <td>my little love meeting a squirrel friend in or...</td>\n",
              "      <td>0</td>\n",
              "    </tr>\n",
              "    <tr>\n",
              "      <th>9087</th>\n",
              "      <td>.@USER opposes the student loan refinancing bi...</td>\n",
              "      <td>0</td>\n",
              "    </tr>\n",
              "    <tr>\n",
              "      <th>3952</th>\n",
              "      <td>@user Love ya girl!! Never change!! Your perfe...</td>\n",
              "      <td>0</td>\n",
              "    </tr>\n",
              "  </tbody>\n",
              "</table>\n",
              "</div>\n",
              "      <button class=\"colab-df-convert\" onclick=\"convertToInteractive('df-72933314-18d5-4f11-8244-f0515264112e')\"\n",
              "              title=\"Convert this dataframe to an interactive table.\"\n",
              "              style=\"display:none;\">\n",
              "        \n",
              "  <svg xmlns=\"http://www.w3.org/2000/svg\" height=\"24px\"viewBox=\"0 0 24 24\"\n",
              "       width=\"24px\">\n",
              "    <path d=\"M0 0h24v24H0V0z\" fill=\"none\"/>\n",
              "    <path d=\"M18.56 5.44l.94 2.06.94-2.06 2.06-.94-2.06-.94-.94-2.06-.94 2.06-2.06.94zm-11 1L8.5 8.5l.94-2.06 2.06-.94-2.06-.94L8.5 2.5l-.94 2.06-2.06.94zm10 10l.94 2.06.94-2.06 2.06-.94-2.06-.94-.94-2.06-.94 2.06-2.06.94z\"/><path d=\"M17.41 7.96l-1.37-1.37c-.4-.4-.92-.59-1.43-.59-.52 0-1.04.2-1.43.59L10.3 9.45l-7.72 7.72c-.78.78-.78 2.05 0 2.83L4 21.41c.39.39.9.59 1.41.59.51 0 1.02-.2 1.41-.59l7.78-7.78 2.81-2.81c.8-.78.8-2.07 0-2.86zM5.41 20L4 18.59l7.72-7.72 1.47 1.35L5.41 20z\"/>\n",
              "  </svg>\n",
              "      </button>\n",
              "      \n",
              "  <style>\n",
              "    .colab-df-container {\n",
              "      display:flex;\n",
              "      flex-wrap:wrap;\n",
              "      gap: 12px;\n",
              "    }\n",
              "\n",
              "    .colab-df-convert {\n",
              "      background-color: #E8F0FE;\n",
              "      border: none;\n",
              "      border-radius: 50%;\n",
              "      cursor: pointer;\n",
              "      display: none;\n",
              "      fill: #1967D2;\n",
              "      height: 32px;\n",
              "      padding: 0 0 0 0;\n",
              "      width: 32px;\n",
              "    }\n",
              "\n",
              "    .colab-df-convert:hover {\n",
              "      background-color: #E2EBFA;\n",
              "      box-shadow: 0px 1px 2px rgba(60, 64, 67, 0.3), 0px 1px 3px 1px rgba(60, 64, 67, 0.15);\n",
              "      fill: #174EA6;\n",
              "    }\n",
              "\n",
              "    [theme=dark] .colab-df-convert {\n",
              "      background-color: #3B4455;\n",
              "      fill: #D2E3FC;\n",
              "    }\n",
              "\n",
              "    [theme=dark] .colab-df-convert:hover {\n",
              "      background-color: #434B5C;\n",
              "      box-shadow: 0px 1px 3px 1px rgba(0, 0, 0, 0.15);\n",
              "      filter: drop-shadow(0px 1px 2px rgba(0, 0, 0, 0.3));\n",
              "      fill: #FFFFFF;\n",
              "    }\n",
              "  </style>\n",
              "\n",
              "      <script>\n",
              "        const buttonEl =\n",
              "          document.querySelector('#df-72933314-18d5-4f11-8244-f0515264112e button.colab-df-convert');\n",
              "        buttonEl.style.display =\n",
              "          google.colab.kernel.accessAllowed ? 'block' : 'none';\n",
              "\n",
              "        async function convertToInteractive(key) {\n",
              "          const element = document.querySelector('#df-72933314-18d5-4f11-8244-f0515264112e');\n",
              "          const dataTable =\n",
              "            await google.colab.kernel.invokeFunction('convertToInteractive',\n",
              "                                                     [key], {});\n",
              "          if (!dataTable) return;\n",
              "\n",
              "          const docLinkHtml = 'Like what you see? Visit the ' +\n",
              "            '<a target=\"_blank\" href=https://colab.research.google.com/notebooks/data_table.ipynb>data table notebook</a>'\n",
              "            + ' to learn more about interactive tables.';\n",
              "          element.innerHTML = '';\n",
              "          dataTable['output_type'] = 'display_data';\n",
              "          await google.colab.output.renderOutput(dataTable, element);\n",
              "          const docLink = document.createElement('div');\n",
              "          docLink.innerHTML = docLinkHtml;\n",
              "          element.appendChild(docLink);\n",
              "        }\n",
              "      </script>\n",
              "    </div>\n",
              "  </div>\n",
              "  "
            ]
          },
          "metadata": {},
          "execution_count": 22
        }
      ],
      "source": [
        "# View the balanced dataset\n",
        "english_train_dataset_resampled[:50]"
      ]
    },
    {
      "cell_type": "markdown",
      "source": [
        "**PREPROCESSED EXAMPLES OF DATA**"
      ],
      "metadata": {
        "id": "jfylK_GH6brB"
      }
    },
    {
      "cell_type": "code",
      "execution_count": null,
      "metadata": {
        "colab": {
          "base_uri": "https://localhost:8080/",
          "height": 52
        },
        "id": "QVUGY_A4aPDq",
        "outputId": "504aaa2f-143b-43e4-bfcf-64731f58eb60"
      },
      "outputs": [
        {
          "output_type": "execute_result",
          "data": {
            "text/plain": [
              "\"<hashtag> maga </hashtag> musical notes sing like no one is listening heart suit love like you have never been hurt check mark vote gop when no one is watching hear no evil monkey and do not listen to liberals ' dirt\""
            ],
            "application/vnd.google.colaboratory.intrinsic+json": {
              "type": "string"
            }
          },
          "metadata": {},
          "execution_count": 24
        }
      ],
      "source": [
        "preprocessing(\"#MAGA @USER 🎶 Sing like no one is listening ♥️ Love like you've never been hurt ✔️ Vote GOP when no one is watching 🙉 And don't listen to Liberals' dirt URL\")"
      ]
    },
    {
      "cell_type": "code",
      "execution_count": null,
      "metadata": {
        "colab": {
          "base_uri": "https://localhost:8080/",
          "height": 35
        },
        "id": "VhS8nz_Txcyn",
        "outputId": "2915c418-8a6a-42d1-f987-c9f4c421e8a7"
      },
      "outputs": [
        {
          "output_type": "execute_result",
          "data": {
            "text/plain": [
              "'canada 789 does not does not need another cuck !'"
            ],
            "application/vnd.google.colaboratory.intrinsic+json": {
              "type": "string"
            }
          },
          "metadata": {},
          "execution_count": 25
        }
      ],
      "source": [
        "preprocessing(\"@USER URL url HTML html Canada 789 doesn’t doesn't need another CUCK! http://sentimentsymposium.com/\")"
      ]
    },
    {
      "cell_type": "code",
      "execution_count": null,
      "metadata": {
        "colab": {
          "base_uri": "https://localhost:8080/",
          "height": 35
        },
        "id": "R7wri12A9iPc",
        "outputId": "38cef5e7-e6fc-432b-bccf-8dec1608ba7f"
      },
      "outputs": [
        {
          "output_type": "execute_result",
          "data": {
            "text/plain": [
              "'he knows me you all ! this is why 233 trump'"
            ],
            "application/vnd.google.colaboratory.intrinsic+json": {
              "type": "string"
            }
          },
          "metadata": {},
          "execution_count": 26
        }
      ],
      "source": [
        "preprocessing(\"he knows me y'all! ðð this is why  233 trump\")"
      ]
    },
    {
      "cell_type": "code",
      "execution_count": null,
      "metadata": {
        "colab": {
          "base_uri": "https://localhost:8080/",
          "height": 35
        },
        "id": "mlINimLFxbhf",
        "outputId": "aed8a09d-c526-4ccc-9398-c944026c8a7d"
      },
      "outputs": [
        {
          "output_type": "execute_result",
          "data": {
            "text/plain": [
              "'! ! ! as a woman you should not complain about cleaning up your house . and as a man you should always take the trash out . . .'"
            ],
            "application/vnd.google.colaboratory.intrinsic+json": {
              "type": "string"
            }
          },
          "metadata": {},
          "execution_count": 27
        }
      ],
      "source": [
        "preprocessing(\"!!! RT @mayasolovely: As a woman you shouldn't complain about cleaning up your house. &amp; as a man you should always take the trash out...\")"
      ]
    },
    {
      "cell_type": "code",
      "source": [
        "sent = \"! ! ! ! as a woman you should not complain about cleaning up your house . and as a man you should always take the trash out . . .\"\n",
        "\n",
        "encoding = tokenizer.encode_plus(text = sent,\n",
        "                                 text_pair = None,\n",
        "                                 add_special_tokens = True,      # Add [CLS] and [SEP]\n",
        "                                 max_length = 280,               # Max length to pad\n",
        "                                 padding = 'max_length',         # Pad sentence according to max length  'max_length'\n",
        "                                 truncation = True,              # Truncate the sentences\n",
        "                                 return_token_type_ids = False,  # Do not return the ids of type tokens\n",
        "                                 return_attention_mask = True,   # Return attention mask\n",
        "                                 return_tensors = 'pt')  \n",
        "encoding.keys()"
      ],
      "metadata": {
        "colab": {
          "base_uri": "https://localhost:8080/"
        },
        "id": "YjFH5HbqXGEa",
        "outputId": "6f51f0e8-1dc3-44cc-9f1b-a2b5d109579d"
      },
      "execution_count": null,
      "outputs": [
        {
          "output_type": "execute_result",
          "data": {
            "text/plain": [
              "dict_keys(['input_ids', 'attention_mask'])"
            ]
          },
          "metadata": {},
          "execution_count": 28
        }
      ]
    },
    {
      "cell_type": "code",
      "source": [
        "print(len(encoding['input_ids'][0]))\n",
        "encoding['input_ids'][0]"
      ],
      "metadata": {
        "colab": {
          "base_uri": "https://localhost:8080/"
        },
        "id": "P4oa0DocXYSm",
        "outputId": "772b25e6-914a-4db8-a3d9-7c9839f8ba82"
      },
      "execution_count": null,
      "outputs": [
        {
          "output_type": "stream",
          "name": "stdout",
          "text": [
            "280\n"
          ]
        },
        {
          "output_type": "execute_result",
          "data": {
            "text/plain": [
              "tensor([  101,   999,   999,   999,   999,  2004,  1037,  2450,  2017,  2323,\n",
              "         2025, 17612,  2055,  9344,  2039,  2115,  2160,  1012,  1998,  2004,\n",
              "         1037,  2158,  2017,  2323,  2467,  2202,  1996, 11669,  2041,  1012,\n",
              "         1012,  1012,   102,     0,     0,     0,     0,     0,     0,     0,\n",
              "            0,     0,     0,     0,     0,     0,     0,     0,     0,     0,\n",
              "            0,     0,     0,     0,     0,     0,     0,     0,     0,     0,\n",
              "            0,     0,     0,     0,     0,     0,     0,     0,     0,     0,\n",
              "            0,     0,     0,     0,     0,     0,     0,     0,     0,     0,\n",
              "            0,     0,     0,     0,     0,     0,     0,     0,     0,     0,\n",
              "            0,     0,     0,     0,     0,     0,     0,     0,     0,     0,\n",
              "            0,     0,     0,     0,     0,     0,     0,     0,     0,     0,\n",
              "            0,     0,     0,     0,     0,     0,     0,     0,     0,     0,\n",
              "            0,     0,     0,     0,     0,     0,     0,     0,     0,     0,\n",
              "            0,     0,     0,     0,     0,     0,     0,     0,     0,     0,\n",
              "            0,     0,     0,     0,     0,     0,     0,     0,     0,     0,\n",
              "            0,     0,     0,     0,     0,     0,     0,     0,     0,     0,\n",
              "            0,     0,     0,     0,     0,     0,     0,     0,     0,     0,\n",
              "            0,     0,     0,     0,     0,     0,     0,     0,     0,     0,\n",
              "            0,     0,     0,     0,     0,     0,     0,     0,     0,     0,\n",
              "            0,     0,     0,     0,     0,     0,     0,     0,     0,     0,\n",
              "            0,     0,     0,     0,     0,     0,     0,     0,     0,     0,\n",
              "            0,     0,     0,     0,     0,     0,     0,     0,     0,     0,\n",
              "            0,     0,     0,     0,     0,     0,     0,     0,     0,     0,\n",
              "            0,     0,     0,     0,     0,     0,     0,     0,     0,     0,\n",
              "            0,     0,     0,     0,     0,     0,     0,     0,     0,     0,\n",
              "            0,     0,     0,     0,     0,     0,     0,     0,     0,     0,\n",
              "            0,     0,     0,     0,     0,     0,     0,     0,     0,     0,\n",
              "            0,     0,     0,     0,     0,     0,     0,     0,     0,     0])"
            ]
          },
          "metadata": {},
          "execution_count": 29
        }
      ]
    },
    {
      "cell_type": "code",
      "source": [
        "print(len(encoding['attention_mask'][0]))\n",
        "encoding['attention_mask']"
      ],
      "metadata": {
        "id": "3UGLp_QgXsdx",
        "outputId": "4094c539-9e2b-4a32-ef25-e1bf7827310d",
        "colab": {
          "base_uri": "https://localhost:8080/"
        }
      },
      "execution_count": null,
      "outputs": [
        {
          "output_type": "stream",
          "name": "stdout",
          "text": [
            "280\n"
          ]
        },
        {
          "output_type": "execute_result",
          "data": {
            "text/plain": [
              "tensor([[1, 1, 1, 1, 1, 1, 1, 1, 1, 1, 1, 1, 1, 1, 1, 1, 1, 1, 1, 1, 1, 1, 1, 1,\n",
              "         1, 1, 1, 1, 1, 1, 1, 1, 1, 0, 0, 0, 0, 0, 0, 0, 0, 0, 0, 0, 0, 0, 0, 0,\n",
              "         0, 0, 0, 0, 0, 0, 0, 0, 0, 0, 0, 0, 0, 0, 0, 0, 0, 0, 0, 0, 0, 0, 0, 0,\n",
              "         0, 0, 0, 0, 0, 0, 0, 0, 0, 0, 0, 0, 0, 0, 0, 0, 0, 0, 0, 0, 0, 0, 0, 0,\n",
              "         0, 0, 0, 0, 0, 0, 0, 0, 0, 0, 0, 0, 0, 0, 0, 0, 0, 0, 0, 0, 0, 0, 0, 0,\n",
              "         0, 0, 0, 0, 0, 0, 0, 0, 0, 0, 0, 0, 0, 0, 0, 0, 0, 0, 0, 0, 0, 0, 0, 0,\n",
              "         0, 0, 0, 0, 0, 0, 0, 0, 0, 0, 0, 0, 0, 0, 0, 0, 0, 0, 0, 0, 0, 0, 0, 0,\n",
              "         0, 0, 0, 0, 0, 0, 0, 0, 0, 0, 0, 0, 0, 0, 0, 0, 0, 0, 0, 0, 0, 0, 0, 0,\n",
              "         0, 0, 0, 0, 0, 0, 0, 0, 0, 0, 0, 0, 0, 0, 0, 0, 0, 0, 0, 0, 0, 0, 0, 0,\n",
              "         0, 0, 0, 0, 0, 0, 0, 0, 0, 0, 0, 0, 0, 0, 0, 0, 0, 0, 0, 0, 0, 0, 0, 0,\n",
              "         0, 0, 0, 0, 0, 0, 0, 0, 0, 0, 0, 0, 0, 0, 0, 0, 0, 0, 0, 0, 0, 0, 0, 0,\n",
              "         0, 0, 0, 0, 0, 0, 0, 0, 0, 0, 0, 0, 0, 0, 0, 0]])"
            ]
          },
          "metadata": {},
          "execution_count": 30
        }
      ]
    },
    {
      "cell_type": "markdown",
      "metadata": {
        "id": "sLbh77QH_jVc"
      },
      "source": [
        "**PREPARE THE TRAINING DATASET**"
      ]
    },
    {
      "cell_type": "code",
      "execution_count": null,
      "metadata": {
        "id": "fmbieOik_izR"
      },
      "outputs": [],
      "source": [
        "# Apply preprocessing steps to the 'tweet' column of the undersampled balanced dataset\n",
        "#english_train_dataset_resampled['tweet'] = english_train_dataset_resampled['tweet'].apply(lambda x: preprocessing(x))\n",
        "\n",
        "# Divide the offensive from the not offensive tweets into different dataframes\n",
        "#OFF = english_train_dataset_resampled[english_train_dataset_resampled['label'] == 1]\n",
        "#NOT_OFFENSIVE_TWEETS_BALANCED = english_train_dataset_resampled[english_train_dataset_resampled['label'] == 0]\n",
        "\n",
        "# Save the divided dataframes into separate tsv files\n",
        "#OFF.to_csv(args['train_data_directory'] + 'OFF_balanced.tsv', encoding = 'utf-8', index = False, header = True, sep ='\\t')\n",
        "#NOT_OFFENSIVE_TWEETS_BALANCED.to_csv(args['train_data_directory'] + 'NOT_balanced.tsv', encoding = 'utf-8', index = False, header = True, sep ='\\t')"
      ]
    },
    {
      "cell_type": "code",
      "execution_count": null,
      "metadata": {
        "id": "Xh2aYHRL_q9y"
      },
      "outputs": [],
      "source": [
        "#OFFENSIVE_TWEETS_BALANCED = select_to_get_offensive_words(args['train_data_directory'] + 'OFF_balanced.tsv', search_offensive_vocab = True)\n",
        "#TRAINING_TWEETS_BALANCED = pd.concat([OFFENSIVE_TWEETS_BALANCED, NOT_OFFENSIVE_TWEETS_BALANCED], axis = 0)\n",
        "#TRAINING_TWEETS_BALANCED.to_csv(args['train_data_directory'] + 'BALANCED_TRAINING_TWEETS.tsv', encoding = 'utf-8', index = False, header = True, sep ='\\t')   "
      ]
    },
    {
      "cell_type": "code",
      "execution_count": null,
      "metadata": {
        "id": "BVeMcJb7_ndp"
      },
      "outputs": [],
      "source": [
        "# Apply preprocessing steps to the 'tweet' column of the whole unbalanced dataset\n",
        "#english_train_dataset['tweet'] = english_train_dataset['tweet'].apply(lambda x: preprocessing(x))\n",
        "\n",
        "# Divide the offensive from the not offensive tweets into different dataframes\n",
        "#OFF_UNBALANCED = english_train_dataset[english_train_dataset['label'] == 1]\n",
        "#NOT_OFFENSIVE_TWEETS_UNBALANCED = english_train_dataset[english_train_dataset['label'] == 0]\n",
        "\n",
        "# Save the divided dataframes into separate tsv files\n",
        "#OFF_UNBALANCED.to_csv(args['train_data_directory'] + 'OFF_unbalanced.tsv', encoding = 'utf-8', index = False, header = True, sep ='\\t')\n",
        "#NOT_OFFENSIVE_TWEETS_UNBALANCED.to_csv(args['train_data_directory'] + 'NOT_unbalanced.tsv', encoding = 'utf-8', index = False, header = True, sep ='\\t')"
      ]
    },
    {
      "cell_type": "code",
      "execution_count": null,
      "metadata": {
        "id": "9FYw3TlQ_6PK"
      },
      "outputs": [],
      "source": [
        "#OFFENSIVE_TWEETS_UNBALANCED = select_to_get_offensive_words(args['train_data_directory'] + 'OFF_unbalanced.tsv', search_offensive_vocab = True) \n",
        "#TRAINING_TWEETS = pd.concat([OFFENSIVE_TWEETS_UNBALANCED, NOT_OFFENSIVE_TWEETS_UNBALANCED], axis = 0)\n",
        "#TRAINING_TWEETS.to_csv(args['train_data_directory'] + 'UNBALANCED_TRAINING_TWEETS.tsv', encoding = 'utf-8', index = False, header = True, sep ='\\t')"
      ]
    },
    {
      "cell_type": "code",
      "execution_count": 15,
      "metadata": {
        "colab": {
          "base_uri": "https://localhost:8080/",
          "height": 1000
        },
        "id": "qM2YPVhCAXhI",
        "outputId": "4413a9f0-da7c-4298-d30a-898bef30cbdc"
      },
      "outputs": [
        {
          "output_type": "stream",
          "name": "stdout",
          "text": [
            "Current file opened:  ['/content/drive/MyDrive/ColabNotebooks/THESIS/train_files/MY_UNBALANCED_TRAINING_TWEETS.tsv']\n",
            "tweet                         67148\n",
            "label                             2\n",
            "<class 'pandas.core.frame.DataFrame'>\n",
            "RangeIndex: 80720 entries, 0 to 80719\n",
            "Data columns (total 2 columns):\n",
            " #   Column  Non-Null Count  Dtype \n",
            "---  ------  --------------  ----- \n",
            " 0   tweet   80720 non-null  object\n",
            " 1   label   80720 non-null  int64 \n",
            "dtypes: int64(1), object(1)\n",
            "memory usage: 1.2+ MB\n"
          ]
        },
        {
          "output_type": "execute_result",
          "data": {
            "text/plain": [
              "                                                tweet  label\n",
              "0   she should ask a few native americans what the...      1\n",
              "1   go home you are drunk ! ! ! <hashtag> maga </h...      1\n",
              "2   someone should havetaken \" this piece of shit ...      1\n",
              "3                       liberals are all kookoo ! ! !      1\n",
              "4                        oh noes ! tough shit <OFF> .      1\n",
              "5   was literally just talking about this lol all ...      1\n",
              "6   canada does not need another cuck ! we already...      1\n",
              "7   you are a lying corrupt traitor ! ! ! nobody w...      1\n",
              "8   gun control ! that is all these kids are askin...      1\n",
              "9   lol ! ! ! throwing the bullshit <OFF> flag on ...      1\n",
              "10  kind of like when conservatives wanna associat...      1\n",
              "11  da fuck <OFF> is going on people ? there ' s t...      1\n",
              "12  tbh these days i just do not like people in ge...      1\n",
              "13  she ? to whom are you referring to ? hillary ?...      1\n",
              "14  the only thing the democrats have is lying and...      1\n",
              "15  you are not very smart are you ? why do you th...      1\n",
              "16  that ' s expected if you placate the violent l...      1\n",
              "17  4 out of 10 british people are basically full ...      1\n",
              "18                                     fuck <OFF> off      1\n",
              "19  the prison system is so fucked <OFF> . why are...      1\n",
              "20  she is useless . attempts to do the right thin...      1\n",
              "21  grateful trump does not have a dog in the whit...      1\n",
              "22                trump kicks dem butt - its so fun .      1\n",
              "23  he is dumb and dumber all in one president . i...      1\n",
              "24  and this from the clown that should be in pris...      1\n",
              "25                 thats because you are an old man .      1\n",
              "26  they are obstructionists . anti - american . p...      1\n",
              "27           i mean it worked for gun control right ?      1\n",
              "28  she is drinking so much koolaid she ' s bloated .      1\n",
              "29  the institution only let her tweet when she be...      1"
            ],
            "text/html": [
              "\n",
              "  <div id=\"df-ddc68c27-2178-4fc2-ba54-017a57401826\">\n",
              "    <div class=\"colab-df-container\">\n",
              "      <div>\n",
              "<style scoped>\n",
              "    .dataframe tbody tr th:only-of-type {\n",
              "        vertical-align: middle;\n",
              "    }\n",
              "\n",
              "    .dataframe tbody tr th {\n",
              "        vertical-align: top;\n",
              "    }\n",
              "\n",
              "    .dataframe thead th {\n",
              "        text-align: right;\n",
              "    }\n",
              "</style>\n",
              "<table border=\"1\" class=\"dataframe\">\n",
              "  <thead>\n",
              "    <tr style=\"text-align: right;\">\n",
              "      <th></th>\n",
              "      <th>tweet</th>\n",
              "      <th>label</th>\n",
              "    </tr>\n",
              "  </thead>\n",
              "  <tbody>\n",
              "    <tr>\n",
              "      <th>0</th>\n",
              "      <td>she should ask a few native americans what the...</td>\n",
              "      <td>1</td>\n",
              "    </tr>\n",
              "    <tr>\n",
              "      <th>1</th>\n",
              "      <td>go home you are drunk ! ! ! &lt;hashtag&gt; maga &lt;/h...</td>\n",
              "      <td>1</td>\n",
              "    </tr>\n",
              "    <tr>\n",
              "      <th>2</th>\n",
              "      <td>someone should havetaken \" this piece of shit ...</td>\n",
              "      <td>1</td>\n",
              "    </tr>\n",
              "    <tr>\n",
              "      <th>3</th>\n",
              "      <td>liberals are all kookoo ! ! !</td>\n",
              "      <td>1</td>\n",
              "    </tr>\n",
              "    <tr>\n",
              "      <th>4</th>\n",
              "      <td>oh noes ! tough shit &lt;OFF&gt; .</td>\n",
              "      <td>1</td>\n",
              "    </tr>\n",
              "    <tr>\n",
              "      <th>5</th>\n",
              "      <td>was literally just talking about this lol all ...</td>\n",
              "      <td>1</td>\n",
              "    </tr>\n",
              "    <tr>\n",
              "      <th>6</th>\n",
              "      <td>canada does not need another cuck ! we already...</td>\n",
              "      <td>1</td>\n",
              "    </tr>\n",
              "    <tr>\n",
              "      <th>7</th>\n",
              "      <td>you are a lying corrupt traitor ! ! ! nobody w...</td>\n",
              "      <td>1</td>\n",
              "    </tr>\n",
              "    <tr>\n",
              "      <th>8</th>\n",
              "      <td>gun control ! that is all these kids are askin...</td>\n",
              "      <td>1</td>\n",
              "    </tr>\n",
              "    <tr>\n",
              "      <th>9</th>\n",
              "      <td>lol ! ! ! throwing the bullshit &lt;OFF&gt; flag on ...</td>\n",
              "      <td>1</td>\n",
              "    </tr>\n",
              "    <tr>\n",
              "      <th>10</th>\n",
              "      <td>kind of like when conservatives wanna associat...</td>\n",
              "      <td>1</td>\n",
              "    </tr>\n",
              "    <tr>\n",
              "      <th>11</th>\n",
              "      <td>da fuck &lt;OFF&gt; is going on people ? there ' s t...</td>\n",
              "      <td>1</td>\n",
              "    </tr>\n",
              "    <tr>\n",
              "      <th>12</th>\n",
              "      <td>tbh these days i just do not like people in ge...</td>\n",
              "      <td>1</td>\n",
              "    </tr>\n",
              "    <tr>\n",
              "      <th>13</th>\n",
              "      <td>she ? to whom are you referring to ? hillary ?...</td>\n",
              "      <td>1</td>\n",
              "    </tr>\n",
              "    <tr>\n",
              "      <th>14</th>\n",
              "      <td>the only thing the democrats have is lying and...</td>\n",
              "      <td>1</td>\n",
              "    </tr>\n",
              "    <tr>\n",
              "      <th>15</th>\n",
              "      <td>you are not very smart are you ? why do you th...</td>\n",
              "      <td>1</td>\n",
              "    </tr>\n",
              "    <tr>\n",
              "      <th>16</th>\n",
              "      <td>that ' s expected if you placate the violent l...</td>\n",
              "      <td>1</td>\n",
              "    </tr>\n",
              "    <tr>\n",
              "      <th>17</th>\n",
              "      <td>4 out of 10 british people are basically full ...</td>\n",
              "      <td>1</td>\n",
              "    </tr>\n",
              "    <tr>\n",
              "      <th>18</th>\n",
              "      <td>fuck &lt;OFF&gt; off</td>\n",
              "      <td>1</td>\n",
              "    </tr>\n",
              "    <tr>\n",
              "      <th>19</th>\n",
              "      <td>the prison system is so fucked &lt;OFF&gt; . why are...</td>\n",
              "      <td>1</td>\n",
              "    </tr>\n",
              "    <tr>\n",
              "      <th>20</th>\n",
              "      <td>she is useless . attempts to do the right thin...</td>\n",
              "      <td>1</td>\n",
              "    </tr>\n",
              "    <tr>\n",
              "      <th>21</th>\n",
              "      <td>grateful trump does not have a dog in the whit...</td>\n",
              "      <td>1</td>\n",
              "    </tr>\n",
              "    <tr>\n",
              "      <th>22</th>\n",
              "      <td>trump kicks dem butt - its so fun .</td>\n",
              "      <td>1</td>\n",
              "    </tr>\n",
              "    <tr>\n",
              "      <th>23</th>\n",
              "      <td>he is dumb and dumber all in one president . i...</td>\n",
              "      <td>1</td>\n",
              "    </tr>\n",
              "    <tr>\n",
              "      <th>24</th>\n",
              "      <td>and this from the clown that should be in pris...</td>\n",
              "      <td>1</td>\n",
              "    </tr>\n",
              "    <tr>\n",
              "      <th>25</th>\n",
              "      <td>thats because you are an old man .</td>\n",
              "      <td>1</td>\n",
              "    </tr>\n",
              "    <tr>\n",
              "      <th>26</th>\n",
              "      <td>they are obstructionists . anti - american . p...</td>\n",
              "      <td>1</td>\n",
              "    </tr>\n",
              "    <tr>\n",
              "      <th>27</th>\n",
              "      <td>i mean it worked for gun control right ?</td>\n",
              "      <td>1</td>\n",
              "    </tr>\n",
              "    <tr>\n",
              "      <th>28</th>\n",
              "      <td>she is drinking so much koolaid she ' s bloated .</td>\n",
              "      <td>1</td>\n",
              "    </tr>\n",
              "    <tr>\n",
              "      <th>29</th>\n",
              "      <td>the institution only let her tweet when she be...</td>\n",
              "      <td>1</td>\n",
              "    </tr>\n",
              "  </tbody>\n",
              "</table>\n",
              "</div>\n",
              "      <button class=\"colab-df-convert\" onclick=\"convertToInteractive('df-ddc68c27-2178-4fc2-ba54-017a57401826')\"\n",
              "              title=\"Convert this dataframe to an interactive table.\"\n",
              "              style=\"display:none;\">\n",
              "        \n",
              "  <svg xmlns=\"http://www.w3.org/2000/svg\" height=\"24px\"viewBox=\"0 0 24 24\"\n",
              "       width=\"24px\">\n",
              "    <path d=\"M0 0h24v24H0V0z\" fill=\"none\"/>\n",
              "    <path d=\"M18.56 5.44l.94 2.06.94-2.06 2.06-.94-2.06-.94-.94-2.06-.94 2.06-2.06.94zm-11 1L8.5 8.5l.94-2.06 2.06-.94-2.06-.94L8.5 2.5l-.94 2.06-2.06.94zm10 10l.94 2.06.94-2.06 2.06-.94-2.06-.94-.94-2.06-.94 2.06-2.06.94z\"/><path d=\"M17.41 7.96l-1.37-1.37c-.4-.4-.92-.59-1.43-.59-.52 0-1.04.2-1.43.59L10.3 9.45l-7.72 7.72c-.78.78-.78 2.05 0 2.83L4 21.41c.39.39.9.59 1.41.59.51 0 1.02-.2 1.41-.59l7.78-7.78 2.81-2.81c.8-.78.8-2.07 0-2.86zM5.41 20L4 18.59l7.72-7.72 1.47 1.35L5.41 20z\"/>\n",
              "  </svg>\n",
              "      </button>\n",
              "      \n",
              "  <style>\n",
              "    .colab-df-container {\n",
              "      display:flex;\n",
              "      flex-wrap:wrap;\n",
              "      gap: 12px;\n",
              "    }\n",
              "\n",
              "    .colab-df-convert {\n",
              "      background-color: #E8F0FE;\n",
              "      border: none;\n",
              "      border-radius: 50%;\n",
              "      cursor: pointer;\n",
              "      display: none;\n",
              "      fill: #1967D2;\n",
              "      height: 32px;\n",
              "      padding: 0 0 0 0;\n",
              "      width: 32px;\n",
              "    }\n",
              "\n",
              "    .colab-df-convert:hover {\n",
              "      background-color: #E2EBFA;\n",
              "      box-shadow: 0px 1px 2px rgba(60, 64, 67, 0.3), 0px 1px 3px 1px rgba(60, 64, 67, 0.15);\n",
              "      fill: #174EA6;\n",
              "    }\n",
              "\n",
              "    [theme=dark] .colab-df-convert {\n",
              "      background-color: #3B4455;\n",
              "      fill: #D2E3FC;\n",
              "    }\n",
              "\n",
              "    [theme=dark] .colab-df-convert:hover {\n",
              "      background-color: #434B5C;\n",
              "      box-shadow: 0px 1px 3px 1px rgba(0, 0, 0, 0.15);\n",
              "      filter: drop-shadow(0px 1px 2px rgba(0, 0, 0, 0.3));\n",
              "      fill: #FFFFFF;\n",
              "    }\n",
              "  </style>\n",
              "\n",
              "      <script>\n",
              "        const buttonEl =\n",
              "          document.querySelector('#df-ddc68c27-2178-4fc2-ba54-017a57401826 button.colab-df-convert');\n",
              "        buttonEl.style.display =\n",
              "          google.colab.kernel.accessAllowed ? 'block' : 'none';\n",
              "\n",
              "        async function convertToInteractive(key) {\n",
              "          const element = document.querySelector('#df-ddc68c27-2178-4fc2-ba54-017a57401826');\n",
              "          const dataTable =\n",
              "            await google.colab.kernel.invokeFunction('convertToInteractive',\n",
              "                                                     [key], {});\n",
              "          if (!dataTable) return;\n",
              "\n",
              "          const docLinkHtml = 'Like what you see? Visit the ' +\n",
              "            '<a target=\"_blank\" href=https://colab.research.google.com/notebooks/data_table.ipynb>data table notebook</a>'\n",
              "            + ' to learn more about interactive tables.';\n",
              "          element.innerHTML = '';\n",
              "          dataTable['output_type'] = 'display_data';\n",
              "          await google.colab.output.renderOutput(dataTable, element);\n",
              "          const docLink = document.createElement('div');\n",
              "          docLink.innerHTML = docLinkHtml;\n",
              "          element.appendChild(docLink);\n",
              "        }\n",
              "      </script>\n",
              "    </div>\n",
              "  </div>\n",
              "  "
            ]
          },
          "metadata": {},
          "execution_count": 15
        }
      ],
      "source": [
        "# TWO TRAINING FILES: MY_UNBALANCED_TRAINING_TWEETS.tsv and  MY_BALANCED_TRAINING_TWEETS.tsv\n",
        "training_dataset = read_a_file(args['train_data_directory'] + 'MY_UNBALANCED_TRAINING_TWEETS.tsv')\n",
        "training_dataset.head(30)"
      ]
    },
    {
      "cell_type": "code",
      "execution_count": 16,
      "metadata": {
        "colab": {
          "base_uri": "https://localhost:8080/"
        },
        "id": "y18EVTy4pGl6",
        "outputId": "127897a7-86ff-491e-8b5f-fa385f679bd4"
      },
      "outputs": [
        {
          "output_type": "stream",
          "name": "stdout",
          "text": [
            "Average number of words per sentence: 16.27340188305253\n"
          ]
        }
      ],
      "source": [
        "social_tokenizer = SocialTokenizer(lowercase = False).tokenize  \n",
        "\n",
        "sentences = [ [word for word in social_tokenizer(sent) if word.isalpha() or word.isdigit()] for sent in training_dataset.tweet.values]\n",
        "\n",
        "counts = []\n",
        "for sentence in sentences:\n",
        "    counts.append(len(sentence))\n",
        "\n",
        "# Takes the first two sequences of the list and adds then gets the next sequence and accumulates it until end of list.\n",
        "def average_word_count(list_counts): \n",
        "    avg = reduce(lambda x, y: x + y, list_counts) / len(list_counts)\n",
        "    return(avg)\n",
        "\n",
        "print('Average number of words per sentence:', average_word_count(counts))"
      ]
    },
    {
      "cell_type": "code",
      "execution_count": null,
      "metadata": {
        "colab": {
          "base_uri": "https://localhost:8080/"
        },
        "id": "jET3ohtdwHaE",
        "outputId": "6dcffab9-5ea5-44a3-e53b-41f63df8e543"
      },
      "outputs": [
        {
          "output_type": "stream",
          "name": "stdout",
          "text": [
            "Maximum sentence length:  415\n"
          ]
        }
      ],
      "source": [
        "# Encode the concatenated data\n",
        "encoded_tweets = [tokenizer.encode(sent, add_special_tokens = True) for sent in training_dataset.tweet.values]\n",
        "\n",
        "# Find the maximum length\n",
        "max_len = max([len(sent) for sent in encoded_tweets])\n",
        "print('Maximum sentence length: ', max_len)"
      ]
    },
    {
      "cell_type": "markdown",
      "metadata": {
        "id": "jop73mfEFzZs"
      },
      "source": [
        "**SPLIT INTO TRAIN AND VALIDATIONS SETS & CREATE TRAIN AND VALIDATION DATALOADERS**"
      ]
    },
    {
      "cell_type": "code",
      "execution_count": null,
      "metadata": {
        "id": "BxhRR7ehDT4w"
      },
      "outputs": [],
      "source": [
        "train_dataloader, val_dataloader = TweetSplitDataPreparation(dataframe = training_dataset,\n",
        "                                                             split_ratio = args['data_split_ratio'], \n",
        "                                                             tokenizer = tokenizer, \n",
        "                                                             max_length = args['max_seq_length'], \n",
        "                                                             batch_size = args['batch_size'], \n",
        "                                                             split_data = True, \n",
        "                                                             make_dataloaders = True)"
      ]
    },
    {
      "cell_type": "markdown",
      "metadata": {
        "id": "8OURM8hNqRXP"
      },
      "source": [
        "**INSTANTIATE MODELS**"
      ]
    },
    {
      "cell_type": "code",
      "execution_count": 18,
      "metadata": {
        "id": "qVsswZyNjwS6"
      },
      "outputs": [],
      "source": [
        "class ClassifierLastHiddenState(nn.Module):\n",
        "    \n",
        "  def __init__(self, pretrained_model, num_classes, config, dropout, freeze_bert = False):\n",
        "    super(ClassifierLastHiddenState, self).__init__()\n",
        "    \n",
        "    self.pretrained_model = pretrained_model\n",
        "    self.n_input = config.to_dict()['hidden_size']\n",
        "    self.num_classes = num_classes  \n",
        "    self.dropout = nn.Dropout(dropout)\n",
        "\n",
        "    # Add dense layers to perform the classification\n",
        "    self.classifier = nn.Linear(self.n_input, self.num_classes)\n",
        "\n",
        "    # Add possibility to freeze the BERT model to avoid fine tuning BERT params (usually leads to worse results)\n",
        "    if freeze_bert:\n",
        "      for param in self.pretrained_model.parameters():\n",
        "        param.requires_grad = False\n",
        "\n",
        "  def forward(self, input_ids, attention_mask):\n",
        "    outputs = self.pretrained_model(input_ids = input_ids, attention_mask = attention_mask, return_dict = False)\n",
        "    #outputs = last_hidden_state, pooled_output\n",
        "\n",
        "    # Extract the last hidden state of the token `[CLS]` for the classification task \n",
        "    last_hidden_state = outputs[0]\n",
        "    cls_embeddings = last_hidden_state[:, 0]\n",
        "\n",
        "    # Apply dropout\n",
        "    dropout_output = self.dropout(cls_embeddings)\n",
        "     \n",
        "    # Feed input to classifier to compute logits\n",
        "    final_output = self.classifier(dropout_output) \n",
        "\n",
        "    #Last Hidden State Output Shape: (12, 280, 1024) [batch size, max seq len, hidden size]\n",
        "    #CLS Embeddings Output Shape: (12, 1024) [batch size, hidden size]\n",
        "    #Final output Shape: (12, 1) [batch size, number of classes]\n",
        "\n",
        "    return final_output  "
      ]
    },
    {
      "cell_type": "markdown",
      "source": [
        "![model1.png](data:image/png;base64,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)"
      ],
      "metadata": {
        "id": "EfGIfxYR4Np7"
      }
    },
    {
      "cell_type": "code",
      "execution_count": 19,
      "metadata": {
        "id": "_x2akL8l_5Ux"
      },
      "outputs": [],
      "source": [
        "class ClassifierConcatLast4HiddenStates(nn.Module):\n",
        "    \n",
        "  def __init__(self, pretrained_model, num_classes, config, dropout, freeze_bert = False):\n",
        "    super(ClassifierConcatLast4HiddenStates, self).__init__()\n",
        "    \n",
        "    self.pretrained_model = pretrained_model\n",
        "    self.n_input = config.to_dict()['hidden_size']\n",
        "    self.num_classes = num_classes  \n",
        "    self.dropout = nn.Dropout(dropout)\n",
        "\n",
        "    # Add dense layers to perform the classification \n",
        "    self.classifier = nn.Linear(self.n_input * 4, self.num_classes)\n",
        "\n",
        "    # Add possibility to freeze the BERT model to avoid fine tuning BERT params (usually leads to worse results)\n",
        "    if freeze_bert:\n",
        "      for param in self.pretrained_model.parameters():\n",
        "        param.requires_grad = False\n",
        "\n",
        "  def forward(self, input_ids, attention_mask):\n",
        "    outputs = self.pretrained_model(input_ids = input_ids, attention_mask = attention_mask, return_dict = False)\n",
        "    \n",
        "    # Concatenate the 4 last hidden layers\n",
        "    all_hidden_states = torch.stack(outputs[2])   \n",
        "    concatenate_pooling = torch.cat((all_hidden_states[-1], all_hidden_states[-2], all_hidden_states[-3], all_hidden_states[-4]), dim = -1)\n",
        "    last_hidden_state_cls = concatenate_pooling[:, 0]\n",
        "\n",
        "    # Apply dropout\n",
        "    dropout_output = self.dropout(last_hidden_state_cls)\n",
        "\n",
        "    # Feed input to classifier to compute logits\n",
        "    final_output = self.classifier(dropout_output)\n",
        "\n",
        "    #print(f'Hidden States Output Shape: {all_hidden_states.shape}') #[25, 12, 280, 1024] [initial embeddings + 24 BERT layers, batch size, max seq len, hidden size]\n",
        "    #print(f'Concatenate Pooling  Output Shape: {concatenate_pooling.shape}') #[12, 280, 4096 (1024 * 4)] [batch size, max seq len, hidden size * 4]\n",
        "    #print(f'CLS Output Shape: {last_hidden_state_cls.shape}') #[12, 4096] [batch size, hidden size * 4]\n",
        "    #print(f'Dropout Output Shape: {dropout_output.shape}') #[12, 4096] [batch size, hidden size * 4]\n",
        "    #print(f'Logits Shape: {final_output.shape}') #[12, 1] [batch size, num of classes]\n",
        "\n",
        "    return final_output "
      ]
    },
    {
      "cell_type": "markdown",
      "source": [
        "![model2.png](data:image/png;base64,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)"
      ],
      "metadata": {
        "id": "YnFxdNQg4fya"
      }
    },
    {
      "cell_type": "code",
      "execution_count": 20,
      "metadata": {
        "id": "QzjAw8NbfRLm"
      },
      "outputs": [],
      "source": [
        "class BIDIRECTIONAL_RNN_LSTM_GRU(nn.Module):\n",
        "  \n",
        "  def __init__(self, cell_type, pretrained_model, config, num_classes, dropout, num_layers, seq_len, freeze_bert = False):             \n",
        "    super(BIDIRECTIONAL_RNN_LSTM_GRU, self).__init__()\n",
        "\n",
        "    cells = {'LSTM': nn.LSTM, 'GRU': nn.GRU}   \n",
        "\n",
        "    # Initializations\n",
        "    self.cell_type = cell_type\n",
        "    self.pretrained_model = pretrained_model\n",
        "    self.embedding_size = config.to_dict()['hidden_size']\n",
        "    self.num_layers = num_layers\n",
        "    self.num_classes = num_classes\n",
        "    self.dropout = dropout\n",
        "    self.sequence_length = seq_len\n",
        "        \n",
        "    assert cell_type in cells, 'Use one of the following: {}'.format(str(cells))\n",
        "    rnn_cell = getattr(nn, cell_type)          # It fetches the constructor from torch.nn\n",
        "    self.rnn = rnn_cell(\n",
        "        input_size = self.embedding_size,      # Number of features for each time step        \n",
        "        num_layers = self.num_layers,          # If the number of layers is bigger than 1, then it is a stacked RNN)\n",
        "        hidden_size = self.sequence_length,    # Use the selected maximum sequence length needed in Bert\n",
        "        batch_first = True,                    # Input and output's batch size: (batch, time_step, input_size) => 1st dimension\n",
        "        bidirectional = True,                  # It is a bidirectional Recurrent Neural Network (RNN)\n",
        "        dropout = self.dropout)                # Dropout regularization  \n",
        "                              \n",
        "    # Final hidden state has both a forward and a backward component concatenated together\n",
        "    # The size of the input to the nn.Linear layer is twice that of the hidden dimension size\n",
        "    self.predictor = nn.Linear(self.sequence_length * 2, self.num_classes) \n",
        "\n",
        "    # Initialize dropout layer for regularization\n",
        "    self.dropout = nn.Dropout(dropout)\n",
        "  \n",
        "    # Add possibility to freeze the BERT model to avoid fine tuning BERT params (usually leads to worse results)\n",
        "    if freeze_bert:\n",
        "      for param in self.pretrained_model.parameters():\n",
        "        param.requires_grad = False\n",
        "    \n",
        "  def forward(self, input_ids, attention_mask):\n",
        "  \n",
        "    outputs = self.pretrained_model(input_ids = input_ids, attention_mask = attention_mask)\n",
        "\n",
        "    all_hidden_states = torch.stack(outputs[2])\n",
        "    \n",
        "    hidden_states = torch.stack([all_hidden_states[layer_i][:, 0].squeeze() for layer_i in range(1, config.num_hidden_layers+1)], dim=-1)\n",
        "    hidden_states = hidden_states.view(-1, config.num_hidden_layers, self.embedding_size)\n",
        "\n",
        "    if self.cell_type == 'LSTM':\n",
        "      packed_output, _ = self.rnn(hidden_states, None) \n",
        "    if self.cell_type == 'GRU':\n",
        "      packed_output, _ = self.rnn(hidden_states, None) \n",
        "    \n",
        "    dropout_output = self.dropout(packed_output[:, -1, :])\n",
        "\n",
        "    final_output = self.predictor(dropout_output)\n",
        "\n",
        "    #print(f'All Hidden States Output Shape: {all_hidden_states.shape}') #[25, 12, 280, 1024] [initial embeddings + 24 BERT layers, batch size, max seq len, hidden size]\n",
        "    #print(f'Hidden States Output Shape: {hidden_states.shape}') #[12, 24, 1024] [batch size, 24 BERT layers, hidden size]\n",
        "    #print(f'Packed Output Shape: {packed_output.shape}') # [12 24 560] [batch size, 24 BERT layers, max seq len * 2]\n",
        "    #print(f'LSTM Pooling Output Shape: {dropout_output.shape}') #[12, 560 (280 * 2)] [batch size, max seq len * 2]\n",
        "    #print(f'Logits Shape: {final_output.shape}') # [12, 1] [batch size, output label shape]\n",
        "\n",
        "    return final_output   "
      ]
    },
    {
      "cell_type": "markdown",
      "source": [
        "![model3.png](data:image/png;base64,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)"
      ],
      "metadata": {
        "id": "4fIK0h264ln1"
      }
    },
    {
      "cell_type": "markdown",
      "metadata": {
        "id": "hYiY4ZYOGedW"
      },
      "source": [
        "**INITIALIZE MODEL & ITS HYPERPARAMETERS**"
      ]
    },
    {
      "cell_type": "code",
      "execution_count": 29,
      "metadata": {
        "id": "hQyXKHcaXAsJ"
      },
      "outputs": [],
      "source": [
        "# Uncomment the model you want to use\n",
        "\n",
        "# Initialize the BERT Classifier with only the last hidden state\n",
        "#model = ClassifierLastHiddenState(pretrained_model = the_pretrained_model, num_classes = args['num_classes'], config = config, dropout = args['dropout'], freeze_bert = False)\n",
        "\n",
        "# Initialize the BERT Classifier by concatenating the last 4 hidden states\n",
        "model = ClassifierConcatLast4HiddenStates(pretrained_model = the_pretrained_model, num_classes = args['num_classes'], config = config, dropout = args['dropout'], freeze_bert = False)\n",
        "\n",
        "# Initialize the BERT Bi-Stacked-LSTM model \n",
        "#model = BIDIRECTIONAL_RNN_LSTM_GRU(cell_type = args['cell_type'], pretrained_model = the_pretrained_model, config = config, num_classes = args['num_classes'], dropout = args['dropout'], num_layers = args['num_layers'], seq_len = args['max_seq_length'], freeze_bert = False)\n",
        "\n",
        "model.to(device)\n",
        "\n",
        "# Total number of training steps\n",
        "num_train_steps = int(len(train_dataloader) * args['num_train_epochs'])\n",
        "\n",
        "# Define the optimizer and its parameters\n",
        "param_optimizer = list(model.named_parameters())\n",
        "no_decay = ['bias', 'LayerNorm.bias', 'LayerNorm.weight']\n",
        "optimizer_grouped_parameters = [{'params': [p for n, p in param_optimizer if not any(nd in n for nd in no_decay)], 'weight_decay': args['weight_decay']},\n",
        "                                {'params': [p for n, p in param_optimizer if any(nd in n for nd in no_decay)], 'weight_decay': 0.0}]\n",
        "\n",
        "optimizer = torch.optim.AdamW(optimizer_grouped_parameters, lr = args['learning_rate'], eps = args['adam_epsilon'], betas=(0.9, 0.999))\n",
        "\n",
        "# Set up the learning rate scheduler\n",
        "scheduler = get_linear_schedule_with_warmup(optimizer, num_warmup_steps = args['warmup_steps'], num_training_steps = num_train_steps)\n",
        "\n",
        "# Define the loss function\n",
        "def loss_function(outputs, targets):\n",
        "  return nn.BCEWithLogitsLoss()(outputs, targets.view(-1, 1)).to(device)"
      ]
    },
    {
      "cell_type": "markdown",
      "metadata": {
        "id": "mOS5ow2MqXdd"
      },
      "source": [
        "* `Training steps` are number of times the batches pass to train the model. It is computed as steps = (training epoch * examples)/batch size\n",
        "\n",
        "* The `learning rate` is a positive scalar that determines the size of the step.When the learning rate is too large, the gradient descent can inadvertently increase rather than decrease the training error. When the learning rate is too small, training is slower and may become permanently stuck with a high training error.\n",
        "\n",
        "* Warm-up is a way to reduce the primacy effect of the early training examples. Without it, you may need to run a few extra epochs to get the convergence desired, as the model un-trains those early superstitions. The learning rate is increased linearly over the warm-up period. If the target learning rate is p and the warm-up period is n, then the first batch iteration uses 1 * p/n for its learning rate; the second batch iteration uses 2 * p/n, and so on: iteration i uses i * p/n, until it hits the nominal rate at iteration n. Warm-up period is usually set to 1% of total training period.\n",
        "`get_linear_schedule_with_warmup` creates a schedule with a learning rate that decreases linearly after linearly increasing during a warm-up period.\n",
        "\n",
        "* `AdamW optimizer` implements Adam learning rate optimization algorithm. It is a type of Stochastic Gradient Descent with momentum. Here, momentum is described as the moving average of the gradient instead of gradient itself. \n",
        "\n",
        "* `Binary Cross Entropy Loss with Logits` combines a Sigmoid layer and the BCELoss in one single class. This version is more numerically stable than using a plain Sigmoid followed by a BCELoss as, by combining the operations into one layer, we take advantage of the log-sum-exp trick for numerical stability."
      ]
    },
    {
      "cell_type": "code",
      "execution_count": null,
      "metadata": {
        "id": "p2LB852uL07Y"
      },
      "outputs": [],
      "source": [
        "print('TRAINING PARAMETERS:\\n')\n",
        "print('Model Name: {}'.format(str(args['model_name'])))\n",
        "print('The model has {:,} trainable parameters'.format(count_parameters(model)))\n",
        "print('Loss function used: Binary Cross-Entropy Loss with Logits')\n",
        "print('Optimizer used: AdamW')\n",
        "print('Learning Rate: {:.5f}'.format(args['learning_rate']))\n",
        "print('Adam Epsilon: {}'.format(args['adam_epsilon']))\n",
        "print('Betas: {}'.format('0.9, 0.999'))\n",
        "print('Weight Decay: {}'.format(args['weight_decay']))\n",
        "print('Batch Size: {}'.format(args['batch_size']))\n",
        "print('Number of training epochs: {}'.format(args['num_train_epochs']))\n",
        "print('Maximum Sequence Length: {}'.format(args['max_seq_length']))\n",
        "print('Bidirectional RNN Cell type: {}'.format(args['cell_type']))\n",
        "print('Number of layers in the Bidirectional RNN: {}'.format(args['num_layers']))\n",
        "print('Warm-up Steps: {}'.format(args['warmup_steps']))\n",
        "print('Max grad Norm: {}'.format(args['max_grad_norm']))\n",
        "print('Number of training steps: {}'.format(num_train_steps))\n",
        "print('Dropout: {}'.format(args['dropout']))"
      ]
    },
    {
      "cell_type": "code",
      "execution_count": null,
      "metadata": {
        "id": "ulRDcizxOpns"
      },
      "outputs": [],
      "source": [
        "#print(model)"
      ]
    },
    {
      "cell_type": "markdown",
      "metadata": {
        "id": "m4e5mokf1hfD"
      },
      "source": [
        "**TRAIN AND EVALUATE BERT MODEL (TRAIN & VALIDATION SETS)**"
      ]
    },
    {
      "cell_type": "code",
      "execution_count": null,
      "metadata": {
        "id": "Pfe8q1AukNBE"
      },
      "outputs": [],
      "source": [
        "print('Training model in {} sentences and evaluating model in {} sentences...'.format(len(train_dataloader), len(val_dataloader)))\n",
        "# Store losses and accuracies\n",
        "training_stats = []\n",
        "\n",
        "# Define best_score, counter, and patience for early stopping:\n",
        "best_score = None\n",
        "counter = 0\n",
        "patience = 3\n",
        "\n",
        "model_filename = 'BERT.pt'\n",
        "#'bert_large_classifier_slh_balanced.pt'\n",
        "\n",
        "\n",
        "#'bert_large_classifier_a_h_st_balanced.pt'\n",
        "\n",
        "# Measure the total training and evaluation time\n",
        "total_t0 = time.time()\n",
        "\n",
        "for epoch in range(0, args['num_train_epochs']):\n",
        "  print('\\n======== EPOCH {} / {} ========\\n'.format(epoch + 1, args['num_train_epochs']))\n",
        "  print('TRAINING MODEL...') \n",
        "    \n",
        "  # Measure how long the training epoch takes\n",
        "  t0 = time.time()\n",
        "\n",
        "  training_loss = 0\n",
        "  training_acc = 0  \n",
        "    \n",
        "  model.train()\n",
        "    \n",
        "  for step, batch in enumerate(tqdm(train_dataloader, desc = 'Training iteration')):\n",
        "\n",
        "    # Progress update every 661 batches  482  349  927  727 457\n",
        "    if step % 1000 == 0 and not step == 0:  \n",
        "        \n",
        "      # Calculate elapsed time in minutes\n",
        "      elapsed = calculate_time(time.time() - t0)\n",
        "              \n",
        "      # Report progress\n",
        "      print(f' Batch {step} of {len(train_dataloader)} | Elapsed time: {elapsed}') \n",
        "      \n",
        "    input_ids = batch['input_ids'].to(device)   \n",
        "    attention_masks = batch['attention_mask'].to(device) \n",
        "    labels = batch['label'].to(device)\n",
        "    \n",
        "    # Zero the gradients\n",
        "    optimizer.zero_grad()\n",
        "      \n",
        "    # Perform forward propagation. Compute the predictions                            \n",
        "    predictions = model(input_ids = input_ids, attention_mask = attention_masks)\n",
        "                                                                       \n",
        "    # Compute the loss  \n",
        "    loss = loss_function(predictions, labels)\n",
        "\n",
        "    # Compute the accuracy\n",
        "    acc = accuracy(predictions, labels)\n",
        "\n",
        "    # Move logits and labels to CPU\n",
        "    predictions = predictions.detach().cpu().numpy()\n",
        "    labels = labels.to('cpu').numpy()\n",
        "      \n",
        "    # Perform backward propagation\n",
        "    loss.backward()\n",
        "\n",
        "    # Clip the gradient value\n",
        "    torch.nn.utils.clip_grad_norm_(model.parameters(), max_norm = args['max_grad_norm']) # Avoid exploding of gradients\n",
        "      \n",
        "    # Use optimizer to take gradient step and Update the learning rate\n",
        "    optimizer.step()\n",
        "    scheduler.step()\n",
        "    optimizer.zero_grad()\n",
        "                      \n",
        "    training_loss += loss.item()\n",
        "    training_acc += acc.item()\n",
        "\n",
        "  train_loss_of_epoch = training_loss / len(train_dataloader)\n",
        "  train_accuracy_of_epoch = training_acc / len(train_dataloader)\n",
        "          \n",
        "  # Measure the epoch training time\n",
        "  training_time = calculate_time(time.time() - t0)\n",
        "    \n",
        "  print('Training epoch time: {} | Train Loss: {:.3f} | Train Acc: {:.2f}%'.format(training_time, train_loss_of_epoch, train_accuracy_of_epoch*100))\n",
        "    \n",
        "  print('\\nEVALUATING MODEL...')\n",
        "    \n",
        "  t0 = time.time()\n",
        "\n",
        "  model.eval()  \n",
        "\n",
        "  eval_loss = 0\n",
        "  eval_acc = 0\n",
        "    \n",
        "  # Calculation of gradient not required during evaluation \n",
        "  with torch.no_grad():  \n",
        "    \n",
        "    for batch in tqdm(val_dataloader, desc = 'Evaluation iteration'):\n",
        "      ids_inputs = batch['input_ids'].to(device)\n",
        "      att_masks = batch['attention_mask'].to(device)\n",
        "      targets = batch['label'].to(device)\n",
        "      \n",
        "      # Perform forward propagation\n",
        "      outputs = model(input_ids = ids_inputs, attention_mask = att_masks)\n",
        "        \n",
        "      # Compute the loss \n",
        "      logits = loss_function(outputs, targets)\n",
        "\n",
        "      # Compute the accuracy\n",
        "      accur = accuracy(outputs, targets)\n",
        "      \n",
        "      # Move logits and labels to CPU\n",
        "      outputs = outputs.detach().cpu().numpy()\n",
        "      targets = targets.to('cpu').numpy()\n",
        "          \n",
        "      eval_loss += logits.item()\n",
        "      eval_acc += accur.item()\n",
        "\n",
        "  loss_of_epoch_val = eval_loss / len(val_dataloader)\n",
        "  accuracy_of_epoch_val = eval_acc / len(val_dataloader)\n",
        "  \n",
        "  # Measure the validating epoch time\n",
        "  validation_time = calculate_time(time.time() - t0)\n",
        "\n",
        "  print('Validation epoch time: {} | Validation Loss: {:.3f} | Validation Acc: {:.2f}%'.format(validation_time, loss_of_epoch_val, accuracy_of_epoch_val*100))\n",
        "  \n",
        "  if best_score is None:\n",
        "    best_score = loss_of_epoch_val\n",
        "  else:\n",
        "    # Check if val_loss improves or not.\n",
        "    if loss_of_epoch_val < best_score:\n",
        "      # val_loss improves, we update the latest best_score, and save the current model\n",
        "      best_score = loss_of_epoch_val  \n",
        "      save_model(model, model_filename, args['output_specific_model_dir'])  \n",
        "    else:\n",
        "      # val_loss does not improve, we increase the counter, stop training if it exceeds the amount of patience\n",
        "      counter += 1\n",
        "      if counter >= patience:\n",
        "        print('EARLY STOPPING!')\n",
        "        break\n",
        "\n",
        "  # Record all statistics from each epoch\n",
        "  training_stats.append({'Epoch': epoch + 1,\n",
        "                         'Training Loss': train_loss_of_epoch,\n",
        "                         'Validation Loss': loss_of_epoch_val,\n",
        "                         'Training Accuracy': train_accuracy_of_epoch,\n",
        "                         'Validation Accuracy': accuracy_of_epoch_val,\n",
        "                         'Training Time': training_time,\n",
        "                         'Validation Time': validation_time})\n",
        "  \n",
        "print('Training and evaluation process complete!')\n",
        "print('Total amount of time: {}'.format(calculate_time(time.time()-total_t0)))"
      ]
    },
    {
      "cell_type": "markdown",
      "metadata": {
        "id": "6K1YMgbv37w4"
      },
      "source": [
        "**SAVE THE TRAINED MODEL**"
      ]
    },
    {
      "cell_type": "code",
      "execution_count": null,
      "metadata": {
        "id": "yRLP3WNGNNzD"
      },
      "outputs": [],
      "source": [
        "save_model(model, 'BERT_CLASSIFIER_LAST4_HIDDEN.pt', args['output_specific_model_dir'])"
      ]
    },
    {
      "cell_type": "code",
      "execution_count": null,
      "metadata": {
        "id": "wy3vlOd3SD5a"
      },
      "outputs": [],
      "source": [
        "save_model(model, 'BERT_CLASSIFIER_LAST4_HIDDEN.pth', args['output_specific_model_dir'])"
      ]
    },
    {
      "cell_type": "markdown",
      "metadata": {
        "id": "6LU6HsyYgCaJ"
      },
      "source": [
        "**VIEW THE RESULTS FROM TRAINING AND VALIDATION**"
      ]
    },
    {
      "cell_type": "code",
      "execution_count": null,
      "metadata": {
        "id": "wRnCaNxfXP1Z"
      },
      "outputs": [],
      "source": [
        "# Display floats with two decimal places\n",
        "pd.set_option('precision', 2)\n",
        "\n",
        "# Create a DataFrame from our training statistics\n",
        "df_stats = pd.DataFrame(data = training_stats)\n",
        "\n",
        "# Use the 'epoch' as the row index\n",
        "df_stats = df_stats.set_index('Epoch')\n",
        "\n",
        "# Display the table\n",
        "df_stats"
      ]
    },
    {
      "cell_type": "code",
      "execution_count": null,
      "metadata": {
        "id": "k6l-bqbEXTD5"
      },
      "outputs": [],
      "source": [
        "# Use plot styling from seaborn\n",
        "sns.set(style='darkgrid')\n",
        "\n",
        "# Increase the plot size and font size\n",
        "sns.set(font_scale=1.5)\n",
        "plt.rcParams['figure.figsize'] = (12,6)\n",
        "\n",
        "# Plot the learning curve of loss\n",
        "plt.plot(df_stats['Training Loss'], 'b-o', label='Training')\n",
        "plt.plot(df_stats['Validation Loss'], 'g-o', label='Validation')\n",
        "plt.title('Training & Validation Loss')\n",
        "plt.xlabel('Epoch')\n",
        "plt.ylabel('Loss')\n",
        "plt.legend()\n",
        "plt.show()\n",
        "\n",
        "# Plot the learning curve of accuracy\n",
        "plt.plot(df_stats['Training Accuracy'], 'b-o', label='Training')\n",
        "plt.plot(df_stats['Validation Accuracy'], 'g-o', label='Validation')\n",
        "plt.title('Training & Validation Accuracy')\n",
        "plt.xlabel('Epoch')\n",
        "plt.ylabel('Accuracy')\n",
        "plt.legend()\n",
        "plt.show()"
      ]
    },
    {
      "cell_type": "markdown",
      "metadata": {
        "id": "38ZfcP0WvS-T"
      },
      "source": [
        "**LOAD AND PREPARE THE TEST DATASETS**"
      ]
    },
    {
      "cell_type": "markdown",
      "metadata": {
        "id": "0ozcucikH1Ue"
      },
      "source": [
        "**OLID TEST 2019**"
      ]
    },
    {
      "cell_type": "code",
      "execution_count": null,
      "metadata": {
        "id": "U9J5nZUektas",
        "colab": {
          "base_uri": "https://localhost:8080/",
          "height": 435
        },
        "outputId": "43c18a47-318f-4a35-a76b-f885388a92f2"
      },
      "outputs": [
        {
          "output_type": "stream",
          "name": "stdout",
          "text": [
            "0    620\n",
            "1    240\n",
            "Name: label, dtype: int64\n",
            "\n",
            "Examples:\n",
            "    Total: 860\n",
            "    Not Offensive: 240 (27.91% of total)\n",
            "    Offensive: 620 (72.09% of total)\n",
            "\n"
          ]
        },
        {
          "output_type": "display_data",
          "data": {
            "text/plain": [
              "<Figure size 432x288 with 1 Axes>"
            ],
            "image/png": "[encoded data removed]"
          },
          "metadata": {
            "needs_background": "light"
          }
        }
      ],
      "source": [
        "olid_english_test_no_labels2019 = pd.read_csv(args['test_data_directory'] + 'testset-levela.tsv', sep = '\\t')\n",
        "olid_english_test_labels2019 = pd.read_csv(args['test_data_directory'] + 'labels-levela.csv', sep = ',',  names=['id_remove', 'label'])\n",
        "\n",
        "olid_english_test_with_labels2019 = pd.concat([olid_english_test_no_labels2019, olid_english_test_labels2019], axis = 1)\n",
        "\n",
        "olid_english_test_with_labels2019 = olid_english_test_with_labels2019.drop(columns=['id_remove','id'], axis = 1)\n",
        "\n",
        "olid_english_test_with_labels2019['label'] = olid_english_test_with_labels2019['label'].replace({'OFF': 1})\n",
        "olid_english_test_with_labels2019['label'] = olid_english_test_with_labels2019['label'].replace({'NOT': 0})\n",
        "\n",
        "olid_english_test_with_labels2019['tweet'] = olid_english_test_with_labels2019['tweet'].apply(lambda x: preprocessing(x))\n",
        "\n",
        "# Save the  combined test dataset in tsv form for evaluation\n",
        "#olid_english_test_with_labels2019.to_csv(args['test_data_directory'] + 'olid_test_dataset_2019.tsv', encoding = 'utf-8', index = False, header = True, sep ='\\t')\n",
        "\n",
        "print(olid_english_test_with_labels2019.label.value_counts())\n",
        "countplot_train1 = sns.countplot(x = olid_english_test_with_labels2019.label)\n",
        " \n",
        "not_offensive_tweets_t1, offensive_tweets_t1 = olid_english_test_with_labels2019.label.value_counts()\n",
        "total_tweets_t1 = not_offensive_tweets_t1 + offensive_tweets_t1\n",
        "print('\\nExamples:\\n    Total: {}\\n    Not Offensive: {} ({:.2f}% of total)\\n    Offensive: {} ({:.2f}% of total)\\n'.format(total_tweets_t1, offensive_tweets_t1, 100 * offensive_tweets_t1 / total_tweets_t1, not_offensive_tweets_t1, 100 * not_offensive_tweets_t1 / total_tweets_t1))"
      ]
    },
    {
      "cell_type": "code",
      "execution_count": null,
      "metadata": {
        "id": "KGB1XFYE2d2g",
        "colab": {
          "base_uri": "https://localhost:8080/"
        },
        "outputId": "c6e22a32-cee9-4635-bba2-a2696999d9f0"
      },
      "outputs": [
        {
          "output_type": "stream",
          "name": "stdout",
          "text": [
            "Reading the file...\n",
            "Current file opened:  ['/content/drive/MyDrive/ColabNotebooks/THESIS/test_files/olid_test_dataset_2019.tsv']\n",
            "tweet                           848\n",
            "label                             2\n",
            "<class 'pandas.core.frame.DataFrame'>\n",
            "RangeIndex: 860 entries, 0 to 859\n",
            "Data columns (total 2 columns):\n",
            " #   Column  Non-Null Count  Dtype \n",
            "---  ------  --------------  ----- \n",
            " 0   tweet   860 non-null    object\n",
            " 1   label   860 non-null    int64 \n",
            "dtypes: int64(1), object(1)\n",
            "memory usage: 13.6+ KB\n"
          ]
        }
      ],
      "source": [
        "olid_2019_dataset = select_to_get_offensive_words(args['test_data_directory'] + 'olid_test_dataset_2019.tsv', search_offensive_vocab = False)            "
      ]
    },
    {
      "cell_type": "markdown",
      "metadata": {
        "id": "FWb9qtXjH41i"
      },
      "source": [
        "**OLID TEST 2020**"
      ]
    },
    {
      "cell_type": "code",
      "execution_count": null,
      "metadata": {
        "id": "W8zQT_eToHGM",
        "colab": {
          "base_uri": "https://localhost:8080/",
          "height": 435
        },
        "outputId": "60adc26c-a3db-45eb-ca8c-73ca1e788650"
      },
      "outputs": [
        {
          "output_type": "stream",
          "name": "stdout",
          "text": [
            "0    2807\n",
            "1    1080\n",
            "Name: label, dtype: int64\n",
            "\n",
            "Examples:\n",
            "    Total: 3887\n",
            "    Not Offensive: 1080 (27.78% of total)\n",
            "    Offensive: 2807 (72.22% of total)\n",
            "\n"
          ]
        },
        {
          "output_type": "display_data",
          "data": {
            "text/plain": [
              "<Figure size 432x288 with 1 Axes>"
            ],
            "image/png": "[encoded data removed]"
          },
          "metadata": {
            "needs_background": "light"
          }
        }
      ],
      "source": [
        "olid_english_test_no_labels2020 = pd.read_csv(args['test_data_directory'] + 'test_a_tweets.tsv', sep = '\\t')\n",
        "olid_english_test_labels2020 = pd.read_csv(args['test_data_directory'] + 'englishA-goldlabels.csv', sep = ',',  names=['id_remove', 'label'])\n",
        "\n",
        "olid_english_test_with_labels2020 = pd.concat([olid_english_test_no_labels2020, olid_english_test_labels2020], axis = 1)\n",
        "\n",
        "olid_english_test_with_labels2020 = olid_english_test_with_labels2020.drop(columns=['id_remove','id'], axis = 1)\n",
        "\n",
        "olid_english_test_with_labels2020['label'] = olid_english_test_with_labels2020['label'].replace({'OFF': 1})\n",
        "olid_english_test_with_labels2020['label'] = olid_english_test_with_labels2020['label'].replace({'NOT': 0})\n",
        "\n",
        "olid_english_test_with_labels2020['tweet'] = olid_english_test_with_labels2020['tweet'].apply(lambda x: preprocessing(x))\n",
        "\n",
        "# Save the  combined test dataset in tsv form for evaluation\n",
        "#olid_english_test_with_labels2020.to_csv(args['test_data_directory'] + 'olid_test_dataset_2020.tsv', encoding = 'utf-8', index = False, header = True, sep ='\\t')\n",
        "\n",
        "print(olid_english_test_with_labels2020.label.value_counts())\n",
        "countplot_train2 = sns.countplot(x = olid_english_test_with_labels2020.label)\n",
        "\n",
        "not_offensive_tweets_t2, offensive_tweets_t2 = olid_english_test_with_labels2020.label.value_counts()\n",
        "total_tweets_t2 = not_offensive_tweets_t2 + offensive_tweets_t2\n",
        "print('\\nExamples:\\n    Total: {}\\n    Not Offensive: {} ({:.2f}% of total)\\n    Offensive: {} ({:.2f}% of total)\\n'.format(total_tweets_t2, offensive_tweets_t2, 100 * offensive_tweets_t2 / total_tweets_t2, not_offensive_tweets_t2, 100 * not_offensive_tweets_t2 / total_tweets_t2))"
      ]
    },
    {
      "cell_type": "code",
      "execution_count": null,
      "metadata": {
        "id": "alOR9h3E2hWB",
        "colab": {
          "base_uri": "https://localhost:8080/"
        },
        "outputId": "154bc73b-d60a-43f7-a558-fd66e052ac81"
      },
      "outputs": [
        {
          "output_type": "stream",
          "name": "stdout",
          "text": [
            "Reading the file...\n",
            "Current file opened:  ['/content/drive/MyDrive/ColabNotebooks/THESIS/test_files/olid_test_dataset_2020.tsv']\n",
            "tweet                          3875\n",
            "label                             2\n",
            "<class 'pandas.core.frame.DataFrame'>\n",
            "RangeIndex: 3887 entries, 0 to 3886\n",
            "Data columns (total 2 columns):\n",
            " #   Column  Non-Null Count  Dtype \n",
            "---  ------  --------------  ----- \n",
            " 0   tweet   3887 non-null   object\n",
            " 1   label   3887 non-null   int64 \n",
            "dtypes: int64(1), object(1)\n",
            "memory usage: 60.9+ KB\n"
          ]
        }
      ],
      "source": [
        "olid_2020_dataset = select_to_get_offensive_words(args['test_data_directory'] + 'olid_test_dataset_2020.tsv', search_offensive_vocab = False)         "
      ]
    },
    {
      "cell_type": "markdown",
      "metadata": {
        "id": "rFq1ep4SH98G"
      },
      "source": [
        "**OLID TEST 2019 + 2020**"
      ]
    },
    {
      "cell_type": "code",
      "execution_count": null,
      "metadata": {
        "id": "3GyOp3c9e9IL",
        "colab": {
          "base_uri": "https://localhost:8080/",
          "height": 557
        },
        "outputId": "d5e82a19-0084-459b-a0cc-0af9c5de5ae6"
      },
      "outputs": [
        {
          "output_type": "stream",
          "name": "stdout",
          "text": [
            "0    3427\n",
            "1    1320\n",
            "Name: label, dtype: int64\n",
            "Reading the file...\n",
            "Current file opened:  ['/content/drive/MyDrive/ColabNotebooks/THESIS/test_files/test_combined_datasets_olid.tsv']\n",
            "tweet                          4723\n",
            "label                             2\n",
            "<class 'pandas.core.frame.DataFrame'>\n",
            "RangeIndex: 4747 entries, 0 to 4746\n",
            "Data columns (total 2 columns):\n",
            " #   Column  Non-Null Count  Dtype \n",
            "---  ------  --------------  ----- \n",
            " 0   tweet   4747 non-null   object\n",
            " 1   label   4747 non-null   int64 \n",
            "dtypes: int64(1), object(1)\n",
            "memory usage: 74.3+ KB\n"
          ]
        },
        {
          "output_type": "display_data",
          "data": {
            "text/plain": [
              "<Figure size 432x288 with 1 Axes>"
            ],
            "image/png": "[encoded data removed]"
          },
          "metadata": {
            "needs_background": "light"
          }
        }
      ],
      "source": [
        "# Combine the OLID 2019 and 2020 test sets and create a dataloader\n",
        "test_combined_datasets_olid = pd.concat([olid_english_test_with_labels2019, olid_english_test_with_labels2020], axis = 0)\n",
        "#test_combined_datasets_olid.to_csv(args['test_data_directory'] + 'test_combined_datasets_olid.tsv', encoding = 'utf-8', index = False, header = True, sep ='\\t')\n",
        "\n",
        "print(test_combined_datasets_olid.label.value_counts())\n",
        "countplot_train_combined = sns.countplot(x = test_combined_datasets_olid.label)\n",
        "\n",
        "test_combined_datasets = select_to_get_offensive_words(args['test_data_directory'] + 'test_combined_datasets_olid.tsv', search_offensive_vocab = False) "
      ]
    },
    {
      "cell_type": "markdown",
      "metadata": {
        "id": "pPNFUu_BANgy"
      },
      "source": [
        "**CREATE TEST DATALOADERS**"
      ]
    },
    {
      "cell_type": "code",
      "execution_count": null,
      "metadata": {
        "id": "lXzGNF6H_yXs",
        "colab": {
          "base_uri": "https://localhost:8080/"
        },
        "outputId": "2ebd3cd4-d7fc-470f-ec7a-1ee01e304b37"
      },
      "outputs": [
        {
          "output_type": "stream",
          "name": "stdout",
          "text": [
            "Data OLID 2019 and 2020 ready for testing!\n"
          ]
        }
      ],
      "source": [
        "# Dataloader for OLID 2019 test set\n",
        "test_olid_dataloader_2019 = create_data_loader(df = olid_2019_dataset, tokenizer = tokenizer, max_len = args['max_seq_length'], batch_size = args['batch_size'], shuffle = False)\n",
        "\n",
        "# Dataloader for OLID 2020 test set\n",
        "test_olid_dataloader_2020 = create_data_loader(df = olid_2020_dataset, tokenizer = tokenizer, max_len = args['max_seq_length'], batch_size = args['batch_size'], shuffle = False)\n",
        "print('Data OLID 2019 and 2020 ready for testing!')\n",
        "\n",
        "# Dataloader for both OLID 2019 and OLID 2020 test sets \n",
        "test_combined_dataloader = create_data_loader(df = test_combined_datasets, tokenizer = tokenizer, max_len = args['max_seq_length'], batch_size = args['batch_size'], shuffle = False)"
      ]
    },
    {
      "cell_type": "markdown",
      "metadata": {
        "id": "k94emOYi35yw"
      },
      "source": [
        "**MODEL EVALUATION ON THE TEST SETS**"
      ]
    },
    {
      "cell_type": "code",
      "execution_count": null,
      "metadata": {
        "id": "00eEvmG6AnqZ"
      },
      "outputs": [],
      "source": [
        "real_olid_2019_labels, predicted_olid_2019_labels = test(model, test_olid_dataloader_2019)"
      ]
    },
    {
      "cell_type": "code",
      "execution_count": null,
      "metadata": {
        "id": "iAe6JEn8VNen"
      },
      "outputs": [],
      "source": [
        "real_olid_2020_labels, predicted_olid_2020_labels = test(model, test_olid_dataloader_2020)"
      ]
    },
    {
      "cell_type": "code",
      "execution_count": null,
      "metadata": {
        "id": "FgmDL5C1mSeS"
      },
      "outputs": [],
      "source": [
        "true_labels, predicted_labels = test(model, test_combined_dataloader)"
      ]
    },
    {
      "cell_type": "markdown",
      "source": [
        "**MAKE PREDICTIONS**"
      ],
      "metadata": {
        "id": "UzCs1UpN3axr"
      }
    },
    {
      "cell_type": "code",
      "source": [
        "loaded_model = load_saved_model(model, 'bert_classifier_concat_last_4_31419_balanced.pt', args['output_specific_model_dir'])"
      ],
      "metadata": {
        "id": "DR5G79hTBozQ"
      },
      "execution_count": null,
      "outputs": []
    },
    {
      "cell_type": "code",
      "execution_count": null,
      "metadata": {
        "id": "7ydMqKz1aVXp"
      },
      "outputs": [],
      "source": [
        "input_text = 'You are a stupid asshole!'\n",
        "\n",
        "input_text = preprocessing(input_text)\n",
        "\n",
        "encoded_review = tokenizer.encode_plus(text = input_text,\n",
        "                                        text_pair = None,\n",
        "                                        add_special_tokens = True,      # Add [CLS] and [SEP]\n",
        "                                        max_length = 280,               # Max length to pad\n",
        "                                        padding = 'max_length',         # Pad sentence according to max length  'max_length'\n",
        "                                        truncation = True,              # Truncate the sentences\n",
        "                                        return_token_type_ids = False,  # Do not return the ids of type tokens\n",
        "                                        return_attention_mask = True,   # Return attention mask\n",
        "                                        return_tensors = 'pt')          # Return PyTorch tensor\n",
        "\n",
        "class_names = ['NOT', 'OFF']\n",
        "\n",
        "input_ids = encoded_review['input_ids'].to(device)\n",
        "attention_mask = encoded_review['attention_mask'].to(device)\n",
        "\n",
        "output = model(input_ids, attention_mask)\n",
        "_, prediction = torch.max(output, dim=1)\n",
        "\n",
        "print(f'Review text: {input_text}')\n",
        "print(f'Label: {class_names[prediction]}')"
      ]
    },
    {
      "cell_type": "markdown",
      "source": [
        "**REFERENCE SOURCE CODES**"
      ],
      "metadata": {
        "id": "L1VeyvsNWeZQ"
      }
    },
    {
      "cell_type": "markdown",
      "source": [
        "https://www.kaggle.com/code/rhtsingh/utilizing-transformer-representations-efficiently\n"
      ],
      "metadata": {
        "id": "0h54jFUHWhMB"
      }
    }
  ],
  "metadata": {
    "accelerator": "GPU",
    "colab": {
      "collapsed_sections": [],
      "machine_shape": "hm",
      "provenance": [],
      "mount_file_id": "15P6OI9XNk8yvsQxLsPrifOkc3eVqtHce",
      "authorship_tag": "ABX9TyNFut1cWZ+M/oXYKcyIb56Y",
      "include_colab_link": true
    },
    "kernelspec": {
      "display_name": "Python 3",
      "name": "python3"
    },
    "language_info": {
      "name": "python"
    },
    "widgets": {
      "application/vnd.jupyter.widget-state+json": {
        "791151e9eef549129f8f26e57036fdcb": {
          "model_module": "@jupyter-widgets/controls",
          "model_name": "HBoxModel",
          "model_module_version": "1.5.0",
          "state": {
            "_dom_classes": [],
            "_model_module": "@jupyter-widgets/controls",
            "_model_module_version": "1.5.0",
            "_model_name": "HBoxModel",
            "_view_count": null,
            "_view_module": "@jupyter-widgets/controls",
            "_view_module_version": "1.5.0",
            "_view_name": "HBoxView",
            "box_style": "",
            "children": [
              "IPY_MODEL_f575afb4211b4f7e899ec5d9506e5008",
              "IPY_MODEL_aaed11716297448e81dfd6eceaed197f",
              "IPY_MODEL_ab1886c3defb48f98c9fa61e2a33e022"
            ],
            "layout": "IPY_MODEL_49cbc5c1f6fa496d9b1596320ab694c6"
          }
        },
        "f575afb4211b4f7e899ec5d9506e5008": {
          "model_module": "@jupyter-widgets/controls",
          "model_name": "HTMLModel",
          "model_module_version": "1.5.0",
          "state": {
            "_dom_classes": [],
            "_model_module": "@jupyter-widgets/controls",
            "_model_module_version": "1.5.0",
            "_model_name": "HTMLModel",
            "_view_count": null,
            "_view_module": "@jupyter-widgets/controls",
            "_view_module_version": "1.5.0",
            "_view_name": "HTMLView",
            "description": "",
            "description_tooltip": null,
            "layout": "IPY_MODEL_5e7b97ff573342928278ed5f89207be8",
            "placeholder": "​",
            "style": "IPY_MODEL_8bc015ee368f40ca9250f1ebf5bfca54",
            "value": "Downloading: 100%"
          }
        },
        "aaed11716297448e81dfd6eceaed197f": {
          "model_module": "@jupyter-widgets/controls",
          "model_name": "FloatProgressModel",
          "model_module_version": "1.5.0",
          "state": {
            "_dom_classes": [],
            "_model_module": "@jupyter-widgets/controls",
            "_model_module_version": "1.5.0",
            "_model_name": "FloatProgressModel",
            "_view_count": null,
            "_view_module": "@jupyter-widgets/controls",
            "_view_module_version": "1.5.0",
            "_view_name": "ProgressView",
            "bar_style": "success",
            "description": "",
            "description_tooltip": null,
            "layout": "IPY_MODEL_1b22e518f61447158d1c0b231e9fd090",
            "max": 571,
            "min": 0,
            "orientation": "horizontal",
            "style": "IPY_MODEL_89f99f783ddb4fcf8326a859a9756bf1",
            "value": 571
          }
        },
        "ab1886c3defb48f98c9fa61e2a33e022": {
          "model_module": "@jupyter-widgets/controls",
          "model_name": "HTMLModel",
          "model_module_version": "1.5.0",
          "state": {
            "_dom_classes": [],
            "_model_module": "@jupyter-widgets/controls",
            "_model_module_version": "1.5.0",
            "_model_name": "HTMLModel",
            "_view_count": null,
            "_view_module": "@jupyter-widgets/controls",
            "_view_module_version": "1.5.0",
            "_view_name": "HTMLView",
            "description": "",
            "description_tooltip": null,
            "layout": "IPY_MODEL_7a2311ff61cd414a8a46cbfffe11f860",
            "placeholder": "​",
            "style": "IPY_MODEL_4d9dc50af12c48119f3ccc3281a521f0",
            "value": " 571/571 [00:00&lt;00:00, 19.6kB/s]"
          }
        },
        "49cbc5c1f6fa496d9b1596320ab694c6": {
          "model_module": "@jupyter-widgets/base",
          "model_name": "LayoutModel",
          "model_module_version": "1.2.0",
          "state": {
            "_model_module": "@jupyter-widgets/base",
            "_model_module_version": "1.2.0",
            "_model_name": "LayoutModel",
            "_view_count": null,
            "_view_module": "@jupyter-widgets/base",
            "_view_module_version": "1.2.0",
            "_view_name": "LayoutView",
            "align_content": null,
            "align_items": null,
            "align_self": null,
            "border": null,
            "bottom": null,
            "display": null,
            "flex": null,
            "flex_flow": null,
            "grid_area": null,
            "grid_auto_columns": null,
            "grid_auto_flow": null,
            "grid_auto_rows": null,
            "grid_column": null,
            "grid_gap": null,
            "grid_row": null,
            "grid_template_areas": null,
            "grid_template_columns": null,
            "grid_template_rows": null,
            "height": null,
            "justify_content": null,
            "justify_items": null,
            "left": null,
            "margin": null,
            "max_height": null,
            "max_width": null,
            "min_height": null,
            "min_width": null,
            "object_fit": null,
            "object_position": null,
            "order": null,
            "overflow": null,
            "overflow_x": null,
            "overflow_y": null,
            "padding": null,
            "right": null,
            "top": null,
            "visibility": null,
            "width": null
          }
        },
        "5e7b97ff573342928278ed5f89207be8": {
          "model_module": "@jupyter-widgets/base",
          "model_name": "LayoutModel",
          "model_module_version": "1.2.0",
          "state": {
            "_model_module": "@jupyter-widgets/base",
            "_model_module_version": "1.2.0",
            "_model_name": "LayoutModel",
            "_view_count": null,
            "_view_module": "@jupyter-widgets/base",
            "_view_module_version": "1.2.0",
            "_view_name": "LayoutView",
            "align_content": null,
            "align_items": null,
            "align_self": null,
            "border": null,
            "bottom": null,
            "display": null,
            "flex": null,
            "flex_flow": null,
            "grid_area": null,
            "grid_auto_columns": null,
            "grid_auto_flow": null,
            "grid_auto_rows": null,
            "grid_column": null,
            "grid_gap": null,
            "grid_row": null,
            "grid_template_areas": null,
            "grid_template_columns": null,
            "grid_template_rows": null,
            "height": null,
            "justify_content": null,
            "justify_items": null,
            "left": null,
            "margin": null,
            "max_height": null,
            "max_width": null,
            "min_height": null,
            "min_width": null,
            "object_fit": null,
            "object_position": null,
            "order": null,
            "overflow": null,
            "overflow_x": null,
            "overflow_y": null,
            "padding": null,
            "right": null,
            "top": null,
            "visibility": null,
            "width": null
          }
        },
        "8bc015ee368f40ca9250f1ebf5bfca54": {
          "model_module": "@jupyter-widgets/controls",
          "model_name": "DescriptionStyleModel",
          "model_module_version": "1.5.0",
          "state": {
            "_model_module": "@jupyter-widgets/controls",
            "_model_module_version": "1.5.0",
            "_model_name": "DescriptionStyleModel",
            "_view_count": null,
            "_view_module": "@jupyter-widgets/base",
            "_view_module_version": "1.2.0",
            "_view_name": "StyleView",
            "description_width": ""
          }
        },
        "1b22e518f61447158d1c0b231e9fd090": {
          "model_module": "@jupyter-widgets/base",
          "model_name": "LayoutModel",
          "model_module_version": "1.2.0",
          "state": {
            "_model_module": "@jupyter-widgets/base",
            "_model_module_version": "1.2.0",
            "_model_name": "LayoutModel",
            "_view_count": null,
            "_view_module": "@jupyter-widgets/base",
            "_view_module_version": "1.2.0",
            "_view_name": "LayoutView",
            "align_content": null,
            "align_items": null,
            "align_self": null,
            "border": null,
            "bottom": null,
            "display": null,
            "flex": null,
            "flex_flow": null,
            "grid_area": null,
            "grid_auto_columns": null,
            "grid_auto_flow": null,
            "grid_auto_rows": null,
            "grid_column": null,
            "grid_gap": null,
            "grid_row": null,
            "grid_template_areas": null,
            "grid_template_columns": null,
            "grid_template_rows": null,
            "height": null,
            "justify_content": null,
            "justify_items": null,
            "left": null,
            "margin": null,
            "max_height": null,
            "max_width": null,
            "min_height": null,
            "min_width": null,
            "object_fit": null,
            "object_position": null,
            "order": null,
            "overflow": null,
            "overflow_x": null,
            "overflow_y": null,
            "padding": null,
            "right": null,
            "top": null,
            "visibility": null,
            "width": null
          }
        },
        "89f99f783ddb4fcf8326a859a9756bf1": {
          "model_module": "@jupyter-widgets/controls",
          "model_name": "ProgressStyleModel",
          "model_module_version": "1.5.0",
          "state": {
            "_model_module": "@jupyter-widgets/controls",
            "_model_module_version": "1.5.0",
            "_model_name": "ProgressStyleModel",
            "_view_count": null,
            "_view_module": "@jupyter-widgets/base",
            "_view_module_version": "1.2.0",
            "_view_name": "StyleView",
            "bar_color": null,
            "description_width": ""
          }
        },
        "7a2311ff61cd414a8a46cbfffe11f860": {
          "model_module": "@jupyter-widgets/base",
          "model_name": "LayoutModel",
          "model_module_version": "1.2.0",
          "state": {
            "_model_module": "@jupyter-widgets/base",
            "_model_module_version": "1.2.0",
            "_model_name": "LayoutModel",
            "_view_count": null,
            "_view_module": "@jupyter-widgets/base",
            "_view_module_version": "1.2.0",
            "_view_name": "LayoutView",
            "align_content": null,
            "align_items": null,
            "align_self": null,
            "border": null,
            "bottom": null,
            "display": null,
            "flex": null,
            "flex_flow": null,
            "grid_area": null,
            "grid_auto_columns": null,
            "grid_auto_flow": null,
            "grid_auto_rows": null,
            "grid_column": null,
            "grid_gap": null,
            "grid_row": null,
            "grid_template_areas": null,
            "grid_template_columns": null,
            "grid_template_rows": null,
            "height": null,
            "justify_content": null,
            "justify_items": null,
            "left": null,
            "margin": null,
            "max_height": null,
            "max_width": null,
            "min_height": null,
            "min_width": null,
            "object_fit": null,
            "object_position": null,
            "order": null,
            "overflow": null,
            "overflow_x": null,
            "overflow_y": null,
            "padding": null,
            "right": null,
            "top": null,
            "visibility": null,
            "width": null
          }
        },
        "4d9dc50af12c48119f3ccc3281a521f0": {
          "model_module": "@jupyter-widgets/controls",
          "model_name": "DescriptionStyleModel",
          "model_module_version": "1.5.0",
          "state": {
            "_model_module": "@jupyter-widgets/controls",
            "_model_module_version": "1.5.0",
            "_model_name": "DescriptionStyleModel",
            "_view_count": null,
            "_view_module": "@jupyter-widgets/base",
            "_view_module_version": "1.2.0",
            "_view_name": "StyleView",
            "description_width": ""
          }
        },
        "7998f247f6ad4eb694f7c2c9177c8792": {
          "model_module": "@jupyter-widgets/controls",
          "model_name": "HBoxModel",
          "model_module_version": "1.5.0",
          "state": {
            "_dom_classes": [],
            "_model_module": "@jupyter-widgets/controls",
            "_model_module_version": "1.5.0",
            "_model_name": "HBoxModel",
            "_view_count": null,
            "_view_module": "@jupyter-widgets/controls",
            "_view_module_version": "1.5.0",
            "_view_name": "HBoxView",
            "box_style": "",
            "children": [
              "IPY_MODEL_575e36c0eb924b70872954122dcd67f7",
              "IPY_MODEL_78a5907f5e25463c8723fc7a8f608edc",
              "IPY_MODEL_a7be5d973dbd45739b4842fc79f24da7"
            ],
            "layout": "IPY_MODEL_6b34d1209b0e44b08a216f64133ebd79"
          }
        },
        "575e36c0eb924b70872954122dcd67f7": {
          "model_module": "@jupyter-widgets/controls",
          "model_name": "HTMLModel",
          "model_module_version": "1.5.0",
          "state": {
            "_dom_classes": [],
            "_model_module": "@jupyter-widgets/controls",
            "_model_module_version": "1.5.0",
            "_model_name": "HTMLModel",
            "_view_count": null,
            "_view_module": "@jupyter-widgets/controls",
            "_view_module_version": "1.5.0",
            "_view_name": "HTMLView",
            "description": "",
            "description_tooltip": null,
            "layout": "IPY_MODEL_9343c78da89e4a63ac82735cc23da6d4",
            "placeholder": "​",
            "style": "IPY_MODEL_f8211301d8bf4e669ac9b9f06f4bd818",
            "value": "Downloading: 100%"
          }
        },
        "78a5907f5e25463c8723fc7a8f608edc": {
          "model_module": "@jupyter-widgets/controls",
          "model_name": "FloatProgressModel",
          "model_module_version": "1.5.0",
          "state": {
            "_dom_classes": [],
            "_model_module": "@jupyter-widgets/controls",
            "_model_module_version": "1.5.0",
            "_model_name": "FloatProgressModel",
            "_view_count": null,
            "_view_module": "@jupyter-widgets/controls",
            "_view_module_version": "1.5.0",
            "_view_name": "ProgressView",
            "bar_style": "success",
            "description": "",
            "description_tooltip": null,
            "layout": "IPY_MODEL_d3cb698bc9e3460aa42ab7e208099ef2",
            "max": 231508,
            "min": 0,
            "orientation": "horizontal",
            "style": "IPY_MODEL_5eedda378c0d4602a2b298dddb60c79c",
            "value": 231508
          }
        },
        "a7be5d973dbd45739b4842fc79f24da7": {
          "model_module": "@jupyter-widgets/controls",
          "model_name": "HTMLModel",
          "model_module_version": "1.5.0",
          "state": {
            "_dom_classes": [],
            "_model_module": "@jupyter-widgets/controls",
            "_model_module_version": "1.5.0",
            "_model_name": "HTMLModel",
            "_view_count": null,
            "_view_module": "@jupyter-widgets/controls",
            "_view_module_version": "1.5.0",
            "_view_name": "HTMLView",
            "description": "",
            "description_tooltip": null,
            "layout": "IPY_MODEL_fbdb579dbde74a628cffee01cbfe3463",
            "placeholder": "​",
            "style": "IPY_MODEL_df7956300fa148498bce5c6991992796",
            "value": " 232k/232k [00:00&lt;00:00, 779kB/s]"
          }
        },
        "6b34d1209b0e44b08a216f64133ebd79": {
          "model_module": "@jupyter-widgets/base",
          "model_name": "LayoutModel",
          "model_module_version": "1.2.0",
          "state": {
            "_model_module": "@jupyter-widgets/base",
            "_model_module_version": "1.2.0",
            "_model_name": "LayoutModel",
            "_view_count": null,
            "_view_module": "@jupyter-widgets/base",
            "_view_module_version": "1.2.0",
            "_view_name": "LayoutView",
            "align_content": null,
            "align_items": null,
            "align_self": null,
            "border": null,
            "bottom": null,
            "display": null,
            "flex": null,
            "flex_flow": null,
            "grid_area": null,
            "grid_auto_columns": null,
            "grid_auto_flow": null,
            "grid_auto_rows": null,
            "grid_column": null,
            "grid_gap": null,
            "grid_row": null,
            "grid_template_areas": null,
            "grid_template_columns": null,
            "grid_template_rows": null,
            "height": null,
            "justify_content": null,
            "justify_items": null,
            "left": null,
            "margin": null,
            "max_height": null,
            "max_width": null,
            "min_height": null,
            "min_width": null,
            "object_fit": null,
            "object_position": null,
            "order": null,
            "overflow": null,
            "overflow_x": null,
            "overflow_y": null,
            "padding": null,
            "right": null,
            "top": null,
            "visibility": null,
            "width": null
          }
        },
        "9343c78da89e4a63ac82735cc23da6d4": {
          "model_module": "@jupyter-widgets/base",
          "model_name": "LayoutModel",
          "model_module_version": "1.2.0",
          "state": {
            "_model_module": "@jupyter-widgets/base",
            "_model_module_version": "1.2.0",
            "_model_name": "LayoutModel",
            "_view_count": null,
            "_view_module": "@jupyter-widgets/base",
            "_view_module_version": "1.2.0",
            "_view_name": "LayoutView",
            "align_content": null,
            "align_items": null,
            "align_self": null,
            "border": null,
            "bottom": null,
            "display": null,
            "flex": null,
            "flex_flow": null,
            "grid_area": null,
            "grid_auto_columns": null,
            "grid_auto_flow": null,
            "grid_auto_rows": null,
            "grid_column": null,
            "grid_gap": null,
            "grid_row": null,
            "grid_template_areas": null,
            "grid_template_columns": null,
            "grid_template_rows": null,
            "height": null,
            "justify_content": null,
            "justify_items": null,
            "left": null,
            "margin": null,
            "max_height": null,
            "max_width": null,
            "min_height": null,
            "min_width": null,
            "object_fit": null,
            "object_position": null,
            "order": null,
            "overflow": null,
            "overflow_x": null,
            "overflow_y": null,
            "padding": null,
            "right": null,
            "top": null,
            "visibility": null,
            "width": null
          }
        },
        "f8211301d8bf4e669ac9b9f06f4bd818": {
          "model_module": "@jupyter-widgets/controls",
          "model_name": "DescriptionStyleModel",
          "model_module_version": "1.5.0",
          "state": {
            "_model_module": "@jupyter-widgets/controls",
            "_model_module_version": "1.5.0",
            "_model_name": "DescriptionStyleModel",
            "_view_count": null,
            "_view_module": "@jupyter-widgets/base",
            "_view_module_version": "1.2.0",
            "_view_name": "StyleView",
            "description_width": ""
          }
        },
        "d3cb698bc9e3460aa42ab7e208099ef2": {
          "model_module": "@jupyter-widgets/base",
          "model_name": "LayoutModel",
          "model_module_version": "1.2.0",
          "state": {
            "_model_module": "@jupyter-widgets/base",
            "_model_module_version": "1.2.0",
            "_model_name": "LayoutModel",
            "_view_count": null,
            "_view_module": "@jupyter-widgets/base",
            "_view_module_version": "1.2.0",
            "_view_name": "LayoutView",
            "align_content": null,
            "align_items": null,
            "align_self": null,
            "border": null,
            "bottom": null,
            "display": null,
            "flex": null,
            "flex_flow": null,
            "grid_area": null,
            "grid_auto_columns": null,
            "grid_auto_flow": null,
            "grid_auto_rows": null,
            "grid_column": null,
            "grid_gap": null,
            "grid_row": null,
            "grid_template_areas": null,
            "grid_template_columns": null,
            "grid_template_rows": null,
            "height": null,
            "justify_content": null,
            "justify_items": null,
            "left": null,
            "margin": null,
            "max_height": null,
            "max_width": null,
            "min_height": null,
            "min_width": null,
            "object_fit": null,
            "object_position": null,
            "order": null,
            "overflow": null,
            "overflow_x": null,
            "overflow_y": null,
            "padding": null,
            "right": null,
            "top": null,
            "visibility": null,
            "width": null
          }
        },
        "5eedda378c0d4602a2b298dddb60c79c": {
          "model_module": "@jupyter-widgets/controls",
          "model_name": "ProgressStyleModel",
          "model_module_version": "1.5.0",
          "state": {
            "_model_module": "@jupyter-widgets/controls",
            "_model_module_version": "1.5.0",
            "_model_name": "ProgressStyleModel",
            "_view_count": null,
            "_view_module": "@jupyter-widgets/base",
            "_view_module_version": "1.2.0",
            "_view_name": "StyleView",
            "bar_color": null,
            "description_width": ""
          }
        },
        "fbdb579dbde74a628cffee01cbfe3463": {
          "model_module": "@jupyter-widgets/base",
          "model_name": "LayoutModel",
          "model_module_version": "1.2.0",
          "state": {
            "_model_module": "@jupyter-widgets/base",
            "_model_module_version": "1.2.0",
            "_model_name": "LayoutModel",
            "_view_count": null,
            "_view_module": "@jupyter-widgets/base",
            "_view_module_version": "1.2.0",
            "_view_name": "LayoutView",
            "align_content": null,
            "align_items": null,
            "align_self": null,
            "border": null,
            "bottom": null,
            "display": null,
            "flex": null,
            "flex_flow": null,
            "grid_area": null,
            "grid_auto_columns": null,
            "grid_auto_flow": null,
            "grid_auto_rows": null,
            "grid_column": null,
            "grid_gap": null,
            "grid_row": null,
            "grid_template_areas": null,
            "grid_template_columns": null,
            "grid_template_rows": null,
            "height": null,
            "justify_content": null,
            "justify_items": null,
            "left": null,
            "margin": null,
            "max_height": null,
            "max_width": null,
            "min_height": null,
            "min_width": null,
            "object_fit": null,
            "object_position": null,
            "order": null,
            "overflow": null,
            "overflow_x": null,
            "overflow_y": null,
            "padding": null,
            "right": null,
            "top": null,
            "visibility": null,
            "width": null
          }
        },
        "df7956300fa148498bce5c6991992796": {
          "model_module": "@jupyter-widgets/controls",
          "model_name": "DescriptionStyleModel",
          "model_module_version": "1.5.0",
          "state": {
            "_model_module": "@jupyter-widgets/controls",
            "_model_module_version": "1.5.0",
            "_model_name": "DescriptionStyleModel",
            "_view_count": null,
            "_view_module": "@jupyter-widgets/base",
            "_view_module_version": "1.2.0",
            "_view_name": "StyleView",
            "description_width": ""
          }
        },
        "18abe435359540e28d208d9395fff1c6": {
          "model_module": "@jupyter-widgets/controls",
          "model_name": "HBoxModel",
          "model_module_version": "1.5.0",
          "state": {
            "_dom_classes": [],
            "_model_module": "@jupyter-widgets/controls",
            "_model_module_version": "1.5.0",
            "_model_name": "HBoxModel",
            "_view_count": null,
            "_view_module": "@jupyter-widgets/controls",
            "_view_module_version": "1.5.0",
            "_view_name": "HBoxView",
            "box_style": "",
            "children": [
              "IPY_MODEL_a62a0a9185cd4840bec94f73f1d0827a",
              "IPY_MODEL_2e3a18da113f4ea8bae99634dfb0a1c0",
              "IPY_MODEL_2ecdb045a6944278a65cb75cc826f9bd"
            ],
            "layout": "IPY_MODEL_c18f310c9f91472c86885e6fd0998a2e"
          }
        },
        "a62a0a9185cd4840bec94f73f1d0827a": {
          "model_module": "@jupyter-widgets/controls",
          "model_name": "HTMLModel",
          "model_module_version": "1.5.0",
          "state": {
            "_dom_classes": [],
            "_model_module": "@jupyter-widgets/controls",
            "_model_module_version": "1.5.0",
            "_model_name": "HTMLModel",
            "_view_count": null,
            "_view_module": "@jupyter-widgets/controls",
            "_view_module_version": "1.5.0",
            "_view_name": "HTMLView",
            "description": "",
            "description_tooltip": null,
            "layout": "IPY_MODEL_86c42249e0c742d39eaad59cbb668b5a",
            "placeholder": "​",
            "style": "IPY_MODEL_e8d97754dd8e4476974e1f63d636b9f7",
            "value": "Downloading: 100%"
          }
        },
        "2e3a18da113f4ea8bae99634dfb0a1c0": {
          "model_module": "@jupyter-widgets/controls",
          "model_name": "FloatProgressModel",
          "model_module_version": "1.5.0",
          "state": {
            "_dom_classes": [],
            "_model_module": "@jupyter-widgets/controls",
            "_model_module_version": "1.5.0",
            "_model_name": "FloatProgressModel",
            "_view_count": null,
            "_view_module": "@jupyter-widgets/controls",
            "_view_module_version": "1.5.0",
            "_view_name": "ProgressView",
            "bar_style": "success",
            "description": "",
            "description_tooltip": null,
            "layout": "IPY_MODEL_80362a92b7694f138d2afa8000cec1d7",
            "max": 28,
            "min": 0,
            "orientation": "horizontal",
            "style": "IPY_MODEL_59e392c2f5ff4350b774fb468c23bbeb",
            "value": 28
          }
        },
        "2ecdb045a6944278a65cb75cc826f9bd": {
          "model_module": "@jupyter-widgets/controls",
          "model_name": "HTMLModel",
          "model_module_version": "1.5.0",
          "state": {
            "_dom_classes": [],
            "_model_module": "@jupyter-widgets/controls",
            "_model_module_version": "1.5.0",
            "_model_name": "HTMLModel",
            "_view_count": null,
            "_view_module": "@jupyter-widgets/controls",
            "_view_module_version": "1.5.0",
            "_view_name": "HTMLView",
            "description": "",
            "description_tooltip": null,
            "layout": "IPY_MODEL_49c1e6c1f5624328a5db7cdff9bc53ea",
            "placeholder": "​",
            "style": "IPY_MODEL_f2e85b1c709643da8ec40b9d68c27798",
            "value": " 28.0/28.0 [00:00&lt;00:00, 1.09kB/s]"
          }
        },
        "c18f310c9f91472c86885e6fd0998a2e": {
          "model_module": "@jupyter-widgets/base",
          "model_name": "LayoutModel",
          "model_module_version": "1.2.0",
          "state": {
            "_model_module": "@jupyter-widgets/base",
            "_model_module_version": "1.2.0",
            "_model_name": "LayoutModel",
            "_view_count": null,
            "_view_module": "@jupyter-widgets/base",
            "_view_module_version": "1.2.0",
            "_view_name": "LayoutView",
            "align_content": null,
            "align_items": null,
            "align_self": null,
            "border": null,
            "bottom": null,
            "display": null,
            "flex": null,
            "flex_flow": null,
            "grid_area": null,
            "grid_auto_columns": null,
            "grid_auto_flow": null,
            "grid_auto_rows": null,
            "grid_column": null,
            "grid_gap": null,
            "grid_row": null,
            "grid_template_areas": null,
            "grid_template_columns": null,
            "grid_template_rows": null,
            "height": null,
            "justify_content": null,
            "justify_items": null,
            "left": null,
            "margin": null,
            "max_height": null,
            "max_width": null,
            "min_height": null,
            "min_width": null,
            "object_fit": null,
            "object_position": null,
            "order": null,
            "overflow": null,
            "overflow_x": null,
            "overflow_y": null,
            "padding": null,
            "right": null,
            "top": null,
            "visibility": null,
            "width": null
          }
        },
        "86c42249e0c742d39eaad59cbb668b5a": {
          "model_module": "@jupyter-widgets/base",
          "model_name": "LayoutModel",
          "model_module_version": "1.2.0",
          "state": {
            "_model_module": "@jupyter-widgets/base",
            "_model_module_version": "1.2.0",
            "_model_name": "LayoutModel",
            "_view_count": null,
            "_view_module": "@jupyter-widgets/base",
            "_view_module_version": "1.2.0",
            "_view_name": "LayoutView",
            "align_content": null,
            "align_items": null,
            "align_self": null,
            "border": null,
            "bottom": null,
            "display": null,
            "flex": null,
            "flex_flow": null,
            "grid_area": null,
            "grid_auto_columns": null,
            "grid_auto_flow": null,
            "grid_auto_rows": null,
            "grid_column": null,
            "grid_gap": null,
            "grid_row": null,
            "grid_template_areas": null,
            "grid_template_columns": null,
            "grid_template_rows": null,
            "height": null,
            "justify_content": null,
            "justify_items": null,
            "left": null,
            "margin": null,
            "max_height": null,
            "max_width": null,
            "min_height": null,
            "min_width": null,
            "object_fit": null,
            "object_position": null,
            "order": null,
            "overflow": null,
            "overflow_x": null,
            "overflow_y": null,
            "padding": null,
            "right": null,
            "top": null,
            "visibility": null,
            "width": null
          }
        },
        "e8d97754dd8e4476974e1f63d636b9f7": {
          "model_module": "@jupyter-widgets/controls",
          "model_name": "DescriptionStyleModel",
          "model_module_version": "1.5.0",
          "state": {
            "_model_module": "@jupyter-widgets/controls",
            "_model_module_version": "1.5.0",
            "_model_name": "DescriptionStyleModel",
            "_view_count": null,
            "_view_module": "@jupyter-widgets/base",
            "_view_module_version": "1.2.0",
            "_view_name": "StyleView",
            "description_width": ""
          }
        },
        "80362a92b7694f138d2afa8000cec1d7": {
          "model_module": "@jupyter-widgets/base",
          "model_name": "LayoutModel",
          "model_module_version": "1.2.0",
          "state": {
            "_model_module": "@jupyter-widgets/base",
            "_model_module_version": "1.2.0",
            "_model_name": "LayoutModel",
            "_view_count": null,
            "_view_module": "@jupyter-widgets/base",
            "_view_module_version": "1.2.0",
            "_view_name": "LayoutView",
            "align_content": null,
            "align_items": null,
            "align_self": null,
            "border": null,
            "bottom": null,
            "display": null,
            "flex": null,
            "flex_flow": null,
            "grid_area": null,
            "grid_auto_columns": null,
            "grid_auto_flow": null,
            "grid_auto_rows": null,
            "grid_column": null,
            "grid_gap": null,
            "grid_row": null,
            "grid_template_areas": null,
            "grid_template_columns": null,
            "grid_template_rows": null,
            "height": null,
            "justify_content": null,
            "justify_items": null,
            "left": null,
            "margin": null,
            "max_height": null,
            "max_width": null,
            "min_height": null,
            "min_width": null,
            "object_fit": null,
            "object_position": null,
            "order": null,
            "overflow": null,
            "overflow_x": null,
            "overflow_y": null,
            "padding": null,
            "right": null,
            "top": null,
            "visibility": null,
            "width": null
          }
        },
        "59e392c2f5ff4350b774fb468c23bbeb": {
          "model_module": "@jupyter-widgets/controls",
          "model_name": "ProgressStyleModel",
          "model_module_version": "1.5.0",
          "state": {
            "_model_module": "@jupyter-widgets/controls",
            "_model_module_version": "1.5.0",
            "_model_name": "ProgressStyleModel",
            "_view_count": null,
            "_view_module": "@jupyter-widgets/base",
            "_view_module_version": "1.2.0",
            "_view_name": "StyleView",
            "bar_color": null,
            "description_width": ""
          }
        },
        "49c1e6c1f5624328a5db7cdff9bc53ea": {
          "model_module": "@jupyter-widgets/base",
          "model_name": "LayoutModel",
          "model_module_version": "1.2.0",
          "state": {
            "_model_module": "@jupyter-widgets/base",
            "_model_module_version": "1.2.0",
            "_model_name": "LayoutModel",
            "_view_count": null,
            "_view_module": "@jupyter-widgets/base",
            "_view_module_version": "1.2.0",
            "_view_name": "LayoutView",
            "align_content": null,
            "align_items": null,
            "align_self": null,
            "border": null,
            "bottom": null,
            "display": null,
            "flex": null,
            "flex_flow": null,
            "grid_area": null,
            "grid_auto_columns": null,
            "grid_auto_flow": null,
            "grid_auto_rows": null,
            "grid_column": null,
            "grid_gap": null,
            "grid_row": null,
            "grid_template_areas": null,
            "grid_template_columns": null,
            "grid_template_rows": null,
            "height": null,
            "justify_content": null,
            "justify_items": null,
            "left": null,
            "margin": null,
            "max_height": null,
            "max_width": null,
            "min_height": null,
            "min_width": null,
            "object_fit": null,
            "object_position": null,
            "order": null,
            "overflow": null,
            "overflow_x": null,
            "overflow_y": null,
            "padding": null,
            "right": null,
            "top": null,
            "visibility": null,
            "width": null
          }
        },
        "f2e85b1c709643da8ec40b9d68c27798": {
          "model_module": "@jupyter-widgets/controls",
          "model_name": "DescriptionStyleModel",
          "model_module_version": "1.5.0",
          "state": {
            "_model_module": "@jupyter-widgets/controls",
            "_model_module_version": "1.5.0",
            "_model_name": "DescriptionStyleModel",
            "_view_count": null,
            "_view_module": "@jupyter-widgets/base",
            "_view_module_version": "1.2.0",
            "_view_name": "StyleView",
            "description_width": ""
          }
        },
        "7fef27d588e743ceb53f4270237fec70": {
          "model_module": "@jupyter-widgets/controls",
          "model_name": "HBoxModel",
          "model_module_version": "1.5.0",
          "state": {
            "_dom_classes": [],
            "_model_module": "@jupyter-widgets/controls",
            "_model_module_version": "1.5.0",
            "_model_name": "HBoxModel",
            "_view_count": null,
            "_view_module": "@jupyter-widgets/controls",
            "_view_module_version": "1.5.0",
            "_view_name": "HBoxView",
            "box_style": "",
            "children": [
              "IPY_MODEL_2172554384744eb48b1b64adc9326bbd",
              "IPY_MODEL_038777d6c6bf4d9aa6b4c57022ee5dd0",
              "IPY_MODEL_67559e2951b34393aa2ab889737db0f1"
            ],
            "layout": "IPY_MODEL_8c03de02e4cc4bf6b7e95d5be23017a8"
          }
        },
        "2172554384744eb48b1b64adc9326bbd": {
          "model_module": "@jupyter-widgets/controls",
          "model_name": "HTMLModel",
          "model_module_version": "1.5.0",
          "state": {
            "_dom_classes": [],
            "_model_module": "@jupyter-widgets/controls",
            "_model_module_version": "1.5.0",
            "_model_name": "HTMLModel",
            "_view_count": null,
            "_view_module": "@jupyter-widgets/controls",
            "_view_module_version": "1.5.0",
            "_view_name": "HTMLView",
            "description": "",
            "description_tooltip": null,
            "layout": "IPY_MODEL_43a4be1e981d4b4d9eb13d1c492a7a2c",
            "placeholder": "​",
            "style": "IPY_MODEL_dfedb763806f4077ac271802ba6481aa",
            "value": "Downloading: 100%"
          }
        },
        "038777d6c6bf4d9aa6b4c57022ee5dd0": {
          "model_module": "@jupyter-widgets/controls",
          "model_name": "FloatProgressModel",
          "model_module_version": "1.5.0",
          "state": {
            "_dom_classes": [],
            "_model_module": "@jupyter-widgets/controls",
            "_model_module_version": "1.5.0",
            "_model_name": "FloatProgressModel",
            "_view_count": null,
            "_view_module": "@jupyter-widgets/controls",
            "_view_module_version": "1.5.0",
            "_view_name": "ProgressView",
            "bar_style": "success",
            "description": "",
            "description_tooltip": null,
            "layout": "IPY_MODEL_adcdba789d724ace8314fa64fd281182",
            "max": 1344997306,
            "min": 0,
            "orientation": "horizontal",
            "style": "IPY_MODEL_7e7c94a4296e43abbeff2bd5d650323f",
            "value": 1344997306
          }
        },
        "67559e2951b34393aa2ab889737db0f1": {
          "model_module": "@jupyter-widgets/controls",
          "model_name": "HTMLModel",
          "model_module_version": "1.5.0",
          "state": {
            "_dom_classes": [],
            "_model_module": "@jupyter-widgets/controls",
            "_model_module_version": "1.5.0",
            "_model_name": "HTMLModel",
            "_view_count": null,
            "_view_module": "@jupyter-widgets/controls",
            "_view_module_version": "1.5.0",
            "_view_name": "HTMLView",
            "description": "",
            "description_tooltip": null,
            "layout": "IPY_MODEL_4d2927db33de48e58b791c55b6b08b5d",
            "placeholder": "​",
            "style": "IPY_MODEL_dbb7c9d68b764dc788fc366f4faa4231",
            "value": " 1.34G/1.34G [00:24&lt;00:00, 65.4MB/s]"
          }
        },
        "8c03de02e4cc4bf6b7e95d5be23017a8": {
          "model_module": "@jupyter-widgets/base",
          "model_name": "LayoutModel",
          "model_module_version": "1.2.0",
          "state": {
            "_model_module": "@jupyter-widgets/base",
            "_model_module_version": "1.2.0",
            "_model_name": "LayoutModel",
            "_view_count": null,
            "_view_module": "@jupyter-widgets/base",
            "_view_module_version": "1.2.0",
            "_view_name": "LayoutView",
            "align_content": null,
            "align_items": null,
            "align_self": null,
            "border": null,
            "bottom": null,
            "display": null,
            "flex": null,
            "flex_flow": null,
            "grid_area": null,
            "grid_auto_columns": null,
            "grid_auto_flow": null,
            "grid_auto_rows": null,
            "grid_column": null,
            "grid_gap": null,
            "grid_row": null,
            "grid_template_areas": null,
            "grid_template_columns": null,
            "grid_template_rows": null,
            "height": null,
            "justify_content": null,
            "justify_items": null,
            "left": null,
            "margin": null,
            "max_height": null,
            "max_width": null,
            "min_height": null,
            "min_width": null,
            "object_fit": null,
            "object_position": null,
            "order": null,
            "overflow": null,
            "overflow_x": null,
            "overflow_y": null,
            "padding": null,
            "right": null,
            "top": null,
            "visibility": null,
            "width": null
          }
        },
        "43a4be1e981d4b4d9eb13d1c492a7a2c": {
          "model_module": "@jupyter-widgets/base",
          "model_name": "LayoutModel",
          "model_module_version": "1.2.0",
          "state": {
            "_model_module": "@jupyter-widgets/base",
            "_model_module_version": "1.2.0",
            "_model_name": "LayoutModel",
            "_view_count": null,
            "_view_module": "@jupyter-widgets/base",
            "_view_module_version": "1.2.0",
            "_view_name": "LayoutView",
            "align_content": null,
            "align_items": null,
            "align_self": null,
            "border": null,
            "bottom": null,
            "display": null,
            "flex": null,
            "flex_flow": null,
            "grid_area": null,
            "grid_auto_columns": null,
            "grid_auto_flow": null,
            "grid_auto_rows": null,
            "grid_column": null,
            "grid_gap": null,
            "grid_row": null,
            "grid_template_areas": null,
            "grid_template_columns": null,
            "grid_template_rows": null,
            "height": null,
            "justify_content": null,
            "justify_items": null,
            "left": null,
            "margin": null,
            "max_height": null,
            "max_width": null,
            "min_height": null,
            "min_width": null,
            "object_fit": null,
            "object_position": null,
            "order": null,
            "overflow": null,
            "overflow_x": null,
            "overflow_y": null,
            "padding": null,
            "right": null,
            "top": null,
            "visibility": null,
            "width": null
          }
        },
        "dfedb763806f4077ac271802ba6481aa": {
          "model_module": "@jupyter-widgets/controls",
          "model_name": "DescriptionStyleModel",
          "model_module_version": "1.5.0",
          "state": {
            "_model_module": "@jupyter-widgets/controls",
            "_model_module_version": "1.5.0",
            "_model_name": "DescriptionStyleModel",
            "_view_count": null,
            "_view_module": "@jupyter-widgets/base",
            "_view_module_version": "1.2.0",
            "_view_name": "StyleView",
            "description_width": ""
          }
        },
        "adcdba789d724ace8314fa64fd281182": {
          "model_module": "@jupyter-widgets/base",
          "model_name": "LayoutModel",
          "model_module_version": "1.2.0",
          "state": {
            "_model_module": "@jupyter-widgets/base",
            "_model_module_version": "1.2.0",
            "_model_name": "LayoutModel",
            "_view_count": null,
            "_view_module": "@jupyter-widgets/base",
            "_view_module_version": "1.2.0",
            "_view_name": "LayoutView",
            "align_content": null,
            "align_items": null,
            "align_self": null,
            "border": null,
            "bottom": null,
            "display": null,
            "flex": null,
            "flex_flow": null,
            "grid_area": null,
            "grid_auto_columns": null,
            "grid_auto_flow": null,
            "grid_auto_rows": null,
            "grid_column": null,
            "grid_gap": null,
            "grid_row": null,
            "grid_template_areas": null,
            "grid_template_columns": null,
            "grid_template_rows": null,
            "height": null,
            "justify_content": null,
            "justify_items": null,
            "left": null,
            "margin": null,
            "max_height": null,
            "max_width": null,
            "min_height": null,
            "min_width": null,
            "object_fit": null,
            "object_position": null,
            "order": null,
            "overflow": null,
            "overflow_x": null,
            "overflow_y": null,
            "padding": null,
            "right": null,
            "top": null,
            "visibility": null,
            "width": null
          }
        },
        "7e7c94a4296e43abbeff2bd5d650323f": {
          "model_module": "@jupyter-widgets/controls",
          "model_name": "ProgressStyleModel",
          "model_module_version": "1.5.0",
          "state": {
            "_model_module": "@jupyter-widgets/controls",
            "_model_module_version": "1.5.0",
            "_model_name": "ProgressStyleModel",
            "_view_count": null,
            "_view_module": "@jupyter-widgets/base",
            "_view_module_version": "1.2.0",
            "_view_name": "StyleView",
            "bar_color": null,
            "description_width": ""
          }
        },
        "4d2927db33de48e58b791c55b6b08b5d": {
          "model_module": "@jupyter-widgets/base",
          "model_name": "LayoutModel",
          "model_module_version": "1.2.0",
          "state": {
            "_model_module": "@jupyter-widgets/base",
            "_model_module_version": "1.2.0",
            "_model_name": "LayoutModel",
            "_view_count": null,
            "_view_module": "@jupyter-widgets/base",
            "_view_module_version": "1.2.0",
            "_view_name": "LayoutView",
            "align_content": null,
            "align_items": null,
            "align_self": null,
            "border": null,
            "bottom": null,
            "display": null,
            "flex": null,
            "flex_flow": null,
            "grid_area": null,
            "grid_auto_columns": null,
            "grid_auto_flow": null,
            "grid_auto_rows": null,
            "grid_column": null,
            "grid_gap": null,
            "grid_row": null,
            "grid_template_areas": null,
            "grid_template_columns": null,
            "grid_template_rows": null,
            "height": null,
            "justify_content": null,
            "justify_items": null,
            "left": null,
            "margin": null,
            "max_height": null,
            "max_width": null,
            "min_height": null,
            "min_width": null,
            "object_fit": null,
            "object_position": null,
            "order": null,
            "overflow": null,
            "overflow_x": null,
            "overflow_y": null,
            "padding": null,
            "right": null,
            "top": null,
            "visibility": null,
            "width": null
          }
        },
        "dbb7c9d68b764dc788fc366f4faa4231": {
          "model_module": "@jupyter-widgets/controls",
          "model_name": "DescriptionStyleModel",
          "model_module_version": "1.5.0",
          "state": {
            "_model_module": "@jupyter-widgets/controls",
            "_model_module_version": "1.5.0",
            "_model_name": "DescriptionStyleModel",
            "_view_count": null,
            "_view_module": "@jupyter-widgets/base",
            "_view_module_version": "1.2.0",
            "_view_name": "StyleView",
            "description_width": ""
          }
        }
      }
    }
  },
  "nbformat": 4,
  "nbformat_minor": 0
}